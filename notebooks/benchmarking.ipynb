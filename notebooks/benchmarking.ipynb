{
 "cells": [
  {
   "cell_type": "code",
   "execution_count": 2,
   "id": "dressed-temple",
   "metadata": {
    "tags": []
   },
   "outputs": [],
   "source": [
    "import numpy as np\n",
    "from core import Psi4Model, XYZLogger #, load_xyz\n",
    "import psi4\n",
    "\n",
    "#https://github.com/molmod/molmod\n",
    "from molmod.units import angstrom, debye\n",
    "from molmod.io.xyz import XYZReader\n",
    "\n",
    "import matplotlib.pyplot as plt\n",
    "import os, sys"
   ]
  },
  {
   "cell_type": "code",
   "execution_count": 3,
   "id": "romantic-cambridge",
   "metadata": {},
   "outputs": [],
   "source": [
    "numbers = np.array([1, 1])\n",
    "# De coordinaten die uit de paper zelf komen, ze staan in angstrom\n",
    "positions = np.array([[0.000000000000000e+00, 0.000000000000000e+00, 0.000000000000000e+00],\n",
    "                      [0.734900000000000e+00, 0.000000000000000e+00, 0.000000000000000e+00]])"
   ]
  },
  {
   "cell_type": "code",
   "execution_count": 6,
   "id": "objective-nurse",
   "metadata": {},
   "outputs": [],
   "source": [
    "numbers = np.array([3, 1])\n",
    "# De coordinaten die uit de paper zelf komen, ze staan in angstrom\n",
    "positions = np.array([[0.000000000000000e+00, 0.000000000000000e+00, 0.000000000000000e+00],\n",
    "                      [1.548000000000000e+00, 0.000000000000000e+00, 0.000000000000000e+00]])"
   ]
  },
  {
   "cell_type": "code",
   "execution_count": 7,
   "id": "english-bridges",
   "metadata": {
    "tags": []
   },
   "outputs": [
    {
     "name": "stdout",
     "output_type": "stream",
     "text": [
      "Psi4 Model initiated with method scf and basis set STO-3G\n"
     ]
    }
   ],
   "source": [
    "# Method kan je bv veranderen naar 'pbe0' voor dft berekeningen of 'ccsd' voor coupled cluster, etc...\n",
    "# cores is het aantal cpu cores dat je wil gebruiken\n",
    "# memory je computer geheugen dat je beschikbaar stelt aan psi4\n",
    "model = Psi4Model(method = 'scf', basis = 'STO-3G', psi4_output = 'output.dat', cores=2, memory=2e+09)\n",
    "\n",
    "# Eenmaal het classobject is aangemaakt, kan je nu verschillende keren de compute functie callen.\n",
    "energy = model.compute(numbers, positions, field_type = 'dipole', dipole_strength = [0, 0, 0], charge = 0, forces = False, uhf=False)"
   ]
  },
  {
   "cell_type": "code",
   "execution_count": 23,
   "id": "sacred-spotlight",
   "metadata": {},
   "outputs": [
    {
     "data": {
      "text/plain": [
       "-53.01801776079779"
      ]
     },
     "execution_count": 23,
     "metadata": {},
     "output_type": "execute_result"
    }
   ],
   "source": [
    "energy - model.mol.nuclear_repulsion_energy()"
   ]
  },
  {
   "cell_type": "code",
   "execution_count": 8,
   "id": "stainless-arlington",
   "metadata": {},
   "outputs": [
    {
     "data": {
      "text/plain": [
       "-7.863190101746813"
      ]
     },
     "execution_count": 8,
     "metadata": {},
     "output_type": "execute_result"
    }
   ],
   "source": [
    "energy"
   ]
  },
  {
   "cell_type": "code",
   "execution_count": 51,
   "id": "certain-pharmacology",
   "metadata": {},
   "outputs": [
    {
     "data": {
      "text/plain": [
       "0.720066962403048"
      ]
     },
     "execution_count": 51,
     "metadata": {},
     "output_type": "execute_result"
    }
   ],
   "source": [
    "model.mol.nuclear_repulsion_energy()"
   ]
  },
  {
   "cell_type": "code",
   "execution_count": 16,
   "id": "appropriate-victory",
   "metadata": {},
   "outputs": [],
   "source": [
    "mints = psi4.core.MintsHelper(model.wavefunction)\n",
    "C_occ = np.array(model.wavefunction.Ca())"
   ]
  },
  {
   "cell_type": "code",
   "execution_count": 31,
   "id": "regulated-relation",
   "metadata": {},
   "outputs": [],
   "source": [
    "eri = np.array(mints.mo_eri(model.wavefunction.Ca(),model.wavefunction.Ca(),model.wavefunction.Ca(),model.wavefunction.Ca()))\n",
    "sp_eri = 0.5*np.array(mints.mo_spin_eri(model.wavefunction.Ca(),model.wavefunction.Cb()))"
   ]
  },
  {
   "cell_type": "code",
   "execution_count": 89,
   "id": "higher-clerk",
   "metadata": {},
   "outputs": [],
   "source": [
    "tb_int = 0.5*np.einsum('ijkl->iklj',np.array(mints.ao_eri()))\n",
    "ob_int = np.array(mints.ao_kinetic()) + np.array(mints.ao_potential())"
   ]
  },
  {
   "cell_type": "code",
   "execution_count": 88,
   "id": "automated-payment",
   "metadata": {},
   "outputs": [],
   "source": [
    "mints = psi4.core.MintsHelper(model.wavefunction.basisset())\n",
    "C_occ = np.array(model.wavefunction.Ca())"
   ]
  },
  {
   "cell_type": "code",
   "execution_count": 90,
   "id": "comparative-average",
   "metadata": {},
   "outputs": [],
   "source": [
    "tb_int = np.einsum('ia,jb,ijkl,kc,ld->abcd', C_occ, C_occ, tb_int, C_occ, C_occ, optimize=True)\n",
    "ob_int = np.einsum('ia,il,ld->ad', C_occ, ob_int, C_occ, optimize=True)\n",
    "ob_int = np.where(np.abs(ob_int)>1e-15, ob_int, 0)"
   ]
  },
  {
   "cell_type": "code",
   "execution_count": 92,
   "id": "economic-sport",
   "metadata": {},
   "outputs": [],
   "source": [
    "OB = np.load('../data/integrals/STO-3G_LiH_ob.npy')\n",
    "TB = np.load('../data/integrals/STO-3G_LiH_tb.npy')"
   ]
  },
  {
   "cell_type": "code",
   "execution_count": 24,
   "id": "emotional-cover",
   "metadata": {},
   "outputs": [],
   "source": [
    "OB = np.load('../data/integrals/STO-3G_H2_ob.npy')\n",
    "TB = np.load('../data/integrals/STO-3G_H2_tb.npy')"
   ]
  },
  {
   "cell_type": "code",
   "execution_count": 188,
   "id": "flexible-beads",
   "metadata": {},
   "outputs": [
    {
     "data": {
      "text/plain": [
       "-1.8369920444380115"
      ]
     },
     "execution_count": 188,
     "metadata": {},
     "output_type": "execute_result"
    }
   ],
   "source": [
    "energy - model.mol.nuclear_repulsion_energy()"
   ]
  },
  {
   "cell_type": "markdown",
   "id": "competitive-portal",
   "metadata": {},
   "source": [
    "## Equilibrium geomtries (STO-3G calculated)"
   ]
  },
  {
   "cell_type": "code",
   "execution_count": 27,
   "id": "directed-grounds",
   "metadata": {},
   "outputs": [],
   "source": [
    "numbers = np.array([1, 1])\n",
    "# De coordinaten die uit de paper zelf komen, ze staan in angstrom\n",
    "positions = np.array([[0.000000000000000e+00, 0.000000000000000e+00, 0.000000000000000e+00],\n",
    "                      [0.734000000000000e+00, 0.000000000000000e+00, 0.000000000000000e+00]])"
   ]
  },
  {
   "cell_type": "code",
   "execution_count": 125,
   "id": "accessory-ground",
   "metadata": {},
   "outputs": [],
   "source": [
    "numbers = np.array([3, 1])\n",
    "# De coordinaten die uit de paper zelf komen, ze staan in angstrom\n",
    "positions = np.array([[0.000000000000000e+00, 0.000000000000000e+00, 0.000000000000000e+00],\n",
    "                      [1.548000000000000e+00, 0.000000000000000e+00, 0.000000000000000e+00]])"
   ]
  },
  {
   "cell_type": "code",
   "execution_count": 63,
   "id": "danish-coating",
   "metadata": {},
   "outputs": [],
   "source": [
    "numbers = np.array([6, 6])\n",
    "# De coordinaten die uit de paper zelf komen, ze staan in angstrom\n",
    "positions = np.array([[0.000000000000000e+00, 0.000000000000000e+00, 0.000000000000000e+00],\n",
    "                      [1.260000000000000e+00, 0.000000000000000e+00, 0.000000000000000e+00]])"
   ]
  },
  {
   "cell_type": "code",
   "execution_count": 65,
   "id": "dimensional-upset",
   "metadata": {},
   "outputs": [],
   "source": [
    "numbers = np.array([7, 7])\n",
    "# De coordinaten die uit de paper zelf komen, ze staan in angstrom\n",
    "positions = np.array([[0.000000000000000e+00, 0.000000000000000e+00, 0.000000000000000e+00],\n",
    "                      [1.190000000000000e+00, 0.000000000000000e+00, 0.000000000000000e+00]])"
   ]
  },
  {
   "cell_type": "code",
   "execution_count": 18,
   "id": "palestinian-breakdown",
   "metadata": {},
   "outputs": [],
   "source": [
    "numbers = np.array([6, 1, 1, 1, 1])\n",
    "# De coordinaten die uit de paper zelf komen, ze staan in angstrom\n",
    "positions = np.array([[0.000000000000000e+00, 0.000000000000000e+00, 0.000000000000000e+00],\n",
    "                      [0.640000000000000e+00, 0.640000000000000e+00, 0.640000000000000e+00],\n",
    "                      [-0.640000000000000e+00, -0.640000000000000e+00, 0.640000000000000e+00],\n",
    "                      [-0.640000000000000e+00, 0.640000000000000e+00, -0.640000000000000e+00],\n",
    "                      [0.640000000000000e+00, -0.640000000000000e+00, -0.640000000000000e+00]])"
   ]
  },
  {
   "cell_type": "code",
   "execution_count": 66,
   "id": "former-legislation",
   "metadata": {},
   "outputs": [
    {
     "name": "stdout",
     "output_type": "stream",
     "text": [
      "Psi4 Model initiated with method FCI and basis set STO-3G\n",
      "writing OB integral: ../data/integrals/STO-3G/STO-3G_N2_OB_d1-19_eq1.npy\n",
      "writing TB integral: ../data/integrals/STO-3G/STO-3G_N2_TB_d1-19_eq1.npy\n"
     ]
    },
    {
     "data": {
      "text/plain": [
       "(-107.67737119367379, 21.789649851117648)"
      ]
     },
     "execution_count": 66,
     "metadata": {},
     "output_type": "execute_result"
    }
   ],
   "source": [
    "generate_integrals(numbers, positions, eq=1)"
   ]
  },
  {
   "cell_type": "markdown",
   "id": "twenty-england",
   "metadata": {},
   "source": [
    "## Generate datadictionary"
   ]
  },
  {
   "cell_type": "code",
   "execution_count": 3,
   "id": "hydraulic-premiere",
   "metadata": {},
   "outputs": [],
   "source": [
    "energy_data = np.load('../data/energies/STO-3G_H2_energy.npy')"
   ]
  },
  {
   "cell_type": "code",
   "execution_count": 5,
   "id": "designing-coupon",
   "metadata": {},
   "outputs": [
    {
     "data": {
      "text/plain": [
       "(3, 9)"
      ]
     },
     "execution_count": 5,
     "metadata": {},
     "output_type": "execute_result"
    }
   ],
   "source": [
    "np.shape(energy_data)"
   ]
  },
  {
   "cell_type": "code",
   "execution_count": 2,
   "id": "written-introduction",
   "metadata": {},
   "outputs": [],
   "source": [
    "sto3g_H2 = []\n",
    "energy_data = np.load('../data/energies/STO-3G_H2_energy.npy').transpose()\n",
    "for dat in energy_data:\n",
    "    mol_dict = {'molecule' : 'H2',\n",
    "                'basis' : 'sto3g',\n",
    "                'n_basisfuncs' : 4,\n",
    "                'distance' : dat[0],\n",
    "                'atomstring' : 'H 0.0 0.0 0.0; H 0.0 0.0 %f' % dat[0],\n",
    "                'eq' : False,\n",
    "                'tot_energy' : dat[1],\n",
    "                'nuc_rep_energy' : dat[2],\n",
    "                'n_electrons' : 2}\n",
    "    sto3g_H2.append(mol_dict)\n",
    "sto3g_H2[3]['eq'] = True\n",
    "\n",
    "sto3g_H2_eq = sto3g_H2[3]\n",
    "\n",
    "b631g_H2 = []\n",
    "energy_data = np.load('../data/energies/6-31g_H2_energy.npy').transpose()\n",
    "for dat in energy_data:\n",
    "    mol_dict = {'molecule' : 'H2',\n",
    "                'basis' : '631g',\n",
    "                'n_basisfuncs' : 8,\n",
    "                'distance' : dat[0],\n",
    "                'atomstring' : 'H 0.0 0.0 0.0; H 0.0 0.0 %f' % dat[0],\n",
    "                'eq' : False,\n",
    "                'tot_energy' : dat[1],\n",
    "                'nuc_rep_energy' : dat[2],\n",
    "                'n_electrons' : 2}\n",
    "    b631g_H2.append(mol_dict)\n",
    "b631g_H2[3]['eq'] = True\n",
    "\n",
    "b631g_H2_eq = b631g_H2[3]\n",
    "\n",
    "sto3g_LiH = []\n",
    "energy_data = np.load('../data/energies/STO-3G_LiH_energy.npy').transpose()\n",
    "for dat in energy_data:\n",
    "    mol_dict = {'molecule' : 'LiH',\n",
    "                'basis' : 'sto3g',\n",
    "                'n_basisfuncs' : 12,\n",
    "                'distance' : dat[0],\n",
    "                'atomstring' : 'Li 0.0 0.0 0.0; H 0.0 0.0 %f' % dat[0],\n",
    "                'eq' : False,\n",
    "                'tot_energy' : dat[1],\n",
    "                'nuc_rep_energy' : dat[2],\n",
    "                'n_electrons' : 4}\n",
    "    sto3g_LiH.append(mol_dict)\n",
    "sto3g_LiH[3]['eq'] = True\n",
    "\n",
    "sto3g_LiH_eq = sto3g_LiH[3]\n",
    "\n",
    "b631g_LiH = []\n",
    "energy_data = np.load('../data/energies/6-31g_LiH_energy.npy').transpose()\n",
    "for dat in energy_data:\n",
    "    mol_dict = {'molecule' : 'LiH',\n",
    "                'basis' : '631g',\n",
    "                'n_basisfuncs' : 22,\n",
    "                'distance' : dat[0],\n",
    "                'atomstring' : 'Li 0.0 0.0 0.0; H 0.0 0.0 %f' % dat[0],\n",
    "                'eq' : False,\n",
    "                'tot_energy' : dat[1],\n",
    "                'nuc_rep_energy' : dat[2],\n",
    "                'n_electrons' : 4}\n",
    "    b631g_LiH.append(mol_dict)\n",
    "b631g_LiH[4]['eq'] = True\n",
    "\n",
    "b631g_LiH_eq = b631g_LiH[4]\n",
    "\n",
    "sto3g_C2 = []\n",
    "energy_data = np.load('../data/energies/STO-3G_C2_energy.npy').transpose()\n",
    "for dat in energy_data:\n",
    "    mol_dict = {'molecule' : 'C2',\n",
    "                'basis' : 'sto3g',\n",
    "                'n_basisfuncs' : 20,\n",
    "                'distance' : dat[0],\n",
    "                'atomstring' : 'C 0.0 0.0 0.0; C 0.0 0.0 %f' % dat[0],\n",
    "                'eq' : False,\n",
    "                'tot_energy' : dat[1],\n",
    "                'nuc_rep_energy' : dat[2],\n",
    "                'n_electrons' : 12}\n",
    "    sto3g_C2.append(mol_dict)\n",
    "sto3g_C2[5]['eq'] = True\n",
    "\n",
    "sto3g_C2_eq = sto3g_C2[5]\n",
    "\n",
    "b631g_C2_eq = {'molecule' : 'C2',\n",
    "            'basis' : '631g',\n",
    "            'n_basisfuncs' : 36,\n",
    "            'distance' : 1.261,\n",
    "            'atomstring' : 'C 0.0 0.0 0.0; C 0.0 0.0 1.261',\n",
    "            'eq' : True,\n",
    "            'tot_energy' : -75.623194,\n",
    "            'nuc_rep_energy' : 15.10735891,\n",
    "            'n_electrons' : 12}\n",
    "\n",
    "sto3g_N2 = []\n",
    "energy_data = np.load('../data/energies/STO-3G_N2_energy.npy').transpose()\n",
    "for dat in energy_data:\n",
    "    mol_dict = {'molecule' : 'N2',\n",
    "                'basis' : 'sto3g',\n",
    "                'n_basisfuncs' : 20,\n",
    "                'distance' : dat[0],\n",
    "                'atomstring' : 'N 0.0 0.0 0.0; N 0.0 0.0 %f' % dat[0],\n",
    "                'eq' : False,\n",
    "                'tot_energy' : dat[1],\n",
    "                'nuc_rep_energy' : dat[2],\n",
    "                'n_electrons' : 14}\n",
    "    sto3g_N2.append(mol_dict)\n",
    "sto3g_N2[3]['eq'] = True\n",
    "\n",
    "sto3g_N2_eq = sto3g_N2[3]\n",
    "\n",
    "b631g_N2_eq = {'molecule' : 'N2',\n",
    "            'basis' : '631g',\n",
    "            'n_basisfuncs' : 36,\n",
    "            'distance' : 1.333,\n",
    "            'atomstring' : 'N 0.0 0.0 0.0; N 0.0 0.0 1.1333',\n",
    "            'eq' : True,\n",
    "            'tot_energy' : -109.106354,\n",
    "            'nuc_rep_energy' : 22.87980528,\n",
    "            'n_electrons' : 14}\n",
    "\n",
    "sto3g_CH4_eq = {'molecule' : 'CH4',\n",
    "                'basis' : 'sto3g',\n",
    "                'n_basisfuncs' : 18,\n",
    "                'distance' : 0,\n",
    "                'atomstring' : 'C 0.0 0.0 0.0; H 0.640 0.640 0.640; H -0.640 -0.640 0.640; H -0.640 0.640 -0.640; H 0.640 -0.640 -0.640',\n",
    "                'eq' : True,\n",
    "                'tot_energy' : -39.807003849786966,\n",
    "                'nuc_rep_energy' : 13.211013911010273,\n",
    "                'n_electrons' : 10}"
   ]
  },
  {
   "cell_type": "markdown",
   "id": "understood-aquarium",
   "metadata": {},
   "source": [
    "## Dissociation curve function"
   ]
  },
  {
   "cell_type": "code",
   "execution_count": 80,
   "id": "circular-madagascar",
   "metadata": {},
   "outputs": [],
   "source": [
    "def generate_dissociation_data(steps_neg, steps_pos, stepsize, r_eq, numbers, basisset = 'STO-3G'):\n",
    "    molname = ''\n",
    "    elem_numbers = np.array([16,8,7,6,5,3,1])\n",
    "    elem_names = ['S','O','N','C','B','Li','H']\n",
    "    for i,el in enumerate(elem_numbers):\n",
    "            n_el = len(np.where(numbers == el)[0])\n",
    "            if n_el > 1:\n",
    "                molname += elem_names[i] + str(n_el)\n",
    "            elif n_el != 0:\n",
    "                molname += elem_names[i]\n",
    "    \n",
    "    bondlength = np.arange(-steps_neg*stepsize, steps_pos*stepsize, stepsize) + r_eq\n",
    "    print('saving: ../data/dissociation/' + basisset + '/bondlength_' + molname + '.npy')\n",
    "    np.save('../data/dissociation/' + basisset + '/bondlength_' + molname + '.npy', bondlength)\n",
    "    \n",
    "    energy = np.zeros((len(bondlength)))\n",
    "    positions = np.zeros((2,3))\n",
    "    lot = ['scf', 'FCI', 'CCSD', 'CCSD(T)']\n",
    "    for l in lot:\n",
    "        model = Psi4Model(method = l, basis = basisset, cores=2, memory=2e+09)\n",
    "        for i, bl in enumerate(bondlength):\n",
    "            positions[1,0] = bl\n",
    "            energy[i] = model.compute(numbers, positions, charge = 0)\n",
    "        print('saving: ../data/dissociation/' + basisset + '/' + l + '_energy_' + molname + '.npy')\n",
    "        np.save('../data/dissociation/' + basisset + '/' + l + '_energy_' + molname + '.npy', energy)"
   ]
  },
  {
   "cell_type": "markdown",
   "id": "remarkable-implementation",
   "metadata": {},
   "source": [
    "#### H2"
   ]
  },
  {
   "cell_type": "code",
   "execution_count": 130,
   "id": "associate-friendly",
   "metadata": {},
   "outputs": [
    {
     "name": "stdout",
     "output_type": "stream",
     "text": [
      "saving: ../data/dissociation/STO-3G/bondlength_H2.npy\n",
      "Psi4 Model initiated with method scf and basis set STO-3G\n",
      "saving: ../data/dissociation/STO-3G/scf_energy_H2.npy\n",
      "Psi4 Model initiated with method FCI and basis set STO-3G\n",
      "saving: ../data/dissociation/STO-3G/FCI_energy_H2.npy\n",
      "Psi4 Model initiated with method CCSD and basis set STO-3G\n",
      "saving: ../data/dissociation/STO-3G/CCSD_energy_H2.npy\n",
      "Psi4 Model initiated with method CCSD(T) and basis set STO-3G\n",
      "saving: ../data/dissociation/STO-3G/CCSD(T)_energy_H2.npy\n"
     ]
    }
   ],
   "source": [
    "generate_dissociation_data(steps_neg=10, steps_pos=20, stepsize=0.03, r_eq=0.7349, numbers=np.array([1,1]))"
   ]
  },
  {
   "cell_type": "code",
   "execution_count": 105,
   "id": "speaking-geneva",
   "metadata": {},
   "outputs": [
    {
     "name": "stdout",
     "output_type": "stream",
     "text": [
      "saving: ../data/dissociation/6-31g/bondlength_H2.npy\n",
      "Psi4 Model initiated with method scf and basis set 6-31g\n",
      "saving: ../data/dissociation/6-31g/scf_energy_H2.npy\n",
      "Psi4 Model initiated with method FCI and basis set 6-31g\n",
      "saving: ../data/dissociation/6-31g/FCI_energy_H2.npy\n",
      "Psi4 Model initiated with method CCSD and basis set 6-31g\n",
      "saving: ../data/dissociation/6-31g/CCSD_energy_H2.npy\n",
      "Psi4 Model initiated with method CCSD(T) and basis set 6-31g\n",
      "saving: ../data/dissociation/6-31g/CCSD(T)_energy_H2.npy\n"
     ]
    }
   ],
   "source": [
    "generate_dissociation_data(steps_neg=11, steps_pos=19, stepsize=0.03, r_eq=0.745882, numbers=np.array([1,1]), basisset='6-31g')"
   ]
  },
  {
   "cell_type": "markdown",
   "id": "painful-hurricane",
   "metadata": {},
   "source": [
    "#### LiH"
   ]
  },
  {
   "cell_type": "code",
   "execution_count": 141,
   "id": "threatened-memphis",
   "metadata": {},
   "outputs": [
    {
     "name": "stdout",
     "output_type": "stream",
     "text": [
      "saving: ../data/dissociation/STO-3G/bondlength_LiH.npy\n",
      "Psi4 Model initiated with method scf and basis set STO-3G\n",
      "saving: ../data/dissociation/STO-3G/scf_energy_LiH.npy\n",
      "Psi4 Model initiated with method FCI and basis set STO-3G\n",
      "saving: ../data/dissociation/STO-3G/FCI_energy_LiH.npy\n",
      "Psi4 Model initiated with method CCSD and basis set STO-3G\n",
      "saving: ../data/dissociation/STO-3G/CCSD_energy_LiH.npy\n",
      "Psi4 Model initiated with method CCSD(T) and basis set STO-3G\n",
      "saving: ../data/dissociation/STO-3G/CCSD(T)_energy_LiH.npy\n"
     ]
    }
   ],
   "source": [
    "generate_dissociation_data(steps_neg=10, steps_pos=20, stepsize=0.05, r_eq=1.5475, numbers=np.array([3,1]))"
   ]
  },
  {
   "cell_type": "code",
   "execution_count": 81,
   "id": "unlimited-acoustic",
   "metadata": {},
   "outputs": [
    {
     "name": "stdout",
     "output_type": "stream",
     "text": [
      "saving: ../data/dissociation/6-31g/bondlength_LiH.npy\n",
      "Psi4 Model initiated with method scf and basis set 6-31g\n",
      "saving: ../data/dissociation/6-31g/scf_energy_LiH.npy\n",
      "Psi4 Model initiated with method FCI and basis set 6-31g\n",
      "saving: ../data/dissociation/6-31g/FCI_energy_LiH.npy\n",
      "Psi4 Model initiated with method CCSD and basis set 6-31g\n",
      "saving: ../data/dissociation/6-31g/CCSD_energy_LiH.npy\n",
      "Psi4 Model initiated with method CCSD(T) and basis set 6-31g\n",
      "saving: ../data/dissociation/6-31g/CCSD(T)_energy_LiH.npy\n"
     ]
    }
   ],
   "source": [
    "generate_dissociation_data(steps_neg=12, steps_pos=18, stepsize=0.05, r_eq=1.6721, numbers=np.array([3,1]), basisset='6-31g')"
   ]
  },
  {
   "cell_type": "markdown",
   "id": "ranging-boxing",
   "metadata": {},
   "source": [
    "#### C2"
   ]
  },
  {
   "cell_type": "code",
   "execution_count": 56,
   "id": "uniform-operation",
   "metadata": {},
   "outputs": [
    {
     "name": "stdout",
     "output_type": "stream",
     "text": [
      "saving: ../data/dissociation/STO-3G/bondlength_C2.npy\n",
      "Psi4 Model initiated with method scf and basis set STO-3G\n",
      "saving: ../data/dissociation/STO-3G/scf_energy_C2.npy\n",
      "Psi4 Model initiated with method FCI and basis set STO-3G\n",
      "saving: ../data/dissociation/STO-3G/FCI_energy_C2.npy\n",
      "Psi4 Model initiated with method CCSD and basis set STO-3G\n",
      "saving: ../data/dissociation/STO-3G/CCSD_energy_C2.npy\n",
      "Psi4 Model initiated with method CCSD(T) and basis set STO-3G\n",
      "saving: ../data/dissociation/STO-3G/CCSD(T)_energy_C2.npy\n"
     ]
    }
   ],
   "source": [
    "generate_dissociation_data(steps_neg=15, steps_pos=8, stepsize=0.03, r_eq=1.26, numbers=np.array([6,6]))"
   ]
  },
  {
   "cell_type": "code",
   "execution_count": null,
   "id": "solid-yukon",
   "metadata": {},
   "outputs": [],
   "source": [
    "generate_dissociation_data(steps_neg=15, steps_pos=8, stepsize=0.03, r_eq=1.261, numbers=np.array([6,6]), basisset='6-31g')"
   ]
  },
  {
   "cell_type": "markdown",
   "id": "spanish-infection",
   "metadata": {},
   "source": [
    "#### N2"
   ]
  },
  {
   "cell_type": "code",
   "execution_count": 155,
   "id": "preliminary-mechanism",
   "metadata": {},
   "outputs": [
    {
     "name": "stdout",
     "output_type": "stream",
     "text": [
      "saving: ../data/dissociation/STO-3G/bondlength_N2.npy\n",
      "Psi4 Model initiated with method scf and basis set STO-3G\n",
      "saving: ../data/dissociation/STO-3G/scf_energy_N2.npy\n",
      "Psi4 Model initiated with method FCI and basis set STO-3G\n",
      "saving: ../data/dissociation/STO-3G/FCI_energy_N2.npy\n",
      "Psi4 Model initiated with method CCSD and basis set STO-3G\n",
      "saving: ../data/dissociation/STO-3G/CCSD_energy_N2.npy\n",
      "Psi4 Model initiated with method CCSD(T) and basis set STO-3G\n",
      "saving: ../data/dissociation/STO-3G/CCSD(T)_energy_N2.npy\n"
     ]
    }
   ],
   "source": [
    "generate_dissociation_data(steps_neg=8, steps_pos=17, stepsize=0.05, r_eq=1.1939, numbers=np.array([7,7]))"
   ]
  },
  {
   "cell_type": "markdown",
   "id": "patient-projector",
   "metadata": {},
   "source": [
    "## Generating one- and two-body integrals"
   ]
  },
  {
   "cell_type": "code",
   "execution_count": 19,
   "id": "ceramic-virginia",
   "metadata": {},
   "outputs": [],
   "source": [
    "bondlength = np.load('../data/dissociation/6-31g/bondlength_LiH.npy')"
   ]
  },
  {
   "cell_type": "code",
   "execution_count": 20,
   "id": "sticky-eugene",
   "metadata": {},
   "outputs": [
    {
     "data": {
      "text/plain": [
       "array([1.071, 1.121, 1.171, 1.221, 1.271, 1.321, 1.371, 1.421, 1.471,\n",
       "       1.521, 1.571, 1.621, 1.671, 1.721, 1.771, 1.821, 1.871, 1.921,\n",
       "       1.971, 2.021, 2.071, 2.121, 2.171, 2.221, 2.271, 2.321, 2.371,\n",
       "       2.421, 2.471, 2.521])"
      ]
     },
     "execution_count": 20,
     "metadata": {},
     "output_type": "execute_result"
    }
   ],
   "source": [
    "bondlength"
   ]
  },
  {
   "cell_type": "code",
   "execution_count": 21,
   "id": "judicial-regular",
   "metadata": {},
   "outputs": [
    {
     "data": {
      "text/plain": [
       "array([1.121, 1.271, 1.421, 1.621, 1.671, 1.721, 1.921, 2.071, 2.221])"
      ]
     },
     "execution_count": 21,
     "metadata": {},
     "output_type": "execute_result"
    }
   ],
   "source": [
    "bondlength[[1,4,7,11,12,13,17,20,23]]"
   ]
  },
  {
   "cell_type": "code",
   "execution_count": 226,
   "id": "internal-passage",
   "metadata": {
    "tags": []
   },
   "outputs": [],
   "source": [
    "def generate_integrals(numbers, positions, basisset = 'STO-3G', dist = True, eq = 0):\n",
    "    # Method kan je bv veranderen naar 'pbe0' voor dft berekeningen of 'ccsd' voor coupled cluster, etc...\n",
    "    # cores is het aantal cpu cores dat je wil gebruiken\n",
    "    # memory je computer geheugen dat je beschikbaar stelt aan psi4\n",
    "    model = Psi4Model(method = 'scf', basis = basisset, psi4_output = 'output.dat', cores=2, memory=2e+09)\n",
    "\n",
    "    # Eenmaal het classobject is aangemaakt, kan je nu verschillende keren de compute functie callen.\n",
    "    energy = model.compute(numbers, positions, charge = 0)\n",
    "    \n",
    "    mints = psi4.core.MintsHelper(model.wavefunction.basisset())\n",
    "    \n",
    "    tb_int = np.array(mints.ao_eri())\n",
    "    ob_int = np.array(mints.ao_kinetic()) + np.array(mints.ao_potential())\n",
    "    \n",
    "    molname = ''\n",
    "    elem_numbers = np.array([16,8,7,6,5,3,1])\n",
    "    elem_names = ['S','O','N','C','B','Li','H']\n",
    "    for i,el in enumerate(elem_numbers):\n",
    "            n_el = len(np.where(numbers == el)[0])\n",
    "            if n_el > 1:\n",
    "                molname += elem_names[i] + str(n_el)\n",
    "            elif n_el != 0:\n",
    "                molname += elem_names[i]\n",
    "    \n",
    "    ob_filename = '../data/integrals/' + basisset + '/' + basisset + '_' + molname + '_OB_'\n",
    "    tb_filename = '../data/integrals/' + basisset + '/' + basisset + '_' + molname + '_TB_'\n",
    "    \n",
    "    if dist:\n",
    "        dist = positions[1,0]\n",
    "        ob_filename += 'd' + str(dist).replace('.','-')[:6] + '_'\n",
    "        tb_filename += 'd' + str(dist).replace('.','-')[:6] + '_'\n",
    "    \n",
    "    ob_filename += 'eq' + str(eq) + '.npy'\n",
    "    tb_filename += 'eq' + str(eq) + '.npy'\n",
    "    \n",
    "    print('writing OB integral: ' + ob_filename)\n",
    "    np.save(ob_filename, ob_int)\n",
    "    print('writing TB integral: ' + tb_filename)\n",
    "    np.save(tb_filename, tb_int)\n",
    "    \n",
    "    return energy, model.mol.nuclear_repulsion_energy()"
   ]
  },
  {
   "cell_type": "code",
   "execution_count": 19,
   "id": "imperial-humanitarian",
   "metadata": {},
   "outputs": [
    {
     "name": "stdout",
     "output_type": "stream",
     "text": [
      "Psi4 Model initiated with method scf and basis set STO-3G\n"
     ]
    }
   ],
   "source": [
    "numbers = np.array([6, 6])\n",
    "# De coordinaten die uit de paper zelf komen, ze staan in angstrom\n",
    "positions = np.array([[0.000000000000000e+00, 0.000000000000000e+00, 0.000000000000000e+00],\n",
    "                      [1.261000000000000e+00, 0.000000000000000e+00, 0.000000000000000e+00]])\n",
    "\n",
    "\n",
    "model = Psi4Model(method = 'scf', basis = 'STO-3G', psi4_output = 'output.dat', cores=2, memory=2e+09)\n",
    "# Eenmaal het classobject is aangemaakt, kan je nu verschillende keren de compute functie callen.\n",
    "HF_energy = model.compute(numbers, positions, charge = 0)\n",
    "E_nr = model.mol.nuclear_repulsion_energy()\n",
    "energies = np.array([1.261, -75.623194, E_nr])\n",
    "np.save('../data/energies/6-31g_C2_energy.npy', energies)"
   ]
  },
  {
   "cell_type": "code",
   "execution_count": 20,
   "id": "stable-naples",
   "metadata": {},
   "outputs": [
    {
     "name": "stdout",
     "output_type": "stream",
     "text": [
      "Psi4 Model initiated with method scf and basis set STO-3G\n"
     ]
    }
   ],
   "source": [
    "numbers = np.array([7, 7])\n",
    "# De coordinaten die uit de paper zelf komen, ze staan in angstrom\n",
    "positions = np.array([[0.000000000000000e+00, 0.000000000000000e+00, 0.000000000000000e+00],\n",
    "                      [1.133300000000000e+00, 0.000000000000000e+00, 0.000000000000000e+00]])\n",
    "\n",
    "model = Psi4Model(method = 'scf', basis = 'STO-3G', psi4_output = 'output.dat', cores=2, memory=2e+09)\n",
    "# Eenmaal het classobject is aangemaakt, kan je nu verschillende keren de compute functie callen.\n",
    "HF_energy = model.compute(numbers, positions, charge = 0)\n",
    "E_nr = model.mol.nuclear_repulsion_energy()\n",
    "energies = np.array([1.133, -109.106354, E_nr])\n",
    "np.save('../data/energies/6-31g_N2_energy.npy', energies)"
   ]
  },
  {
   "cell_type": "code",
   "execution_count": 14,
   "id": "possible-cloud",
   "metadata": {
    "scrolled": true,
    "tags": []
   },
   "outputs": [
    {
     "name": "stdout",
     "output_type": "stream",
     "text": [
      "Psi4 Model initiated with method FCI and basis set STO-3G\n",
      "Psi4 Model initiated with method FCI and basis set STO-3G\n",
      "Psi4 Model initiated with method FCI and basis set STO-3G\n",
      "Psi4 Model initiated with method FCI and basis set STO-3G\n",
      "Psi4 Model initiated with method FCI and basis set STO-3G\n",
      "Psi4 Model initiated with method FCI and basis set STO-3G\n",
      "Psi4 Model initiated with method FCI and basis set STO-3G\n",
      "Psi4 Model initiated with method FCI and basis set STO-3G\n",
      "Psi4 Model initiated with method FCI and basis set STO-3G\n"
     ]
    }
   ],
   "source": [
    "numbers = np.array([1, 1])\n",
    "# De coordinaten die uit de paper zelf komen, ze staan in angstrom\n",
    "positions = np.array([[0.000000000000000e+00, 0.000000000000000e+00, 0.000000000000000e+00],\n",
    "                      [0.734000000000000e+00, 0.000000000000000e+00, 0.000000000000000e+00]])\n",
    "\n",
    "# selecting a subset of the bondlengths\n",
    "bondlength = np.load('../data/dissociation/STO-3G/bondlength_H2.npy')\n",
    "bondlength = bondlength[[1,5,9,10,11,14,17,22,25]]\n",
    "energies = np.zeros((3,len(bondlength)))\n",
    "for i,bl in enumerate(bondlength):\n",
    "    positions[1,0] = bl\n",
    "    model = Psi4Model(method = 'FCI', basis = 'STO-3G', psi4_output = 'output.dat', cores=2, memory=2e+09)\n",
    "    # Eenmaal het classobject is aangemaakt, kan je nu verschillende keren de compute functie callen.\n",
    "    E_tot = model.compute(numbers, positions, charge = 0)\n",
    "    energies[0,i] = bl\n",
    "    energies[1,i] = E_tot\n",
    "    energies[2,i] = model.mol.nuclear_repulsion_energy()\n",
    "np.save('../data/energies/STO-3G_H2_energy.npy', energies)"
   ]
  },
  {
   "cell_type": "code",
   "execution_count": 13,
   "id": "accredited-exercise",
   "metadata": {
    "scrolled": true,
    "tags": []
   },
   "outputs": [
    {
     "name": "stdout",
     "output_type": "stream",
     "text": [
      "Psi4 Model initiated with method FCI and basis set 6-31g\n",
      "Psi4 Model initiated with method FCI and basis set 6-31g\n",
      "Psi4 Model initiated with method FCI and basis set 6-31g\n",
      "Psi4 Model initiated with method FCI and basis set 6-31g\n",
      "Psi4 Model initiated with method FCI and basis set 6-31g\n",
      "Psi4 Model initiated with method FCI and basis set 6-31g\n",
      "Psi4 Model initiated with method FCI and basis set 6-31g\n",
      "Psi4 Model initiated with method FCI and basis set 6-31g\n",
      "Psi4 Model initiated with method FCI and basis set 6-31g\n"
     ]
    }
   ],
   "source": [
    "numbers = np.array([1, 1])\n",
    "# De coordinaten die uit de paper zelf komen, ze staan in angstrom\n",
    "positions = np.array([[0.000000000000000e+00, 0.000000000000000e+00, 0.000000000000000e+00],\n",
    "                      [0.734000000000000e+00, 0.000000000000000e+00, 0.000000000000000e+00]])\n",
    "\n",
    "# selecting a subset of the bondlengths\n",
    "bondlength = np.load('../data/dissociation/6-31g/bondlength_H2.npy')\n",
    "bondlength = bondlength[[1,4,7,11,12,13,17,20,23]]\n",
    "energies = np.zeros((3,len(bondlength)))\n",
    "for i,bl in enumerate(bondlength):\n",
    "    positions[1,0] = bl\n",
    "    model = Psi4Model(method = 'FCI', basis = '6-31g', psi4_output = 'output.dat', cores=2, memory=2e+09)\n",
    "    # Eenmaal het classobject is aangemaakt, kan je nu verschillende keren de compute functie callen.\n",
    "    E_tot = model.compute(numbers, positions, charge = 0)\n",
    "    energies[0,i] = bl\n",
    "    energies[1,i] = E_tot\n",
    "    energies[2,i] = model.mol.nuclear_repulsion_energy()\n",
    "np.save('../data/energies/6-31g_H2_energy.npy', energies)"
   ]
  },
  {
   "cell_type": "code",
   "execution_count": 12,
   "id": "czech-continent",
   "metadata": {
    "scrolled": true,
    "tags": []
   },
   "outputs": [
    {
     "name": "stdout",
     "output_type": "stream",
     "text": [
      "Psi4 Model initiated with method FCI and basis set STO-3G\n",
      "Psi4 Model initiated with method FCI and basis set STO-3G\n",
      "Psi4 Model initiated with method FCI and basis set STO-3G\n",
      "Psi4 Model initiated with method FCI and basis set STO-3G\n",
      "Psi4 Model initiated with method FCI and basis set STO-3G\n",
      "Psi4 Model initiated with method FCI and basis set STO-3G\n",
      "Psi4 Model initiated with method FCI and basis set STO-3G\n",
      "Psi4 Model initiated with method FCI and basis set STO-3G\n",
      "Psi4 Model initiated with method FCI and basis set STO-3G\n"
     ]
    }
   ],
   "source": [
    "numbers = np.array([3, 1])\n",
    "# De coordinaten die uit de paper zelf komen, ze staan in angstrom\n",
    "positions = np.array([[0.000000000000000e+00, 0.000000000000000e+00, 0.000000000000000e+00],\n",
    "                      [1.548000000000000e+00, 0.000000000000000e+00, 0.000000000000000e+00]])\n",
    "\n",
    "# selecting a subset of the bondlengths\n",
    "bondlength = np.load('../data/dissociation/STO-3G/bondlength_LiH.npy')\n",
    "bondlength = bondlength[[1,5,9,10,11,14,17,22,25]]\n",
    "energies = np.zeros((3,len(bondlength)))\n",
    "for i,bl in enumerate(bondlength):\n",
    "    positions[1,0] = bl\n",
    "    model = Psi4Model(method = 'FCI', basis = 'STO-3G', psi4_output = 'output.dat', cores=2, memory=2e+09)\n",
    "    # Eenmaal het classobject is aangemaakt, kan je nu verschillende keren de compute functie callen.\n",
    "    E_tot = model.compute(numbers, positions, charge = 0)\n",
    "    energies[0,i] = bl\n",
    "    energies[1,i] = E_tot\n",
    "    energies[2,i] = model.mol.nuclear_repulsion_energy()\n",
    "np.save('../data/energies/STO-3G_LiH_energy.npy', energies)"
   ]
  },
  {
   "cell_type": "code",
   "execution_count": 82,
   "id": "ahead-finance",
   "metadata": {
    "scrolled": true,
    "tags": []
   },
   "outputs": [
    {
     "name": "stdout",
     "output_type": "stream",
     "text": [
      "Psi4 Model initiated with method FCI and basis set 6-31g\n",
      "Psi4 Model initiated with method FCI and basis set 6-31g\n",
      "Psi4 Model initiated with method FCI and basis set 6-31g\n",
      "Psi4 Model initiated with method FCI and basis set 6-31g\n",
      "Psi4 Model initiated with method FCI and basis set 6-31g\n",
      "Psi4 Model initiated with method FCI and basis set 6-31g\n",
      "Psi4 Model initiated with method FCI and basis set 6-31g\n",
      "Psi4 Model initiated with method FCI and basis set 6-31g\n",
      "Psi4 Model initiated with method FCI and basis set 6-31g\n"
     ]
    }
   ],
   "source": [
    "numbers = np.array([3, 1])\n",
    "# De coordinaten die uit de paper zelf komen, ze staan in angstrom\n",
    "positions = np.array([[0.000000000000000e+00, 0.000000000000000e+00, 0.000000000000000e+00],\n",
    "                      [1.548000000000000e+00, 0.000000000000000e+00, 0.000000000000000e+00]])\n",
    "\n",
    "# selecting a subset of the bondlengths\n",
    "bondlength = np.load('../data/dissociation/6-31g/bondlength_LiH.npy')\n",
    "bondlength = bondlength[[1,4,7,11,12,13,17,20,23]]\n",
    "energies = np.zeros((3,len(bondlength)))\n",
    "for i,bl in enumerate(bondlength):\n",
    "    positions[1,0] = bl\n",
    "    model = Psi4Model(method = 'FCI', basis = '6-31g', psi4_output = 'output.dat', cores=2, memory=2e+09)\n",
    "    # Eenmaal het classobject is aangemaakt, kan je nu verschillende keren de compute functie callen.\n",
    "    E_tot = model.compute(numbers, positions, charge = 0)\n",
    "    energies[0,i] = bl\n",
    "    energies[1,i] = E_tot\n",
    "    energies[2,i] = model.mol.nuclear_repulsion_energy()\n",
    "np.save('../data/energies/6-31g_LiH_energy.npy', energies)"
   ]
  },
  {
   "cell_type": "code",
   "execution_count": 16,
   "id": "contrary-friendly",
   "metadata": {
    "scrolled": true,
    "tags": []
   },
   "outputs": [
    {
     "name": "stdout",
     "output_type": "stream",
     "text": [
      "Psi4 Model initiated with method FCI and basis set STO-3G\n",
      "Psi4 Model initiated with method FCI and basis set STO-3G\n",
      "Psi4 Model initiated with method FCI and basis set STO-3G\n",
      "Psi4 Model initiated with method FCI and basis set STO-3G\n",
      "Psi4 Model initiated with method FCI and basis set STO-3G\n",
      "Psi4 Model initiated with method FCI and basis set STO-3G\n",
      "Psi4 Model initiated with method FCI and basis set STO-3G\n",
      "Psi4 Model initiated with method FCI and basis set STO-3G\n"
     ]
    }
   ],
   "source": [
    "numbers = np.array([6, 6])\n",
    "# De coordinaten die uit de paper zelf komen, ze staan in angstrom\n",
    "positions = np.array([[0.000000000000000e+00, 0.000000000000000e+00, 0.000000000000000e+00],\n",
    "                      [1.260000000000000e+00, 0.000000000000000e+00, 0.000000000000000e+00]])\n",
    "\n",
    "# selecting a subset of the bondlengths\n",
    "bondlength = np.load('../data/dissociation/STO-3G/bondlength_C2.npy')\n",
    "bondlength = bondlength[[5,7,9,11,14,15,16,22]]\n",
    "energies = np.zeros((3,len(bondlength)))\n",
    "for i,bl in enumerate(bondlength):\n",
    "    positions[1,0] = bl\n",
    "    model = Psi4Model(method = 'FCI', basis = 'STO-3G', psi4_output = 'output.dat', cores=2, memory=2e+09)\n",
    "    # Eenmaal het classobject is aangemaakt, kan je nu verschillende keren de compute functie callen.\n",
    "    E_tot = model.compute(numbers, positions, charge = 0)\n",
    "    energies[0,i] = bl\n",
    "    energies[1,i] = E_tot\n",
    "    energies[2,i] = model.mol.nuclear_repulsion_energy()\n",
    "np.save('../data/energies/STO-3G_C2_energy.npy', energies)"
   ]
  },
  {
   "cell_type": "code",
   "execution_count": 17,
   "id": "joint-founder",
   "metadata": {
    "scrolled": true,
    "tags": []
   },
   "outputs": [
    {
     "name": "stdout",
     "output_type": "stream",
     "text": [
      "Psi4 Model initiated with method FCI and basis set STO-3G\n",
      "Psi4 Model initiated with method FCI and basis set STO-3G\n",
      "Psi4 Model initiated with method FCI and basis set STO-3G\n",
      "Psi4 Model initiated with method FCI and basis set STO-3G\n",
      "Psi4 Model initiated with method FCI and basis set STO-3G\n",
      "Psi4 Model initiated with method FCI and basis set STO-3G\n",
      "Psi4 Model initiated with method FCI and basis set STO-3G\n",
      "Psi4 Model initiated with method FCI and basis set STO-3G\n",
      "Psi4 Model initiated with method FCI and basis set STO-3G\n"
     ]
    }
   ],
   "source": [
    "numbers = np.array([7, 7])\n",
    "# De coordinaten die uit de paper zelf komen, ze staan in angstrom\n",
    "positions = np.array([[0.000000000000000e+00, 0.000000000000000e+00, 0.000000000000000e+00],\n",
    "                      [1.190000000000000e+00, 0.000000000000000e+00, 0.000000000000000e+00]])\n",
    "\n",
    "# selecting a subset of the bondlengths\n",
    "bondlength = np.load('../data/dissociation/STO-3G/bondlength_N2.npy')\n",
    "bondlength = bondlength[[1,4,7,8,9,12,15,17,20]]\n",
    "energies = np.zeros((3,len(bondlength)))\n",
    "for i,bl in enumerate(bondlength):\n",
    "    positions[1,0] = bl\n",
    "    model = Psi4Model(method = 'FCI', basis = 'STO-3G', psi4_output = 'output.dat', cores=2, memory=2e+09)\n",
    "    # Eenmaal het classobject is aangemaakt, kan je nu verschillende keren de compute functie callen.\n",
    "    E_tot = model.compute(numbers, positions, charge = 0)\n",
    "    energies[0,i] = bl\n",
    "    energies[1,i] = E_tot\n",
    "    energies[2,i] = model.mol.nuclear_repulsion_energy()\n",
    "np.save('../data/energies/STO-3G_N2_energy.npy', energies)"
   ]
  }
 ],
 "metadata": {
  "kernelspec": {
   "display_name": "Python 3",
   "language": "python",
   "name": "python3"
  },
  "language_info": {
   "codemirror_mode": {
    "name": "ipython",
    "version": 3
   },
   "file_extension": ".py",
   "mimetype": "text/x-python",
   "name": "python",
   "nbconvert_exporter": "python",
   "pygments_lexer": "ipython3",
   "version": "3.7.9"
  }
 },
 "nbformat": 4,
 "nbformat_minor": 5
}
