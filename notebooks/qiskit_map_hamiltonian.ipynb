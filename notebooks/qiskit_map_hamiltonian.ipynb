{
 "cells": [
  {
   "cell_type": "code",
   "execution_count": null,
   "metadata": {},
   "outputs": [],
   "source": [
    "# Import netket library\n",
    "import netket as nk\n",
    "from qiskit.chemistry import FermionicOperator\n",
    "# Helper libraries\n",
    "import numpy as np\n",
    "import itertools\n",
    "import matplotlib.pyplot as plt"
   ]
  },
  {
   "cell_type": "code",
   "execution_count": 16,
   "metadata": {},
   "outputs": [],
   "source": [
    "#H2\n",
    "OB = np.load('../data/integrals/STO-3G/STO-3G_H2_OB_d0-7339_eq1.npy')\n",
    "TB = np.load('../data/integrals/STO-3G/STO-3G_H2_TB_d0-7339_eq1.npy')"
   ]
  },
  {
   "cell_type": "code",
   "execution_count": 21,
   "metadata": {},
   "outputs": [],
   "source": [
    "#LiH\n",
    "OB = np.load('../data/integrals/STO-3G/STO-3G_LiH_OB_d1-548_eq1.npy')\n",
    "TB = np.load('../data/integrals/STO-3G/STO-3G_LiH_TB_d1-548_eq1.npy')"
   ]
  },
  {
   "cell_type": "code",
   "execution_count": 17,
   "metadata": {},
   "outputs": [
    {
     "output_type": "execute_result",
     "data": {
      "text/plain": [
       "(2, 2, 2, 2)"
      ]
     },
     "metadata": {},
     "execution_count": 17
    }
   ],
   "source": [
    "TB.shape"
   ]
  },
  {
   "cell_type": "code",
   "execution_count": null,
   "metadata": {},
   "outputs": [],
   "source": [
    "#N2\n",
    "OB_n2 = np.load('../data/integrals/STO-3G/STO-3G_N2_OB_d1-19_eq1.npy')\n",
    "TB_n2 = np.load('../data/integrals/STO-3G/STO-3G_N2_TB_d1-19_eq1.npy')"
   ]
  },
  {
   "cell_type": "code",
   "execution_count": null,
   "metadata": {},
   "outputs": [],
   "source": [
    "#C2\n",
    "OB = np.load('../data/integrals/STO-3G/STO-3G_C2_OB_d1-26_eq1.npy')\n",
    "TB = np.load('../data/integrals/STO-3G/STO-3G_C2_TB_d1-26_eq1.npy')"
   ]
  },
  {
   "cell_type": "code",
   "execution_count": 23,
   "metadata": {},
   "outputs": [
    {
     "output_type": "stream",
     "name": "stdout",
     "text": [
      "Exact ground state energy = [-6.29466025]\n"
     ]
    }
   ],
   "source": [
    "FerOp = FermionicOperator(OB, TB)\n",
    "#FerOp = FerOp.fermion_mode_elimination([9])\n",
    "mapping = FerOp.mapping('jordan_wigner')\n",
    "weights = [w[0] for w in mapping.paulis]\n",
    "operators = [w[1].to_label() for w in mapping.paulis]\n",
    "ha = nk.operator.PauliStrings(operators, weights)\n",
    "#print(ha.to_sparse())\n",
    "res = nk.exact.lanczos_ed(ha, k=1, compute_eigenvectors=False)\n",
    "print(\"Exact ground state energy = {}\".format(res))"
   ]
  },
  {
   "cell_type": "code",
   "execution_count": 20,
   "metadata": {},
   "outputs": [
    {
     "output_type": "stream",
     "name": "stdout",
     "text": [
      "  (3, 3)\t(1+0j)\n  (5, 5)\t(1+0j)\n  (6, 6)\t(1+0j)\n  (9, 9)\t(1+0j)\n  (10, 10)\t(1+0j)\n  (12, 12)\t(1+0j)\n"
     ]
    }
   ],
   "source": [
    "P_op = ['IIII', 'ZZII', 'ZIZI', 'IZZI', 'ZIIZ', 'IZIZ', 'IIZZ', 'ZZZZ']\n",
    "P_w = [3/8, -1/8, -1/8, -1/8, -1/8, -1/8, -1/8, 3/8]\n",
    "P = nk.operator.PauliStrings(P_op, P_w)\n",
    "print(P.to_sparse())"
   ]
  },
  {
   "cell_type": "code",
   "execution_count": 14,
   "metadata": {},
   "outputs": [
    {
     "output_type": "error",
     "ename": "ValueError",
     "evalue": "matmul: Input operand 1 has a mismatch in its core dimension 0, with gufunc signature (n?,k),(k,m?)->(n?,m?) (size 64 is different from 16)",
     "traceback": [
      "\u001b[0;31m---------------------------------------------------------------------------\u001b[0m",
      "\u001b[0;31mValueError\u001b[0m                                Traceback (most recent call last)",
      "\u001b[0;32m<ipython-input-14-698bad949065>\u001b[0m in \u001b[0;36m<module>\u001b[0;34m\u001b[0m\n\u001b[0;32m----> 1\u001b[0;31m \u001b[0mP\u001b[0m\u001b[0;34m.\u001b[0m\u001b[0mto_dense\u001b[0m\u001b[0;34m(\u001b[0m\u001b[0;34m)\u001b[0m\u001b[0;34m.\u001b[0m\u001b[0mconjugate\u001b[0m\u001b[0;34m(\u001b[0m\u001b[0;34m)\u001b[0m\u001b[0;34m.\u001b[0m\u001b[0mtranspose\u001b[0m\u001b[0;34m(\u001b[0m\u001b[0;34m)\u001b[0m \u001b[0;34m@\u001b[0m \u001b[0mha\u001b[0m\u001b[0;34m.\u001b[0m\u001b[0mto_dense\u001b[0m\u001b[0;34m(\u001b[0m\u001b[0;34m)\u001b[0m \u001b[0;34m@\u001b[0m \u001b[0mP\u001b[0m\u001b[0;34m.\u001b[0m\u001b[0mto_dense\u001b[0m\u001b[0;34m(\u001b[0m\u001b[0;34m)\u001b[0m\u001b[0;34m\u001b[0m\u001b[0;34m\u001b[0m\u001b[0m\n\u001b[0m",
      "\u001b[0;31mValueError\u001b[0m: matmul: Input operand 1 has a mismatch in its core dimension 0, with gufunc signature (n?,k),(k,m?)->(n?,m?) (size 64 is different from 16)"
     ]
    }
   ],
   "source": [
    "P.to_dense().conjugate().transpose() @ ha.to_dense() @ P.to_dense()"
   ]
  },
  {
   "cell_type": "code",
   "execution_count": null,
   "metadata": {},
   "outputs": [],
   "source": [
    "for perm in itertools.permutations('ijkl'):\n",
    "    #H2\n",
    "    OB = np.load('../data/integrals/STO-3G/STO-3G_H2_OB_d0-7339_eq1.npy')\n",
    "    TB = np.load('../data/integrals/STO-3G/STO-3G_H2_TB_d0-7339_eq1.npy')\n",
    "    TB = np.einsum('ijkl->' + ''.join(perm), TB)\n",
    "    FerOp = FermionicOperator(OB, TB)\n",
    "    weights = [w[0].real for w in FerOp.mapping('jordan_wigner').paulis]\n",
    "    operators = [w[1].to_label() for w in FerOp.mapping('jordan_wigner').paulis]\n",
    "    ha = nk.operator.PauliStrings(operators, weights)\n",
    "    res = nk.exact.lanczos_ed(ha, k=2, compute_eigenvectors=False)\n",
    "    print(\"Exact ground state energy (switch {})= {}\".format(''.join(perm), res))"
   ]
  },
  {
   "cell_type": "code",
   "execution_count": null,
   "metadata": {},
   "outputs": [],
   "source": []
  }
 ],
 "metadata": {
  "kernelspec": {
   "name": "python392jvsc74a57bd0225c6ae3feca9682b152fa264f409f521bf349dd85f1c2ff790c6bd585599203",
   "display_name": "Python 3.9.2 64-bit ('nk3a': conda)"
  },
  "language_info": {
   "codemirror_mode": {
    "name": "ipython",
    "version": 3
   },
   "file_extension": ".py",
   "mimetype": "text/x-python",
   "name": "python",
   "nbconvert_exporter": "python",
   "pygments_lexer": "ipython3",
   "version": "3.9.2"
  },
  "metadata": {
   "interpreter": {
    "hash": "225c6ae3feca9682b152fa264f409f521bf349dd85f1c2ff790c6bd585599203"
   }
  }
 },
 "nbformat": 4,
 "nbformat_minor": 2
}