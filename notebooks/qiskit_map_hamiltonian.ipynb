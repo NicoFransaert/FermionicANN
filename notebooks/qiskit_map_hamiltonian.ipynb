{
 "cells": [
  {
   "cell_type": "code",
   "execution_count": 1,
   "metadata": {},
   "outputs": [
    {
     "output_type": "stream",
     "name": "stderr",
     "text": [
      "WARNING:absl:No GPU/TPU found, falling back to CPU. (Set TF_CPP_MIN_LOG_LEVEL=0 and rerun for more info.)\n",
      "/Users/yapple/.pyenv/versions/miniconda3-4.7.12/envs/nk3a/lib/python3.9/site-packages/qiskit/chemistry/__init__.py:170: DeprecationWarning: The package qiskit.chemistry is deprecated. It was moved/refactored to qiskit_nature (pip install qiskit-nature). For more information see <https://github.com/Qiskit/qiskit-aqua/blob/master/README.md#migration-guide>\n",
      "  warn_package('chemistry', 'qiskit_nature', 'qiskit-nature')\n"
     ]
    }
   ],
   "source": [
    "# Import netket library\n",
    "import netket as nk\n",
    "from qiskit.chemistry import FermionicOperator\n",
    "# Helper libraries\n",
    "import numpy as np\n",
    "import itertools\n",
    "import matplotlib.pyplot as plt"
   ]
  },
  {
   "cell_type": "code",
   "execution_count": 105,
   "metadata": {},
   "outputs": [],
   "source": [
    "##test\n",
    "#OB = np.load('../data/integrals/one_body.npy')\n",
    "#TB = np.load('../data/integrals/two_body.npy')"
   ]
  },
  {
   "cell_type": "code",
   "execution_count": 109,
   "metadata": {},
   "outputs": [],
   "source": [
    "#H2\n",
    "OB = np.load('../data/integrals/STO-3G/STO-3G_H2_OB_d0-734_eq1.npy')\n",
    "TB = np.load('../data/integrals/STO-3G/STO-3G_H2_TB_d0-734_eq1.npy')"
   ]
  },
  {
   "cell_type": "code",
   "execution_count": 107,
   "metadata": {},
   "outputs": [],
   "source": [
    "#LiH\n",
    "OB = np.load('../data/integrals/STO-3G/STO-3G_LiH_OB_d1-548_eq1.npy')\n",
    "TB = np.load('../data/integrals/STO-3G/STO-3G_LiH_TB_d1-548_eq1.npy')"
   ]
  },
  {
   "cell_type": "code",
   "execution_count": 127,
   "metadata": {},
   "outputs": [],
   "source": [
    "#N2\n",
    "OB_n2 = np.load('../data/integrals/STO-3G/STO-3G_N2_OB_d1-19_eq1.npy')\n",
    "TB_n2 = np.load('../data/integrals/STO-3G/STO-3G_N2_TB_d1-19_eq1.npy')"
   ]
  },
  {
   "cell_type": "code",
   "execution_count": 128,
   "metadata": {},
   "outputs": [],
   "source": [
    "#C2\n",
    "OB = np.load('../data/integrals/STO-3G/STO-3G_C2_OB_d1-26_eq1.npy')\n",
    "TB = np.load('../data/integrals/STO-3G/STO-3G_C2_TB_d1-26_eq1.npy')"
   ]
  },
  {
   "cell_type": "code",
   "execution_count": 122,
   "metadata": {},
   "outputs": [],
   "source": [
    "FerOp = FermionicOperator(OB, TB)\n",
    "FerOp = FerOp.fermion_mode_elimination([9])"
   ]
  },
  {
   "cell_type": "code",
   "execution_count": 123,
   "metadata": {},
   "outputs": [],
   "source": [
    "mapping = FerOp.mapping('jordan_wigner')\n",
    "weights = [w[0] for w in mapping.paulis]\n",
    "operators = [w[1].to_label() for w in mapping.paulis]"
   ]
  },
  {
   "cell_type": "code",
   "execution_count": 124,
   "metadata": {},
   "outputs": [
    {
     "output_type": "stream",
     "name": "stdout",
     "text": [
      "  (0, 135)\t(-0.01931894643084128+0j)\n  (0, 135)\t(0.0012661378732070278+0j)\n  (0, 135)\t(0.0012661378732070278+0j)\n  (0, 135)\t(0.016786670684427216+0j)\n  (0, 43)\t(-0.005175396773550693+0j)\n  (0, 43)\t(0.0003705044732121819+0j)\n  (0, 43)\t(0.0003705044732121819+0j)\n  (0, 43)\t(0.0044343878271263255+0j)\n  (0, 75)\t(-0.031058691971704473+0j)\n  (0, 75)\t(0.001997964517559383+0j)\n  (0, 75)\t(0.001997964517559383+0j)\n  (0, 75)\t(0.027062762936585688+0j)\n  (0, 267)\t(0.030700514110835173+0j)\n  (0, 267)\t(-0.0019101013592236322+0j)\n  (0, 267)\t(-0.0019101013592236322+0j)\n  (0, 267)\t(-0.026880311392387904+0j)\n  (0, 99)\t(-0.011667593522957573+0j)\n  (0, 99)\t(-0.0006419173442520242+0j)\n  (0, 99)\t(-0.0006419173442520242+0j)\n  (0, 99)\t(0.012951428211461623+0j)\n  (0, 291)\t(-0.0005711439005222753+0j)\n  (0, 291)\t(0.0010715598297490244+0j)\n  (0, 291)\t(0.0010715598297490244+0j)\n  (0, 291)\t(-0.001571975758975774+0j)\n  (0, 323)\t(0.0007263997229971257+0j)\n  :\t:\n  (511, 157)\t(0.0019979645175593756+0j)\n  (511, 339)\t(-0.01197602554096158+0j)\n  (511, 339)\t(0.006514376066905415+0j)\n  (511, 339)\t(0.006514376066905415+0j)\n  (511, 339)\t(-0.0010527265928492544+0j)\n  (511, 307)\t(0.051295554975430965+0j)\n  (511, 307)\t(-0.026779058392915146+0j)\n  (511, 307)\t(-0.026779058392915146+0j)\n  (511, 307)\t(0.0022625618103993246+0j)\n  (511, 115)\t(0.019785582249119395+0j)\n  (511, 115)\t(-0.022537711205307356+0j)\n  (511, 115)\t(-0.022537711205307356+0j)\n  (511, 115)\t(0.02528984016149529+0j)\n  (511, 283)\t(0.03483947924206147+0j)\n  (511, 283)\t(-0.01678667068442722+0j)\n  (511, 283)\t(-0.01678667068442722+0j)\n  (511, 283)\t(-0.0012661378732070274+0j)\n  (511, 91)\t(-0.0013993065112727606+0j)\n  (511, 91)\t(0.0013993065112727545+0j)\n  (511, 59)\t(0.007042130634825412+0j)\n  (511, 59)\t(-0.00704213063482546+0j)\n  (511, 151)\t(-0.055670724143999414+0j)\n  (511, 151)\t(0.026880311392387897+0j)\n  (511, 151)\t(0.026880311392387897+0j)\n  (511, 151)\t(0.0019101013592236209+0j)\n"
     ]
    }
   ],
   "source": [
    "ha = nk.operator.PauliStrings(operators, weights)\n",
    "print(ha.to_sparse())"
   ]
  },
  {
   "cell_type": "code",
   "execution_count": 125,
   "metadata": {},
   "outputs": [
    {
     "output_type": "stream",
     "name": "stdout",
     "text": [
      "Exact ground state energy = [-121.38891739]\n"
     ]
    }
   ],
   "source": [
    "res = nk.exact.lanczos_ed(ha, k=1, compute_eigenvectors=False)\n",
    "print(\"Exact ground state energy = {}\".format(res))"
   ]
  },
  {
   "cell_type": "code",
   "execution_count": 121,
   "metadata": {},
   "outputs": [
    {
     "output_type": "stream",
     "name": "stdout",
     "text": [
      "Exact ground state energy (switch ijkl)= [-53.61734593 -53.61734593 -53.57981089 -53.51687281]\n",
      "Exact ground state energy (switch ijlk)= [-53.61734593 -53.61734593 -53.57981089 -53.51687281]\n",
      "Exact ground state energy (switch ikjl)= [-91.91234098 -90.84639158 -87.65588886 -87.65588886]\n",
      "Exact ground state energy (switch iklj)= [-135.85151418 -132.9245771  -125.11024546 -125.11024546]\n",
      "Exact ground state energy (switch iljk)= [-91.91234098 -90.84639158 -87.65588886 -87.65588886]\n",
      "Exact ground state energy (switch ilkj)= [-135.85151418 -132.9245771  -125.11024546 -125.11024546]\n",
      "Exact ground state energy (switch jikl)= [-53.61734593 -53.61734593 -53.57981089 -53.51687281]\n",
      "Exact ground state energy (switch jilk)= [-53.61734593 -53.61734593 -53.57981089 -53.51687281]\n",
      "Exact ground state energy (switch jkil)= [-91.91234098 -90.84639158 -87.65588886 -87.65588886]\n",
      "Exact ground state energy (switch jkli)= [-135.85151418 -132.9245771  -125.11024546 -125.11024546]\n",
      "Exact ground state energy (switch jlik)= [-91.91234098 -90.84639158 -87.65588886 -87.65588886]\n"
     ]
    },
    {
     "output_type": "error",
     "ename": "KeyboardInterrupt",
     "evalue": "",
     "traceback": [
      "\u001b[0;31m---------------------------------------------------------------------------\u001b[0m",
      "\u001b[0;31mKeyboardInterrupt\u001b[0m                         Traceback (most recent call last)",
      "\u001b[0;32m<ipython-input-121-2e17250abedd>\u001b[0m in \u001b[0;36m<module>\u001b[0;34m\u001b[0m\n\u001b[1;32m      7\u001b[0m     \u001b[0;31m#FerOp = FerOp.fermion_mode_elimination([0])\u001b[0m\u001b[0;34m\u001b[0m\u001b[0;34m\u001b[0m\u001b[0;34m\u001b[0m\u001b[0m\n\u001b[1;32m      8\u001b[0m     \u001b[0mweights\u001b[0m \u001b[0;34m=\u001b[0m \u001b[0;34m[\u001b[0m\u001b[0mw\u001b[0m\u001b[0;34m[\u001b[0m\u001b[0;36m0\u001b[0m\u001b[0;34m]\u001b[0m\u001b[0;34m.\u001b[0m\u001b[0mreal\u001b[0m \u001b[0;32mfor\u001b[0m \u001b[0mw\u001b[0m \u001b[0;32min\u001b[0m \u001b[0mFerOp\u001b[0m\u001b[0;34m.\u001b[0m\u001b[0mmapping\u001b[0m\u001b[0;34m(\u001b[0m\u001b[0;34m'jordan_wigner'\u001b[0m\u001b[0;34m)\u001b[0m\u001b[0;34m.\u001b[0m\u001b[0mpaulis\u001b[0m\u001b[0;34m]\u001b[0m\u001b[0;34m\u001b[0m\u001b[0;34m\u001b[0m\u001b[0m\n\u001b[0;32m----> 9\u001b[0;31m     \u001b[0moperators\u001b[0m \u001b[0;34m=\u001b[0m \u001b[0;34m[\u001b[0m\u001b[0mw\u001b[0m\u001b[0;34m[\u001b[0m\u001b[0;36m1\u001b[0m\u001b[0;34m]\u001b[0m\u001b[0;34m.\u001b[0m\u001b[0mto_label\u001b[0m\u001b[0;34m(\u001b[0m\u001b[0;34m)\u001b[0m \u001b[0;32mfor\u001b[0m \u001b[0mw\u001b[0m \u001b[0;32min\u001b[0m \u001b[0mFerOp\u001b[0m\u001b[0;34m.\u001b[0m\u001b[0mmapping\u001b[0m\u001b[0;34m(\u001b[0m\u001b[0;34m'jordan_wigner'\u001b[0m\u001b[0;34m)\u001b[0m\u001b[0;34m.\u001b[0m\u001b[0mpaulis\u001b[0m\u001b[0;34m]\u001b[0m\u001b[0;34m\u001b[0m\u001b[0;34m\u001b[0m\u001b[0m\n\u001b[0m\u001b[1;32m     10\u001b[0m     \u001b[0mha\u001b[0m \u001b[0;34m=\u001b[0m \u001b[0mnk\u001b[0m\u001b[0;34m.\u001b[0m\u001b[0moperator\u001b[0m\u001b[0;34m.\u001b[0m\u001b[0mPauliStrings\u001b[0m\u001b[0;34m(\u001b[0m\u001b[0moperators\u001b[0m\u001b[0;34m,\u001b[0m \u001b[0mweights\u001b[0m\u001b[0;34m)\u001b[0m\u001b[0;34m\u001b[0m\u001b[0;34m\u001b[0m\u001b[0m\n\u001b[1;32m     11\u001b[0m     \u001b[0mres\u001b[0m \u001b[0;34m=\u001b[0m \u001b[0mnk\u001b[0m\u001b[0;34m.\u001b[0m\u001b[0mexact\u001b[0m\u001b[0;34m.\u001b[0m\u001b[0mlanczos_ed\u001b[0m\u001b[0;34m(\u001b[0m\u001b[0mha\u001b[0m\u001b[0;34m,\u001b[0m \u001b[0mk\u001b[0m\u001b[0;34m=\u001b[0m\u001b[0;36m4\u001b[0m\u001b[0;34m,\u001b[0m \u001b[0mcompute_eigenvectors\u001b[0m\u001b[0;34m=\u001b[0m\u001b[0;32mFalse\u001b[0m\u001b[0;34m)\u001b[0m\u001b[0;34m\u001b[0m\u001b[0;34m\u001b[0m\u001b[0m\n",
      "\u001b[0;32m~/.pyenv/versions/miniconda3-4.7.12/envs/nk3a/lib/python3.9/site-packages/qiskit/chemistry/fermionic_operator.py\u001b[0m in \u001b[0;36mmapping\u001b[0;34m(self, map_type, threshold)\u001b[0m\n\u001b[1;32m    400\u001b[0m             \u001b[0mlogger\u001b[0m\u001b[0;34m.\u001b[0m\u001b[0mdebug\u001b[0m\u001b[0;34m(\u001b[0m\u001b[0;34m\"Mapping two-body terms to Qubit Hamiltonian:\"\u001b[0m\u001b[0;34m)\u001b[0m\u001b[0;34m\u001b[0m\u001b[0;34m\u001b[0m\u001b[0m\n\u001b[1;32m    401\u001b[0m             \u001b[0mTextProgressBar\u001b[0m\u001b[0;34m(\u001b[0m\u001b[0moutput_handler\u001b[0m\u001b[0;34m=\u001b[0m\u001b[0msys\u001b[0m\u001b[0;34m.\u001b[0m\u001b[0mstderr\u001b[0m\u001b[0;34m)\u001b[0m\u001b[0;34m\u001b[0m\u001b[0;34m\u001b[0m\u001b[0m\n\u001b[0;32m--> 402\u001b[0;31m         results = parallel_map(FermionicOperator._two_body_mapping,\n\u001b[0m\u001b[1;32m    403\u001b[0m                                [(self._h2[i, j, k, m], a_list[i], a_list[j], a_list[k], a_list[m])\n\u001b[1;32m    404\u001b[0m                                 \u001b[0;32mfor\u001b[0m \u001b[0mi\u001b[0m\u001b[0;34m,\u001b[0m \u001b[0mj\u001b[0m\u001b[0;34m,\u001b[0m \u001b[0mk\u001b[0m\u001b[0;34m,\u001b[0m \u001b[0mm\u001b[0m \u001b[0;32min\u001b[0m \u001b[0mitertools\u001b[0m\u001b[0;34m.\u001b[0m\u001b[0mproduct\u001b[0m\u001b[0;34m(\u001b[0m\u001b[0mrange\u001b[0m\u001b[0;34m(\u001b[0m\u001b[0mn\u001b[0m\u001b[0;34m)\u001b[0m\u001b[0;34m,\u001b[0m \u001b[0mrepeat\u001b[0m\u001b[0;34m=\u001b[0m\u001b[0;36m4\u001b[0m\u001b[0;34m)\u001b[0m\u001b[0;34m\u001b[0m\u001b[0;34m\u001b[0m\u001b[0m\n",
      "\u001b[0;32m~/.pyenv/versions/miniconda3-4.7.12/envs/nk3a/lib/python3.9/site-packages/qiskit/tools/parallel.py\u001b[0m in \u001b[0;36mparallel_map\u001b[0;34m(task, values, task_args, task_kwargs, num_processes)\u001b[0m\n\u001b[1;32m    165\u001b[0m     \u001b[0mresults\u001b[0m \u001b[0;34m=\u001b[0m \u001b[0;34m[\u001b[0m\u001b[0;34m]\u001b[0m\u001b[0;34m\u001b[0m\u001b[0;34m\u001b[0m\u001b[0m\n\u001b[1;32m    166\u001b[0m     \u001b[0;32mfor\u001b[0m \u001b[0m_\u001b[0m\u001b[0;34m,\u001b[0m \u001b[0mvalue\u001b[0m \u001b[0;32min\u001b[0m \u001b[0menumerate\u001b[0m\u001b[0;34m(\u001b[0m\u001b[0mvalues\u001b[0m\u001b[0;34m)\u001b[0m\u001b[0;34m:\u001b[0m\u001b[0;34m\u001b[0m\u001b[0;34m\u001b[0m\u001b[0m\n\u001b[0;32m--> 167\u001b[0;31m         \u001b[0mresult\u001b[0m \u001b[0;34m=\u001b[0m \u001b[0mtask\u001b[0m\u001b[0;34m(\u001b[0m\u001b[0mvalue\u001b[0m\u001b[0;34m,\u001b[0m \u001b[0;34m*\u001b[0m\u001b[0mtask_args\u001b[0m\u001b[0;34m,\u001b[0m \u001b[0;34m**\u001b[0m\u001b[0mtask_kwargs\u001b[0m\u001b[0;34m)\u001b[0m\u001b[0;34m\u001b[0m\u001b[0;34m\u001b[0m\u001b[0m\n\u001b[0m\u001b[1;32m    168\u001b[0m         \u001b[0mresults\u001b[0m\u001b[0;34m.\u001b[0m\u001b[0mappend\u001b[0m\u001b[0;34m(\u001b[0m\u001b[0mresult\u001b[0m\u001b[0;34m)\u001b[0m\u001b[0;34m\u001b[0m\u001b[0;34m\u001b[0m\u001b[0m\n\u001b[1;32m    169\u001b[0m         \u001b[0m_callback\u001b[0m\u001b[0;34m(\u001b[0m\u001b[0;36m0\u001b[0m\u001b[0;34m)\u001b[0m\u001b[0;34m\u001b[0m\u001b[0;34m\u001b[0m\u001b[0m\n",
      "\u001b[0;32m~/.pyenv/versions/miniconda3-4.7.12/envs/nk3a/lib/python3.9/site-packages/qiskit/chemistry/fermionic_operator.py\u001b[0m in \u001b[0;36m_two_body_mapping\u001b[0;34m(h2_ijkm_a_ijkm, threshold)\u001b[0m\n\u001b[1;32m    463\u001b[0m                         \u001b[0mpauli_prod_1\u001b[0m \u001b[0;34m=\u001b[0m \u001b[0mp_a\u001b[0m\u001b[0;34m[\u001b[0m\u001b[0;34m:\u001b[0m\u001b[0;34m]\u001b[0m\u001b[0;34m,\u001b[0m \u001b[0;34m(\u001b[0m\u001b[0;34m-\u001b[0m\u001b[0;36m1j\u001b[0m\u001b[0;34m)\u001b[0m \u001b[0;34m**\u001b[0m \u001b[0mp_a\u001b[0m\u001b[0;34m.\u001b[0m\u001b[0mphase\u001b[0m\u001b[0;34m\u001b[0m\u001b[0;34m\u001b[0m\u001b[0m\n\u001b[1;32m    464\u001b[0m                         \u001b[0mp_a\u001b[0m \u001b[0;34m=\u001b[0m \u001b[0mpauli_prod_1\u001b[0m\u001b[0;34m[\u001b[0m\u001b[0;36m0\u001b[0m\u001b[0;34m]\u001b[0m\u001b[0;34m.\u001b[0m\u001b[0mdot\u001b[0m\u001b[0;34m(\u001b[0m\u001b[0ma_m\u001b[0m\u001b[0;34m[\u001b[0m\u001b[0mgamma\u001b[0m\u001b[0;34m]\u001b[0m\u001b[0;34m)\u001b[0m\u001b[0;34m\u001b[0m\u001b[0;34m\u001b[0m\u001b[0m\n\u001b[0;32m--> 465\u001b[0;31m                         \u001b[0mpauli_prod_2\u001b[0m \u001b[0;34m=\u001b[0m \u001b[0mp_a\u001b[0m\u001b[0;34m[\u001b[0m\u001b[0;34m:\u001b[0m\u001b[0;34m]\u001b[0m\u001b[0;34m,\u001b[0m \u001b[0;34m(\u001b[0m\u001b[0;34m-\u001b[0m\u001b[0;36m1j\u001b[0m\u001b[0;34m)\u001b[0m \u001b[0;34m**\u001b[0m \u001b[0mp_a\u001b[0m\u001b[0;34m.\u001b[0m\u001b[0mphase\u001b[0m\u001b[0;34m\u001b[0m\u001b[0;34m\u001b[0m\u001b[0m\n\u001b[0m\u001b[1;32m    466\u001b[0m                         \u001b[0mp_a\u001b[0m \u001b[0;34m=\u001b[0m \u001b[0mpauli_prod_2\u001b[0m\u001b[0;34m[\u001b[0m\u001b[0;36m0\u001b[0m\u001b[0;34m]\u001b[0m\u001b[0;34m.\u001b[0m\u001b[0mdot\u001b[0m\u001b[0;34m(\u001b[0m\u001b[0ma_j\u001b[0m\u001b[0;34m[\u001b[0m\u001b[0mdelta\u001b[0m\u001b[0;34m]\u001b[0m\u001b[0;34m)\u001b[0m\u001b[0;34m\u001b[0m\u001b[0;34m\u001b[0m\u001b[0m\n\u001b[1;32m    467\u001b[0m                         \u001b[0mpauli_prod_3\u001b[0m \u001b[0;34m=\u001b[0m \u001b[0mp_a\u001b[0m\u001b[0;34m[\u001b[0m\u001b[0;34m:\u001b[0m\u001b[0;34m]\u001b[0m\u001b[0;34m,\u001b[0m \u001b[0;34m(\u001b[0m\u001b[0;34m-\u001b[0m\u001b[0;36m1j\u001b[0m\u001b[0;34m)\u001b[0m \u001b[0;34m**\u001b[0m \u001b[0mp_a\u001b[0m\u001b[0;34m.\u001b[0m\u001b[0mphase\u001b[0m\u001b[0;34m\u001b[0m\u001b[0;34m\u001b[0m\u001b[0m\n",
      "\u001b[0;32m~/.pyenv/versions/miniconda3-4.7.12/envs/nk3a/lib/python3.9/site-packages/qiskit/quantum_info/operators/symplectic/pauli.py\u001b[0m in \u001b[0;36m__getitem__\u001b[0;34m(self, qubits)\u001b[0m\n\u001b[1;32m    293\u001b[0m         \u001b[0;32mif\u001b[0m \u001b[0misinstance\u001b[0m\u001b[0;34m(\u001b[0m\u001b[0mqubits\u001b[0m\u001b[0;34m,\u001b[0m \u001b[0;34m(\u001b[0m\u001b[0mint\u001b[0m\u001b[0;34m,\u001b[0m \u001b[0mnp\u001b[0m\u001b[0;34m.\u001b[0m\u001b[0minteger\u001b[0m\u001b[0;34m)\u001b[0m\u001b[0;34m)\u001b[0m\u001b[0;34m:\u001b[0m\u001b[0;34m\u001b[0m\u001b[0;34m\u001b[0m\u001b[0m\n\u001b[1;32m    294\u001b[0m             \u001b[0mqubits\u001b[0m \u001b[0;34m=\u001b[0m \u001b[0;34m[\u001b[0m\u001b[0mqubits\u001b[0m\u001b[0;34m]\u001b[0m\u001b[0;34m\u001b[0m\u001b[0;34m\u001b[0m\u001b[0m\n\u001b[0;32m--> 295\u001b[0;31m         \u001b[0;32mreturn\u001b[0m \u001b[0mPauli\u001b[0m\u001b[0;34m(\u001b[0m\u001b[0;34m(\u001b[0m\u001b[0mself\u001b[0m\u001b[0;34m.\u001b[0m\u001b[0mz\u001b[0m\u001b[0;34m[\u001b[0m\u001b[0mqubits\u001b[0m\u001b[0;34m]\u001b[0m\u001b[0;34m,\u001b[0m \u001b[0mself\u001b[0m\u001b[0;34m.\u001b[0m\u001b[0mx\u001b[0m\u001b[0;34m[\u001b[0m\u001b[0mqubits\u001b[0m\u001b[0;34m]\u001b[0m\u001b[0;34m)\u001b[0m\u001b[0;34m)\u001b[0m\u001b[0;34m\u001b[0m\u001b[0;34m\u001b[0m\u001b[0m\n\u001b[0m\u001b[1;32m    296\u001b[0m \u001b[0;34m\u001b[0m\u001b[0m\n\u001b[1;32m    297\u001b[0m     \u001b[0;32mdef\u001b[0m \u001b[0m__setitem__\u001b[0m\u001b[0;34m(\u001b[0m\u001b[0mself\u001b[0m\u001b[0;34m,\u001b[0m \u001b[0mqubits\u001b[0m\u001b[0;34m,\u001b[0m \u001b[0mvalue\u001b[0m\u001b[0;34m)\u001b[0m\u001b[0;34m:\u001b[0m\u001b[0;34m\u001b[0m\u001b[0;34m\u001b[0m\u001b[0m\n",
      "\u001b[0;32m~/.pyenv/versions/miniconda3-4.7.12/envs/nk3a/lib/python3.9/site-packages/qiskit/quantum_info/operators/symplectic/pauli.py\u001b[0m in \u001b[0;36m__init__\u001b[0;34m(self, data, x, z, label)\u001b[0m\n\u001b[1;32m    172\u001b[0m                     \u001b[0;34m\"Invalid input tuple for Pauli, input tuple must be\"\u001b[0m\u001b[0;34m\u001b[0m\u001b[0;34m\u001b[0m\u001b[0m\n\u001b[1;32m    173\u001b[0m                     \" `(z, x, phase)` or `(z, x)`\")\n\u001b[0;32m--> 174\u001b[0;31m             \u001b[0mbase_z\u001b[0m\u001b[0;34m,\u001b[0m \u001b[0mbase_x\u001b[0m\u001b[0;34m,\u001b[0m \u001b[0mbase_phase\u001b[0m \u001b[0;34m=\u001b[0m \u001b[0mself\u001b[0m\u001b[0;34m.\u001b[0m\u001b[0m_from_array\u001b[0m\u001b[0;34m(\u001b[0m\u001b[0;34m*\u001b[0m\u001b[0mdata\u001b[0m\u001b[0;34m)\u001b[0m\u001b[0;34m\u001b[0m\u001b[0;34m\u001b[0m\u001b[0m\n\u001b[0m\u001b[1;32m    175\u001b[0m         \u001b[0;32melif\u001b[0m \u001b[0misinstance\u001b[0m\u001b[0;34m(\u001b[0m\u001b[0mdata\u001b[0m\u001b[0;34m,\u001b[0m \u001b[0mstr\u001b[0m\u001b[0;34m)\u001b[0m\u001b[0;34m:\u001b[0m\u001b[0;34m\u001b[0m\u001b[0;34m\u001b[0m\u001b[0m\n\u001b[1;32m    176\u001b[0m             \u001b[0mbase_z\u001b[0m\u001b[0;34m,\u001b[0m \u001b[0mbase_x\u001b[0m\u001b[0;34m,\u001b[0m \u001b[0mbase_phase\u001b[0m \u001b[0;34m=\u001b[0m \u001b[0mself\u001b[0m\u001b[0;34m.\u001b[0m\u001b[0m_from_label\u001b[0m\u001b[0;34m(\u001b[0m\u001b[0mdata\u001b[0m\u001b[0;34m)\u001b[0m\u001b[0;34m\u001b[0m\u001b[0;34m\u001b[0m\u001b[0m\n",
      "\u001b[0;32m~/.pyenv/versions/miniconda3-4.7.12/envs/nk3a/lib/python3.9/site-packages/qiskit/quantum_info/operators/symplectic/base_pauli.py\u001b[0m in \u001b[0;36m_from_array\u001b[0;34m(z, x, phase)\u001b[0m\n\u001b[1;32m    301\u001b[0m \u001b[0;34m\u001b[0m\u001b[0m\n\u001b[1;32m    302\u001b[0m         \u001b[0;31m# Convert group phase convention to internal ZX-phase conversion.\u001b[0m\u001b[0;34m\u001b[0m\u001b[0;34m\u001b[0m\u001b[0;34m\u001b[0m\u001b[0m\n\u001b[0;32m--> 303\u001b[0;31m         base_phase = np.mod(np.sum(np.logical_and(base_x, base_z),\n\u001b[0m\u001b[1;32m    304\u001b[0m                                    axis=1, dtype=int) + phase, 4)\n\u001b[1;32m    305\u001b[0m         \u001b[0;32mreturn\u001b[0m \u001b[0mbase_z\u001b[0m\u001b[0;34m,\u001b[0m \u001b[0mbase_x\u001b[0m\u001b[0;34m,\u001b[0m \u001b[0mbase_phase\u001b[0m\u001b[0;34m\u001b[0m\u001b[0;34m\u001b[0m\u001b[0m\n",
      "\u001b[0;32m<__array_function__ internals>\u001b[0m in \u001b[0;36msum\u001b[0;34m(*args, **kwargs)\u001b[0m\n",
      "\u001b[0;32m~/.pyenv/versions/miniconda3-4.7.12/envs/nk3a/lib/python3.9/site-packages/numpy/core/fromnumeric.py\u001b[0m in \u001b[0;36msum\u001b[0;34m(a, axis, dtype, out, keepdims, initial, where)\u001b[0m\n\u001b[1;32m   2245\u001b[0m         \u001b[0;32mreturn\u001b[0m \u001b[0mres\u001b[0m\u001b[0;34m\u001b[0m\u001b[0;34m\u001b[0m\u001b[0m\n\u001b[1;32m   2246\u001b[0m \u001b[0;34m\u001b[0m\u001b[0m\n\u001b[0;32m-> 2247\u001b[0;31m     return _wrapreduction(a, np.add, 'sum', axis, dtype, out, keepdims=keepdims,\n\u001b[0m\u001b[1;32m   2248\u001b[0m                           initial=initial, where=where)\n\u001b[1;32m   2249\u001b[0m \u001b[0;34m\u001b[0m\u001b[0m\n",
      "\u001b[0;32m~/.pyenv/versions/miniconda3-4.7.12/envs/nk3a/lib/python3.9/site-packages/numpy/core/fromnumeric.py\u001b[0m in \u001b[0;36m_wrapreduction\u001b[0;34m(obj, ufunc, method, axis, dtype, out, **kwargs)\u001b[0m\n\u001b[1;32m     85\u001b[0m                 \u001b[0;32mreturn\u001b[0m \u001b[0mreduction\u001b[0m\u001b[0;34m(\u001b[0m\u001b[0maxis\u001b[0m\u001b[0;34m=\u001b[0m\u001b[0maxis\u001b[0m\u001b[0;34m,\u001b[0m \u001b[0mout\u001b[0m\u001b[0;34m=\u001b[0m\u001b[0mout\u001b[0m\u001b[0;34m,\u001b[0m \u001b[0;34m**\u001b[0m\u001b[0mpasskwargs\u001b[0m\u001b[0;34m)\u001b[0m\u001b[0;34m\u001b[0m\u001b[0;34m\u001b[0m\u001b[0m\n\u001b[1;32m     86\u001b[0m \u001b[0;34m\u001b[0m\u001b[0m\n\u001b[0;32m---> 87\u001b[0;31m     \u001b[0;32mreturn\u001b[0m \u001b[0mufunc\u001b[0m\u001b[0;34m.\u001b[0m\u001b[0mreduce\u001b[0m\u001b[0;34m(\u001b[0m\u001b[0mobj\u001b[0m\u001b[0;34m,\u001b[0m \u001b[0maxis\u001b[0m\u001b[0;34m,\u001b[0m \u001b[0mdtype\u001b[0m\u001b[0;34m,\u001b[0m \u001b[0mout\u001b[0m\u001b[0;34m,\u001b[0m \u001b[0;34m**\u001b[0m\u001b[0mpasskwargs\u001b[0m\u001b[0;34m)\u001b[0m\u001b[0;34m\u001b[0m\u001b[0;34m\u001b[0m\u001b[0m\n\u001b[0m\u001b[1;32m     88\u001b[0m \u001b[0;34m\u001b[0m\u001b[0m\n\u001b[1;32m     89\u001b[0m \u001b[0;34m\u001b[0m\u001b[0m\n",
      "\u001b[0;31mKeyboardInterrupt\u001b[0m: "
     ]
    }
   ],
   "source": [
    "for perm in itertools.permutations('ijkl'):\n",
    "    #C2\n",
    "    OB = np.load('../data/integrals/STO-3G/STO-3G_C2_OB_d1-26_eq1.npy')\n",
    "    TB = np.load('../data/integrals/STO-3G/STO-3G_C2_TB_d1-26_eq1.npy')\n",
    "    TB = np.einsum('ijkl->' + ''.join(perm), TB)\n",
    "    FerOp = FermionicOperator(OB, TB)\n",
    "    #FerOp = FerOp.fermion_mode_elimination([0])\n",
    "    weights = [w[0].real for w in FerOp.mapping('jordan_wigner').paulis]\n",
    "    operators = [w[1].to_label() for w in FerOp.mapping('jordan_wigner').paulis]\n",
    "    ha = nk.operator.PauliStrings(operators, weights)\n",
    "    res = nk.exact.lanczos_ed(ha, k=4, compute_eigenvectors=False)\n",
    "    print(\"Exact ground state energy (switch {})= {}\".format(''.join(perm), res))"
   ]
  },
  {
   "cell_type": "code",
   "execution_count": null,
   "metadata": {},
   "outputs": [],
   "source": []
  }
 ],
 "metadata": {
  "kernelspec": {
   "name": "python392jvsc74a57bd0225c6ae3feca9682b152fa264f409f521bf349dd85f1c2ff790c6bd585599203",
   "display_name": "Python 3.9.2 64-bit ('nk3a': conda)"
  },
  "language_info": {
   "codemirror_mode": {
    "name": "ipython",
    "version": 3
   },
   "file_extension": ".py",
   "mimetype": "text/x-python",
   "name": "python",
   "nbconvert_exporter": "python",
   "pygments_lexer": "ipython3",
   "version": "3.9.2"
  },
  "metadata": {
   "interpreter": {
    "hash": "225c6ae3feca9682b152fa264f409f521bf349dd85f1c2ff790c6bd585599203"
   }
  }
 },
 "nbformat": 4,
 "nbformat_minor": 2
}