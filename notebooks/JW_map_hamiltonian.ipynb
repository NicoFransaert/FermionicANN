{
 "cells": [
  {
   "cell_type": "code",
   "execution_count": 34,
   "metadata": {},
   "outputs": [],
   "source": [
    "# Import netket library\n",
    "import netket as nk\n",
    "# Helper libraries\n",
    "import numpy as np\n",
    "import itertools\n",
    "import matplotlib.pyplot as plt"
   ]
  },
  {
   "cell_type": "code",
   "execution_count": 41,
   "metadata": {},
   "outputs": [
    {
     "output_type": "stream",
     "name": "stdout",
     "text": [
      "<bound method NetworkX.edges of Grid(length=[2], pbc=False)>\n"
     ]
    }
   ],
   "source": [
    "L = 2\n",
    "\n",
    "g = nk.graph.Hypercube(length=L, n_dim=1, pbc=False)\n",
    "print(g.edges)\n",
    "# Spin based Hilbert Space\n",
    "hi = nk.hilbert.Spin(s=1/2, N=g.n_nodes)"
   ]
  },
  {
   "cell_type": "code",
   "execution_count": 44,
   "metadata": {},
   "outputs": [],
   "source": [
    "OB = np.load('../data/integrals/STO-3G/STO-3G_H2_OB_d0-734_eq1.npy')\n",
    "TB = np.load('../data/integrals/STO-3G/STO-3G_H2_TB_d0-734_eq1.npy')"
   ]
  },
  {
   "cell_type": "code",
   "execution_count": 43,
   "metadata": {},
   "outputs": [],
   "source": [
    "def SB(i,j):\n",
    "    return 1\n",
    "def TB(i,j,k,l):\n",
    "    return 1"
   ]
  },
  {
   "cell_type": "code",
   "execution_count": 45,
   "metadata": {},
   "outputs": [],
   "source": [
    "# Pauli Matrices\n",
    "sigmaz = np.array([[1, 0], [0, -1]])\n",
    "sigmax = np.array([[0, 1], [1, 0]])\n",
    "isigmay = np.array([[0, 1], [-1, 0]])\n",
    "\n",
    "sigma_p = (sigmax + isigmay)/2\n",
    "sigma_m = (sigmax - isigmay)/2"
   ]
  },
  {
   "cell_type": "code",
   "execution_count": 46,
   "metadata": {},
   "outputs": [],
   "source": [
    "from functools import lru_cache\n",
    "@lru_cache(maxsize=128)\n",
    "def jw(i):\n",
    "    return 1 if i==0 else np.kron(jw(i-1), sigmaz)"
   ]
  },
  {
   "cell_type": "code",
   "execution_count": 47,
   "metadata": {},
   "outputs": [
    {
     "output_type": "execute_result",
     "data": {
      "text/plain": [
       "array([[ 1,  0,  0, ...,  0,  0,  0],\n",
       "       [ 0, -1,  0, ...,  0,  0,  0],\n",
       "       [ 0,  0, -1, ...,  0,  0,  0],\n",
       "       ...,\n",
       "       [ 0,  0,  0, ..., -1,  0,  0],\n",
       "       [ 0,  0,  0, ...,  0, -1,  0],\n",
       "       [ 0,  0,  0, ...,  0,  0,  1]])"
      ]
     },
     "metadata": {},
     "execution_count": 47
    }
   ],
   "source": [
    "jw(i=10)"
   ]
  },
  {
   "cell_type": "code",
   "execution_count": 48,
   "metadata": {
    "tags": []
   },
   "outputs": [
    {
     "output_type": "stream",
     "name": "stdout",
     "text": [
      "CPU times: user 18.8 ms, sys: 1.11 ms, total: 19.9 ms\nWall time: 21.8 ms\n"
     ]
    }
   ],
   "source": [
    "%%time\n",
    "from netket.operator import LocalOperator as Op\n",
    "ha = Op(hi)\n",
    "for i,j in itertools.product(range(L), range(L)):\n",
    "    #print(i,j)\n",
    "    i_part = np.kron(jw(i), sigma_p)\n",
    "    if i<j: i_part = np.kron(i_part, np.eye(2**(j-i)))\n",
    "    j_part = np.kron(jw(j), sigma_m)\n",
    "    if j<i: j_part = np.kron(j_part, np.eye(2**(i-j)))\n",
    "\n",
    "    operator = OB[i,j] * (i_part @ j_part)\n",
    "    sites = [i for i in range(max(i,j)+1)]\n",
    "    ha += Op(hi, operator, sites)\n",
    "\n",
    "for i,j,k,l in itertools.product(range(L), repeat=4):\n",
    "    #print(i,j,k,l)\n",
    "    m = max(i,j,k,l)\n",
    "    i_part = np.kron(jw(i), sigma_p)\n",
    "    if i<m: i_part = np.kron(i_part, np.eye(2**(m-i)))\n",
    "    j_part = np.kron(jw(j), sigma_m)\n",
    "    if j<m: j_part = np.kron(j_part, np.eye(2**(m-j)))\n",
    "    k_part = np.kron(jw(k), sigma_p)\n",
    "    if k<m: k_part = np.kron(k_part, np.eye(2**(m-k)))\n",
    "    l_part = np.kron(jw(l), sigma_m)\n",
    "    if l<m: l_part = np.kron(l_part, np.eye(2**(m-l)))\n",
    "\n",
    "    operator = TB[i,j,k,l] * (i_part @ k_part @ l_part @ j_part)\n",
    "    sites = [i for i in range(max(i,j,k,l)+1)]\n",
    "    ha += Op(hi, operator, sites)"
   ]
  },
  {
   "cell_type": "code",
   "execution_count": 49,
   "metadata": {},
   "outputs": [
    {
     "output_type": "stream",
     "name": "stdout",
     "text": [
      "[[-1.70840817  0.          0.          0.        ]\n [ 0.         -1.12487186  0.96643592  0.        ]\n [ 0.          0.96643592 -1.12487186  0.        ]\n [ 0.          0.          0.          0.        ]]\n2\n4\n"
     ]
    }
   ],
   "source": [
    "print(ha.to_dense())\n",
    "print(hi.size)\n",
    "print(hi.n_states)"
   ]
  },
  {
   "cell_type": "code",
   "execution_count": 50,
   "metadata": {},
   "outputs": [
    {
     "output_type": "stream",
     "name": "stdout",
     "text": [
      "Exact ground state energy = -2.091\n"
     ]
    }
   ],
   "source": [
    "res = nk.exact.lanczos_ed(ha, k=1, compute_eigenvectors=False)\n",
    "print(\"Exact ground state energy = {0:.3f}\".format(res[0]))"
   ]
  },
  {
   "cell_type": "code",
   "execution_count": 51,
   "metadata": {},
   "outputs": [
    {
     "output_type": "stream",
     "name": "stdout",
     "text": [
      "Exact ground state energy (switch ijkl)= -2.0913077833799796\n",
      "Exact ground state energy (switch ijlk)= -2.0913077833799796\n",
      "Exact ground state energy (switch ikjl)= -2.2497437216475116\n",
      "Exact ground state energy (switch iklj)= -2.791079273212312\n",
      "Exact ground state energy (switch iljk)= -2.2497437216475116\n",
      "Exact ground state energy (switch ilkj)= -2.7910792732123118\n",
      "Exact ground state energy (switch jikl)= -2.0913077833799796\n",
      "Exact ground state energy (switch jilk)= -2.0913077833799796\n",
      "Exact ground state energy (switch jkil)= -2.249743721647512\n",
      "Exact ground state energy (switch jkli)= -2.7910792732123113\n",
      "Exact ground state energy (switch jlik)= -2.249743721647512\n",
      "Exact ground state energy (switch jlki)= -2.7910792732123113\n",
      "Exact ground state energy (switch kijl)= -2.7910792732123118\n",
      "Exact ground state energy (switch kilj)= -2.249743721647512\n",
      "Exact ground state energy (switch kjil)= -2.7910792732123118\n",
      "Exact ground state energy (switch kjli)= -2.2497437216475116\n",
      "Exact ground state energy (switch klij)= -2.091307783379979\n",
      "Exact ground state energy (switch klji)= -2.09130778337998\n",
      "Exact ground state energy (switch lijk)= -2.7910792732123118\n",
      "Exact ground state energy (switch likj)= -2.249743721647512\n",
      "Exact ground state energy (switch ljik)= -2.7910792732123126\n",
      "Exact ground state energy (switch ljki)= -2.249743721647512\n",
      "Exact ground state energy (switch lkij)= -2.09130778337998\n",
      "Exact ground state energy (switch lkji)= -2.0913077833799796\n"
     ]
    }
   ],
   "source": [
    "for perm in itertools.permutations('ijkl'):\n",
    "    OB = np.load('../data/integrals/STO-3G/STO-3G_H2_OB_d0-734_eq1.npy')\n",
    "    TB = np.load('../data/integrals/STO-3G/STO-3G_H2_TB_d0-734_eq1.npy')\n",
    "    TB = np.einsum('ijkl->' + ''.join(perm), TB)\n",
    "    from netket.operator import LocalOperator as Op\n",
    "    ha = Op(hi)\n",
    "    for i,j in itertools.product(range(L), range(L)):\n",
    "        #print(i,j)\n",
    "        i_part = np.kron(jw(i), sigma_p)\n",
    "        if i<j: i_part = np.kron(i_part, np.eye(2**(j-i)))\n",
    "        j_part = np.kron(jw(j), sigma_m)\n",
    "        if j<i: j_part = np.kron(j_part, np.eye(2**(i-j)))\n",
    "\n",
    "        operator = OB[i,j] * (i_part @ j_part)\n",
    "        sites = [i for i in range(max(i,j)+1)]\n",
    "        ha += Op(hi, operator, sites)\n",
    "\n",
    "    for i,j,k,l in itertools.product(range(L), repeat=4):\n",
    "        #print(i,j,k,l)\n",
    "        m = max(i,j,k,l)\n",
    "        i_part = np.kron(jw(i), sigma_p)\n",
    "        if i<m: i_part = np.kron(i_part, np.eye(2**(m-i)))\n",
    "        j_part = np.kron(jw(j), sigma_m)\n",
    "        if j<m: j_part = np.kron(j_part, np.eye(2**(m-j)))\n",
    "        k_part = np.kron(jw(k), sigma_p)\n",
    "        if k<m: k_part = np.kron(k_part, np.eye(2**(m-k)))\n",
    "        l_part = np.kron(jw(l), sigma_m)\n",
    "        if l<m: l_part = np.kron(l_part, np.eye(2**(m-l)))\n",
    "\n",
    "        operator = TB[i,j,k,l] * (i_part @ k_part @ l_part @ j_part)\n",
    "        sites = [i for i in range(max(i,j,k,l)+1)]\n",
    "        ha += Op(hi, operator, sites)\n",
    "    res = nk.exact.lanczos_ed(ha, k=1, compute_eigenvectors=False)\n",
    "    print(\"Exact ground state energy (switch {})= {}\".format(''.join(perm), res[0]))"
   ]
  }
 ],
 "metadata": {
  "kernelspec": {
   "name": "python392jvsc74a57bd0225c6ae3feca9682b152fa264f409f521bf349dd85f1c2ff790c6bd585599203",
   "display_name": "Python 3.9.2 64-bit ('nk3a': conda)"
  },
  "language_info": {
   "codemirror_mode": {
    "name": "ipython",
    "version": 3
   },
   "file_extension": ".py",
   "mimetype": "text/x-python",
   "name": "python",
   "nbconvert_exporter": "python",
   "pygments_lexer": "ipython3",
   "version": "3.9.2"
  }
 },
 "nbformat": 4,
 "nbformat_minor": 2
}