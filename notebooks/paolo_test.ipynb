{
 "metadata": {
  "language_info": {
   "codemirror_mode": {
    "name": "ipython",
    "version": 3
   },
   "file_extension": ".py",
   "mimetype": "text/x-python",
   "name": "python",
   "nbconvert_exporter": "python",
   "pygments_lexer": "ipython3",
   "version": "3.9.2"
  },
  "orig_nbformat": 2,
  "kernelspec": {
   "name": "python392jvsc74a57bd0225c6ae3feca9682b152fa264f409f521bf349dd85f1c2ff790c6bd585599203",
   "display_name": "Python 3.9.2 64-bit ('nk3a': conda)"
  }
 },
 "nbformat": 4,
 "nbformat_minor": 2,
 "cells": [
  {
   "cell_type": "code",
   "execution_count": 1,
   "metadata": {},
   "outputs": [
    {
     "output_type": "stream",
     "name": "stderr",
     "text": [
      "/Users/yapple/.pyenv/versions/miniconda3-4.7.12/envs/nk3/lib/python3.8/site-packages/qiskit/chemistry/__init__.py:170: DeprecationWarning: The package qiskit.chemistry is deprecated. It was moved/refactored to qiskit_nature (pip install qiskit-nature). For more information see <https://github.com/Qiskit/qiskit-aqua/blob/master/README.md#migration-guide>\n  warn_package('chemistry', 'qiskit_nature', 'qiskit-nature')\n"
     ]
    }
   ],
   "source": [
    "# Import netket library\n",
    "import netket as nk\n",
    "from qiskit.chemistry import FermionicOperator\n",
    "import itertools\n",
    "\n",
    "# Helper libraries\n",
    "import numpy as np\n",
    "import matplotlib.pyplot as plt"
   ]
  },
  {
   "cell_type": "code",
   "execution_count": 2,
   "metadata": {},
   "outputs": [],
   "source": [
    "import netket as nk\n",
    "from qiskit.chemistry.drivers import PySCFDriver\n",
    "from qiskit.chemistry import FermionicOperator\n",
    "\n",
    "def JW_H(systemData={'driver_string': 'Li 0.0 0.0 0.0; H 0.0 0.0 1.54', 'basis': 'sto3g'}):\n",
    "                            \n",
    "    driver = PySCFDriver(   atom=systemData[\"driver_string\"],\n",
    "                            basis=systemData[\"basis\"]       )\n",
    "                            \n",
    "    mol = driver.run()\n",
    "    OB = mol.one_body_integrals\n",
    "    TB = mol.two_body_integrals\n",
    "\n",
    "    FerOp = FermionicOperator(OB, TB)\n",
    "    mapping = FerOp.mapping('jordan_wigner')\n",
    "    weights = [w[0] for w in mapping.paulis]\n",
    "    operators = [w[1].to_label() for w in mapping.paulis]\n",
    "\n",
    "    return nk.operator.PauliStrings(operators, weights), mol.nuclear_repulsion_energy"
   ]
  },
  {
   "cell_type": "code",
   "execution_count": 3,
   "metadata": {},
   "outputs": [],
   "source": [
    "import netket as nk\n",
    "import numpy as np\n",
    "from qiskit.chemistry.drivers import PySCFDriver\n",
    "from qiskit.chemistry import FermionicOperator\n",
    "\n",
    "#systemData={'driver_string': 'Li 0.0 0.0 0.0; H 0.0 0.0 1.54', 'basis': 'sto3g'}\n",
    "systemData={'driver_string': 'H 0.0 0.0 0.0; H 0.0 0.0 0.734', 'basis': 'sto3g'}\n",
    "\n",
    "driver = PySCFDriver(   atom=systemData[\"driver_string\"],\n",
    "                        basis=systemData[\"basis\"]       )\n",
    "                        \n",
    "mol = driver.run()\n",
    "OB = mol.one_body_integrals\n",
    "TB = mol.two_body_integrals\n",
    "\n",
    "FerOp = FermionicOperator(OB, TB)\n",
    "mapping = FerOp.mapping('jordan_wigner')\n",
    "weights = [w[0] for w in mapping.paulis]\n",
    "operators = [w[1].to_label() for w in mapping.paulis]\n",
    "ha = nk.operator.PauliStrings(operators, weights)"
   ]
  },
  {
   "cell_type": "code",
   "execution_count": 5,
   "metadata": {},
   "outputs": [
    {
     "output_type": "stream",
     "name": "stdout",
     "text": [
      "['IIII', 'IIIZ', 'IIZI', 'IZII', 'ZIII', 'IIZZ', 'IZIZ', 'XXYY', 'YYYY', 'XXXX', 'YYXX', 'ZIIZ', 'IZZI', 'ZIZI', 'ZZII']\nOnly unique operators:  True\n"
     ]
    }
   ],
   "source": [
    "#print(weights)\n",
    "print(operators)\n",
    "print(\"Only unique operators: \", len(operators)==len(np.unique(operators)))"
   ]
  },
  {
   "cell_type": "code",
   "execution_count": 7,
   "metadata": {},
   "outputs": [
    {
     "output_type": "execute_result",
     "data": {
      "text/plain": [
       "(array([[0., 0., 1., 1.],\n",
       "        [1., 1., 0., 0.],\n",
       "        [1., 1., 0., 0.]]),\n",
       " array([-1.24432134+0.j,  0.04521886+0.j, -0.04521886+0.j]))"
      ]
     },
     "metadata": {},
     "execution_count": 7
    }
   ],
   "source": [
    "ha.get_conn(np.array([0,0,1,1]))"
   ]
  },
  {
   "cell_type": "code",
   "execution_count": 12,
   "metadata": {},
   "outputs": [
    {
     "output_type": "stream",
     "name": "stdout",
     "text": [
      "matrix value at connection:  0j\n"
     ]
    }
   ],
   "source": [
    "print('matrix value at connection: ', ha.to_dense()[3,12])"
   ]
  },
  {
   "cell_type": "code",
   "execution_count": 11,
   "metadata": {},
   "outputs": [
    {
     "output_type": "stream",
     "name": "stdout",
     "text": [
      "  (0, 15)\t(0.04521886247455258+0j)\n  (0, 15)\t(-0.04521886247455258+0j)\n  (1, 1)\t(-1.2569462599509778+0j)\n  (1, 14)\t(0.04521886247455258+0j)\n  (1, 14)\t(-0.04521886247455258+0j)\n  (2, 2)\t(-0.4712556865101021+0j)\n  (2, 13)\t(0.04521886247455258+0j)\n  (2, 13)\t(-0.04521886247455258+0j)\n  (3, 3)\t(-1.2443213422905401+0j)\n  (3, 12)\t(0.04521886247455258+0j)\n  (3, 12)\t(-0.04521886247455258+0j)\n  (4, 4)\t(-1.2569462599509778+0j)\n  (4, 11)\t(-0.04521886247455258+0j)\n  (4, 11)\t(0.04521886247455258+0j)\n  (5, 5)\t(-1.8379915067757562+0j)\n  (5, 10)\t(0.13565658742365774+0j)\n  (5, 10)\t(0.04521886247455258+0j)\n  (6, 6)\t(-1.06344589239233+0j)\n  (6, 9)\t(0.13565658742365774+0j)\n  (6, 9)\t(0.04521886247455258+0j)\n  (7, 7)\t(-1.1606105350465685+0j)\n  (7, 8)\t(-0.04521886247455258+0j)\n  (7, 8)\t(0.04521886247455258+0j)\n  (8, 8)\t(-0.4712556865101021+0j)\n  (8, 7)\t(-0.04521886247455258+0j)\n  (8, 7)\t(0.04521886247455258+0j)\n  (9, 9)\t(-1.0634458923923304+0j)\n  (9, 6)\t(0.13565658742365774+0j)\n  (9, 6)\t(0.04521886247455258+0j)\n  (10, 10)\t(-0.24375288184229946+0j)\n  (10, 5)\t(0.13565658742365774+0j)\n  (10, 5)\t(0.04521886247455258+0j)\n  (11, 11)\t(-0.3520624835539874+0j)\n  (11, 4)\t(-0.04521886247455258+0j)\n  (11, 4)\t(0.04521886247455258+0j)\n  (12, 12)\t(-1.2443213422905406+0j)\n  (12, 3)\t(0.04521886247455258+0j)\n  (12, 3)\t(-0.04521886247455258+0j)\n  (13, 13)\t(-1.160610535046569+0j)\n  (13, 2)\t(0.04521886247455258+0j)\n  (13, 2)\t(-0.04521886247455258+0j)\n  (14, 14)\t(-0.3520624835539875+0j)\n  (14, 1)\t(0.04521886247455258+0j)\n  (14, 1)\t(-0.04521886247455258+0j)\n  (15, 15)\t(0.2155289278605241+0j)\n  (15, 0)\t(0.04521886247455258+0j)\n  (15, 0)\t(-0.04521886247455258+0j)\n"
     ]
    },
    {
     "output_type": "execute_result",
     "data": {
      "text/plain": [
       "'\\nProblem: multiple entries of the same connection! \\n'"
      ]
     },
     "metadata": {},
     "execution_count": 11
    }
   ],
   "source": [
    "print(ha.to_sparse())\n",
    "'''\n",
    "Problem: multiple entries of the same connection! \n",
    "'''"
   ]
  },
  {
   "cell_type": "code",
   "execution_count": 10,
   "metadata": {},
   "outputs": [
    {
     "output_type": "error",
     "ename": "AttributeError",
     "evalue": "'Qubit' object has no attribute 'state_to_number'",
     "traceback": [
      "\u001b[0;31m---------------------------------------------------------------------------\u001b[0m",
      "\u001b[0;31mAttributeError\u001b[0m                            Traceback (most recent call last)",
      "\u001b[0;32m<ipython-input-10-c8d61b40d245>\u001b[0m in \u001b[0;36m<module>\u001b[0;34m\u001b[0m\n\u001b[0;32m----> 1\u001b[0;31m \u001b[0mprint\u001b[0m\u001b[0;34m(\u001b[0m\u001b[0;34m'index of state [0,0,1,1]: '\u001b[0m\u001b[0;34m,\u001b[0m \u001b[0mha\u001b[0m\u001b[0;34m.\u001b[0m\u001b[0mhilbert\u001b[0m\u001b[0;34m.\u001b[0m\u001b[0mstate_to_number\u001b[0m\u001b[0;34m(\u001b[0m\u001b[0mnp\u001b[0m\u001b[0;34m.\u001b[0m\u001b[0marray\u001b[0m\u001b[0;34m(\u001b[0m\u001b[0;34m[\u001b[0m\u001b[0;36m0\u001b[0m\u001b[0;34m,\u001b[0m\u001b[0;36m0\u001b[0m\u001b[0;34m,\u001b[0m\u001b[0;36m1\u001b[0m\u001b[0;34m,\u001b[0m\u001b[0;36m1\u001b[0m\u001b[0;34m]\u001b[0m\u001b[0;34m)\u001b[0m\u001b[0;34m)\u001b[0m\u001b[0;34m)\u001b[0m\u001b[0;34m\u001b[0m\u001b[0;34m\u001b[0m\u001b[0m\n\u001b[0m\u001b[1;32m      2\u001b[0m \u001b[0mprint\u001b[0m\u001b[0;34m(\u001b[0m\u001b[0;34m'index of state [1,1,0,0]: '\u001b[0m\u001b[0;34m,\u001b[0m \u001b[0mha\u001b[0m\u001b[0;34m.\u001b[0m\u001b[0mhilbert\u001b[0m\u001b[0;34m.\u001b[0m\u001b[0mstate_to_number\u001b[0m\u001b[0;34m(\u001b[0m\u001b[0mnp\u001b[0m\u001b[0;34m.\u001b[0m\u001b[0marray\u001b[0m\u001b[0;34m(\u001b[0m\u001b[0;34m[\u001b[0m\u001b[0;36m1\u001b[0m\u001b[0;34m,\u001b[0m\u001b[0;36m1\u001b[0m\u001b[0;34m,\u001b[0m\u001b[0;36m0\u001b[0m\u001b[0;34m,\u001b[0m\u001b[0;36m0\u001b[0m\u001b[0;34m]\u001b[0m\u001b[0;34m)\u001b[0m\u001b[0;34m)\u001b[0m\u001b[0;34m)\u001b[0m\u001b[0;34m\u001b[0m\u001b[0;34m\u001b[0m\u001b[0m\n",
      "\u001b[0;31mAttributeError\u001b[0m: 'Qubit' object has no attribute 'state_to_number'"
     ]
    }
   ],
   "source": [
    "print('index of state [0,0,1,1]: ', ha.hilbert.state_to_number(np.array([0,0,1,1])))\n",
    "print('index of state [1,1,0,0]: ', ha.hilbert.state_to_number(np.array([1,1,0,0])))"
   ]
  },
  {
   "cell_type": "code",
   "execution_count": 13,
   "metadata": {},
   "outputs": [
    {
     "output_type": "stream",
     "name": "stdout",
     "text": [
      "  (0, 7)\t(-1+0j)\n  (0, 7)\t(2+0j)\n  (0, 1)\t(1+0j)\n  (1, 6)\t(-1+0j)\n  (1, 6)\t(2+0j)\n  (1, 0)\t(1+0j)\n  (2, 5)\t(1+0j)\n  (2, 5)\t(2+0j)\n  (2, 3)\t(-1+0j)\n  (3, 4)\t(1+0j)\n  (3, 4)\t(2+0j)\n  (3, 2)\t(-1+0j)\n  (4, 3)\t(1+0j)\n  (4, 3)\t(2+0j)\n  (4, 5)\t(-1+0j)\n  (5, 2)\t(1+0j)\n  (5, 2)\t(2+0j)\n  (5, 4)\t(-1+0j)\n  (6, 1)\t(-1+0j)\n  (6, 1)\t(2+0j)\n  (6, 7)\t(1+0j)\n  (7, 0)\t(-1+0j)\n  (7, 0)\t(2+0j)\n  (7, 6)\t(1+0j)\n"
     ]
    }
   ],
   "source": [
    "#minimal example: sparse representation contains multiple instances for same entry (same (i,j))\n",
    "# this is run in netket 3.0b1.post3\n",
    "# netket 2.1.1 seems to not have the problem\n",
    "import netket as nk\n",
    "ha = nk.operator.PauliStrings(operators=['YYX', 'XXX', 'ZZX'], weights=[1,2,1])\n",
    "print(ha.to_sparse())"
   ]
  },
  {
   "cell_type": "code",
   "execution_count": 79,
   "metadata": {},
   "outputs": [
    {
     "output_type": "stream",
     "name": "stdout",
     "text": [
      "  (0, 7)\t(1+0j)\n  (0, 7)\t(-1+0j)\n  (1, 6)\t(1+0j)\n  (1, 6)\t(-1+0j)\n  (2, 5)\t(1+0j)\n  (2, 5)\t(1+0j)\n  (3, 4)\t(1+0j)\n  (3, 4)\t(1+0j)\n  (4, 3)\t(1+0j)\n  (4, 3)\t(1+0j)\n  (5, 2)\t(1+0j)\n  (5, 2)\t(1+0j)\n  (6, 1)\t(1+0j)\n  (6, 1)\t(-1+0j)\n  (7, 0)\t(1+0j)\n  (7, 0)\t(-1+0j)\n"
     ]
    }
   ],
   "source": [
    "print(ha.to_sparse())"
   ]
  },
  {
   "cell_type": "code",
   "execution_count": 71,
   "metadata": {},
   "outputs": [
    {
     "output_type": "stream",
     "name": "stdout",
     "text": [
      "  (0, 0)\t(2+0j)\n  (0, 3)\t(-2+0j)\n  (1, 1)\t(-2+0j)\n  (1, 2)\t(2+0j)\n  (2, 2)\t(-2+0j)\n  (2, 1)\t(2+0j)\n  (3, 3)\t(2+0j)\n  (3, 0)\t(-2+0j)\n"
     ]
    }
   ],
   "source": [
    "import netket as nk\n",
    "\n",
    "ha = nk.operator.PauliStrings(operators=['ZZ', 'YY'], weights=[2,2])\n",
    "print(ha.to_sparse())"
   ]
  },
  {
   "cell_type": "code",
   "execution_count": 3,
   "metadata": {},
   "outputs": [
    {
     "output_type": "stream",
     "name": "stderr",
     "text": [
      "/Users/yapple/.pyenv/versions/miniconda3-4.7.12/envs/nk3/lib/python3.8/site-packages/qiskit/chemistry/fermionic_operator.py:386: DeprecationWarning: The package qiskit.aqua.operators is deprecated. It was moved/refactored to qiskit.opflow (pip install qiskit-terra). For more information see <https://github.com/Qiskit/qiskit-aqua/blob/master/README.md#migration-guide>\n  pauli_list = WeightedPauliOperator(paulis=[])\n/Users/yapple/.pyenv/versions/miniconda3-4.7.12/envs/nk3/lib/python3.8/site-packages/qiskit/chemistry/fermionic_operator.py:394: DeprecationWarning: The variable qiskit.aqua.aqua_globals is deprecated. It was moved/refactored to qiskit.utils.aqua_globals (pip install qiskit-terra). For more information see <https://github.com/Qiskit/qiskit-aqua/blob/master/README.md#migration-guide>\n  task_args=(threshold,), num_processes=aqua_globals.num_processes)\n"
     ]
    }
   ],
   "source": [
    "ha, nre = JW_H({'driver_string': 'H 0.0 0.0 0.0; H 0.0 0.0 0.734', 'basis': 'sto3g'})\n",
    "hi = ha.hilbert\n",
    "n_electrons=2"
   ]
  },
  {
   "cell_type": "code",
   "execution_count": 8,
   "metadata": {},
   "outputs": [],
   "source": [
    "ha, nre = JW_H({'driver_string': 'Li 0.0 0.0 0.0; H 0.0 0.0 1.54', 'basis': 'sto3g'})\n",
    "hi = ha.hilbert\n",
    "n_electrons=4"
   ]
  },
  {
   "cell_type": "code",
   "execution_count": null,
   "metadata": {},
   "outputs": [],
   "source": [
    "ha, nre = JW_H({'driver_string': 'C 0.0 0.0 0.0; C 0.0 0.0 1.26', 'basis': 'sto3g'})\n",
    "hi = ha.hilbert\n",
    "n_electrons=12"
   ]
  },
  {
   "cell_type": "code",
   "execution_count": 4,
   "metadata": {},
   "outputs": [
    {
     "output_type": "stream",
     "name": "stdout",
     "text": [
      "Exact ground state energy = [-1.13730541]\n"
     ]
    }
   ],
   "source": [
    "res = nk.exact.lanczos_ed(ha, k=1, compute_eigenvectors=False)\n",
    "print(\"Exact ground state energy = {}\".format(res+nre))"
   ]
  },
  {
   "source": [
    "## EERSTE STUK NK3"
   ],
   "cell_type": "markdown",
   "metadata": {}
  },
  {
   "cell_type": "code",
   "execution_count": null,
   "metadata": {},
   "outputs": [],
   "source": [
    "print(ha.is_hermitian)"
   ]
  },
  {
   "cell_type": "code",
   "execution_count": null,
   "metadata": {},
   "outputs": [],
   "source": [
    "#nk.config.update(\"NETKET_EXPERIMENTAL\", 1)"
   ]
  },
  {
   "cell_type": "code",
   "execution_count": null,
   "metadata": {},
   "outputs": [],
   "source": [
    "ma = nk.models.RBM(alpha=2, use_visible_bias=True, use_hidden_bias=True, dtype=complex, kernel_init=nk.nn.initializers.normal(stddev=0.1))\n",
    "g = nk.graph.Hypercube(length=hi.size, pbc=False)\n",
    "sa = nk.sampler.MetropolisExchange(hilbert=hi, graph=g)\n",
    "\n",
    "\n",
    "vs = nk.variational.MCState(sa, ma, n_samples=20000)\n",
    "vs.init_parameters(nk.nn.initializers.normal(stddev=0.1))\n",
    "\n",
    "op = nk.optimizer.Adam(learning_rate=0.01)\n",
    "sr = nk.optimizer.SR(diag_shift=0.1) # Default 0.01\n",
    "\n",
    "vmc = nk.VMC(\n",
    "        hamiltonian=ha,\n",
    "        optimizer=op,\n",
    "        sr=sr,\n",
    "        variational_state=vs)"
   ]
  },
  {
   "cell_type": "code",
   "execution_count": null,
   "metadata": {},
   "outputs": [],
   "source": [
    "for it in vmc.iter(500,5):\n",
    "    print(it,vmc.energy)"
   ]
  },
  {
   "source": [
    "## VANAF HIER NK2.9"
   ],
   "cell_type": "markdown",
   "metadata": {}
  },
  {
   "cell_type": "code",
   "execution_count": 5,
   "metadata": {},
   "outputs": [
    {
     "output_type": "stream",
     "name": "stderr",
     "text": [
      "WARNING:absl:No GPU/TPU found, falling back to CPU. (Set TF_CPP_MIN_LOG_LEVEL=0 and rerun for more info.)\n"
     ]
    }
   ],
   "source": [
    "from netket.machine.jax import JaxRbm\n",
    "ma = JaxRbm(hi, alpha=2, dtype=complex)\n",
    "chain_length=16\n",
    "\n",
    "ma.init_random_parameters(seed=1234, sigma=0.05)\n",
    "sa = nk.sampler.MetropolisLocal(machine=ma, n_chains=chain_length)"
   ]
  },
  {
   "cell_type": "code",
   "execution_count": null,
   "metadata": {
    "tags": []
   },
   "outputs": [],
   "source": [
    "g = nk.graph.Hypercube(length=hi.size, pbc=False)\n",
    "sa = nk.sampler.MetropolisExchange(machine=ma, graph=g, n_chains=chain_length)\n",
    "\n",
    "n_up = []\n",
    "tries = 20000\n",
    "for i in range(tries):\n",
    "    n_up = []\n",
    "    sa = nk.sampler.MetropolisExchange(machine=ma, graph=g, n_chains=chain_length)\n",
    "    for ss in sa.samples(1):\n",
    "        for s in ss:\n",
    "             #print(s, list(s).count(1))\n",
    "             n_up.append(int(list(s).count(1)))\n",
    "    if n_up.count(n_electrons) == chain_length: print('found after %d tries' %(i)); break\n",
    "if i+1==tries:\n",
    "    print('not found')\n",
    "else:\n",
    "    for s in sa.samples(2):\n",
    "        print(s)"
   ]
  },
  {
   "cell_type": "code",
   "execution_count": 8,
   "metadata": {
    "tags": []
   },
   "outputs": [
    {
     "output_type": "stream",
     "name": "stderr",
     "text": [
      "/Users/yapple/.pyenv/versions/miniconda3-4.7.12/envs/nk3/lib/python3.8/site-packages/jax/_src/numpy/lax_numpy.py:2905: ComplexWarning: Casting complex values to real discards the imaginary part\n",
      "  out = lax.convert_element_type(out, dtype, weak_type=weak_type)\n",
      "0 -5.0279+0.0000j ± 0.0070 [σ²=3.4048, R̂=1.0000] -3.9970270510111274\n"
     ]
    }
   ],
   "source": [
    "I = []\n",
    "E = []\n",
    "# Optimizer\n",
    "opt = nk.optimizer.Sgd(ma, learning_rate=0.1)\n",
    "#opt = nk.optimizer.AdaMax(ma, alpha=0.1)\n",
    "\n",
    "# Stochastic reconfiguration\n",
    "sr = nk.optimizer.SR(ma, diag_shift=0.1, use_iterative=True)\n",
    "    \n",
    "# The ground-state optimization loop\n",
    "vmc = nk.Vmc(\n",
    "            hamiltonian=ha,\n",
    "            sampler=sa,\n",
    "            optimizer=opt,\n",
    "            n_samples=100000,\n",
    "            #n_discard=10*hi.size,\n",
    "            sr=sr)\n",
    "\n",
    "for it in vmc.iter(400,5):\n",
    "    print(it,vmc.energy, vmc.energy.mean.real+nre)\n",
    "    I.append(it)\n",
    "    E.append(vmc.energy.mean.real)"
   ]
  },
  {
   "cell_type": "code",
   "execution_count": null,
   "metadata": {},
   "outputs": [],
   "source": [
    "plt.plot(I,E)"
   ]
  },
  {
   "cell_type": "code",
   "execution_count": null,
   "metadata": {},
   "outputs": [],
   "source": [
    "i=0\n",
    "while (vmc._samples[-i]==vmc._samples[-1]).all():\n",
    "    i+=1\n",
    "print(vmc._samples[-1],vmc._samples[-i], i)"
   ]
  }
 ]
}