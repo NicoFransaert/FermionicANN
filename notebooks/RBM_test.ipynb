{
 "metadata": {
  "language_info": {
   "codemirror_mode": {
    "name": "ipython",
    "version": 3
   },
   "file_extension": ".py",
   "mimetype": "text/x-python",
   "name": "python",
   "nbconvert_exporter": "python",
   "pygments_lexer": "ipython3",
   "version": "3.7.9"
  },
  "orig_nbformat": 2,
  "kernelspec": {
   "name": "python379jvsc74a57bd061ef42597bfc4f958d32afbb5dacd43c54e6d0f039c12669499b863fdeec7d7e",
   "display_name": "Python 3.7.9 64-bit ('nkcenv': conda)"
  }
 },
 "nbformat": 4,
 "nbformat_minor": 2,
 "cells": [
  {
   "cell_type": "code",
   "execution_count": 8,
   "metadata": {},
   "outputs": [
    {
     "output_type": "stream",
     "name": "stdout",
     "text": [
      "{'molecule': 'LiH', 'basis': 'sto3g', 'n_basisfuncs': 12, 'distance': 1.5474999999999999, 'atomstring': 'Li 0.0 0.0 0.0; H 0.0 0.0 1.547500', 'eq': True, 'tot_energy': -7.882762239224967, 'nuc_rep_energy': 1.0258685828820677, 'n_electrons': 4}\n"
     ]
    }
   ],
   "source": [
    "import netket as nk\n",
    "from qiskit.chemistry.drivers import PySCFDriver\n",
    "from qiskit.chemistry import FermionicOperator\n",
    "import numpy as np\n",
    "\n",
    "from system_dicts import *\n",
    "\n",
    "#systemData = b631g_H2[4]\n",
    "systemData = sto3g_H2_eq\n",
    "systemData = sto3g_LiH_eq\n",
    "\n",
    "#systemData={'driver_string': 'H 0.0 0.0 0.0; H 0.0 0.0 0.734', 'basis': 'sto3g'}; n_electrons=2\n",
    "#systemData={'driver_string': 'H 0.0 0.0 0.0; H 0.0 0.0 0.734', 'basis': '631g'}; n_electrons=2\n",
    "#systemData={'driver_string': 'Li 0.0 0.0 0.0; H 0.0 0.0 1.54', 'basis': 'sto3g'}; n_electrons=4\n",
    "#systemData={'driver_string': 'C 0.0 0.0 0.0; C 0.0 0.0 1.26', 'basis': 'sto3g'}; n_electrons=12\n",
    "\n",
    "print(systemData)\n",
    "driver = PySCFDriver(   atom=systemData[\"atomstring\"],\n",
    "                        basis=systemData[\"basis\"])\n",
    "                        \n",
    "mol = driver.run()\n",
    "OB = mol.one_body_integrals\n",
    "TB = mol.two_body_integrals\n",
    "\n",
    "nre = mol.nuclear_repulsion_energy\n",
    "\n",
    "FerOp = FermionicOperator(OB, TB)\n",
    "#FerOp.fermion_mode_elimination([0])\n",
    "mapping = FerOp.mapping('jordan_wigner')\n",
    "weights = [w[0] for w in mapping.paulis]\n",
    "operators = [w[1].to_label() for w in mapping.paulis]\n",
    "ha = nk.operator.PauliStrings(operators, weights)\n",
    "\n",
    "g = nk.graph.Hypercube(n_dim=1, length=ha.hilbert.size, pbc=False)\n",
    "hi = nk.hilbert.Qubit(graph=g)\n",
    "assert(hi.size==ha.hilbert.size)\n"
   ]
  },
  {
   "cell_type": "code",
   "execution_count": 9,
   "metadata": {},
   "outputs": [
    {
     "output_type": "stream",
     "name": "stdout",
     "text": [
      "Exact ground state energy = -7.882762239225094\n"
     ]
    }
   ],
   "source": [
    "res = nk.exact.lanczos_ed(ha, first_n=1, compute_eigenvectors=True)\n",
    "print(\"Exact ground state energy = {}\".format(res.eigenvalues[0] + nre))"
   ]
  },
  {
   "cell_type": "code",
   "execution_count": 15,
   "metadata": {},
   "outputs": [
    {
     "output_type": "execute_result",
     "data": {
      "text/plain": [
       "[(-0.7679638858396891-0.6214357598580641j),\n",
       " (-0.028828751658577123-0.02332820269682904j),\n",
       " (-0.0025891375635314945-0.002095128037709306j),\n",
       " (-0.02882875165857784-0.02332820269682099j),\n",
       " (0.02531070561116622+0.02048140265973749j),\n",
       " (-0.044187917168548606-0.03575682709631196j),\n",
       " (0.002923689111462927+0.0023658468816982595j),\n",
       " (0.021560465633569618+0.017446711480763724j),\n",
       " (-0.002420409940714022-0.0019585937807883157j),\n",
       " (-0.002420409940714069-0.0019585937807882433j),\n",
       " (0.0013951255181510014+0.0011289344492047158j),\n",
       " (0.02156046563356896+0.017446711480763155j),\n",
       " (-0.0024204099407140345-0.0019585937807883123j),\n",
       " (-0.002420409940713983-0.0019585937807883435j),\n",
       " (0.0013951255181510044+0.0011289344492047197j),\n",
       " (-0.0025891375635310084-0.0020951280377081473j),\n",
       " (-0.04418791716854821-0.03575682709631451j),\n",
       " (0.08567707486741709+0.06932982019647185j)]"
      ]
     },
     "metadata": {},
     "execution_count": 15
    }
   ],
   "source": [
    "[i for i in res.eigenvectors[0] if np.abs(i)>1e-3]"
   ]
  },
  {
   "cell_type": "code",
   "execution_count": 2,
   "metadata": {},
   "outputs": [
    {
     "output_type": "execute_result",
     "data": {
      "text/plain": [
       "(array([[1., 0., 1., 0.],\n",
       "        [0., 1., 0., 1.]]),\n",
       " array([-0.24507193+0.j,  0.18092562+0.j]))"
      ]
     },
     "metadata": {},
     "execution_count": 2
    }
   ],
   "source": [
    "ha.get_conn([1,0,1,0])"
   ]
  },
  {
   "cell_type": "code",
   "execution_count": 3,
   "metadata": {},
   "outputs": [
    {
     "output_type": "stream",
     "name": "stdout",
     "text": [
      "  (1, 1)\t(-1.256399771763353+0j)\n  (2, 2)\t(-0.47183206191522586+0j)\n  (3, 3)\t(-1.2445582981540573+0j)\n  (4, 4)\t(-1.2563997717633526+0j)\n  (5, 5)\t(-1.8370703030514297+0j)\n  (5, 10)\t(0.1809256232545573+0j)\n  (6, 6)\t(-1.0636326748995+0j)\n  (6, 9)\t(0.1809256232545573+0j)\n  (7, 7)\t(-1.1606296706630561+0j)\n  (8, 8)\t(-0.47183206191522586+0j)\n  (9, 6)\t(0.1809256232545573+0j)\n  (9, 9)\t(-1.0636326748995+0j)\n  (10, 5)\t(0.1809256232545573+0j)\n  (10, 10)\t(-0.24507192913251044+0j)\n  (11, 11)\t(-0.35319900659226366+0j)\n  (12, 12)\t(-1.2445582981540573+0j)\n  (13, 13)\t(-1.160629670663056+0j)\n  (14, 14)\t(-0.35319900659226366+0j)\n  (15, 15)\t(0.21440315642325872+0j)\n"
     ]
    }
   ],
   "source": [
    "print(ha.to_sparse())"
   ]
  },
  {
   "cell_type": "code",
   "execution_count": 4,
   "metadata": {
    "tags": []
   },
   "outputs": [
    {
     "output_type": "stream",
     "name": "stdout",
     "text": [
      "found after 89 tries\n[[0. 1. 1. 0.]\n [1. 0. 1. 0.]\n [1. 1. 0. 0.]\n [0. 1. 1. 0.]]\n[[0. 0. 1. 1.]\n [1. 0. 0. 1.]\n [0. 1. 1. 0.]\n [0. 1. 0. 1.]]\n"
     ]
    }
   ],
   "source": [
    "np.random.seed(seed=123)\n",
    "nk.random.seed(seed=123)\n",
    "\n",
    "ma = nk.machine.RbmSpin(hi, alpha=2)\n",
    "ma.init_random_parameters(seed=1234, sigma=0.05)\n",
    "\n",
    "op = nk.optimizer.Sgd(0.1)\n",
    "\n",
    "chain_length = 4\n",
    "sa = nk.sampler.MetropolisExchange(machine=ma, n_chains=chain_length)\n",
    "\n",
    "n_up = []\n",
    "tries = 20000\n",
    "for i in range(tries):\n",
    "    n_up = []\n",
    "    sa = nk.sampler.MetropolisExchange(machine=ma, n_chains=chain_length)\n",
    "    for ss in sa.samples(1):\n",
    "        for s in ss:\n",
    "             #print(s, list(s).count(1))\n",
    "             n_up.append(int(list(s).count(1)))\n",
    "    if n_up.count(systemData[\"n_electrons\"]) == chain_length: print('found after %d tries' %(i)); break\n",
    "if i+1==tries:\n",
    "    print('not found')\n",
    "else:\n",
    "    for s in sa.samples(2):\n",
    "        print(s)\n",
    "\n",
    "vmc = nk.variational.Vmc(\n",
    "    hamiltonian=ha,\n",
    "    sampler=sa,\n",
    "    optimizer=op,\n",
    "    n_samples=100000,\n",
    "    diag_shift=0.1,\n",
    "    use_iterative=True,\n",
    "    method='Sr')"
   ]
  },
  {
   "cell_type": "code",
   "execution_count": 8,
   "metadata": {},
   "outputs": [
    {
     "output_type": "execute_result",
     "data": {
      "text/plain": [
       "44"
      ]
     },
     "metadata": {},
     "execution_count": 8
    }
   ],
   "source": [
    "ma.n_par"
   ]
  },
  {
   "cell_type": "code",
   "execution_count": 6,
   "metadata": {},
   "outputs": [
    {
     "output_type": "stream",
     "name": "stdout",
     "text": [
      "0 (-1.00795 + 0.00000i) ± 0.00091 [var=0.24160, R=0.99999] (-0.28788154817764744+1.549888986781332e-06j)\n",
      "1 (-1.0400 - 0.0000i) ± 0.0016 [var=0.2452, R=1.00000] (-0.3199552902930701-3.708654106069396e-05j)\n",
      "2 (-1.0759 - 0.0000i) ± 0.0013 [var=0.2469, R=0.99999] (-0.35582961058358176-3.2834114649470694e-05j)\n",
      "3 (-1.11219 + 0.00001i) ± 0.00093 [var=0.24586, R=0.99999] (-0.392123800377996+9.310681020858973e-06j)\n",
      "4 (-1.14700 + 0.00000i) ± 0.00088 [var=0.24625, R=0.99999] (-0.42693222944872244+5.262856047489654e-07j)\n"
     ]
    }
   ],
   "source": [
    "I=[]\n",
    "E=[]\n",
    "for it in vmc.iter(5,1):\n",
    "    print(it,vmc.energy, vmc.energy.mean + nre)\n",
    "    I.append(it)\n",
    "    E.append(vmc.energy.mean.real)"
   ]
  }
 ]
}