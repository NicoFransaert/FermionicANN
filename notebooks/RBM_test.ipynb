{
 "metadata": {
  "language_info": {
   "codemirror_mode": {
    "name": "ipython",
    "version": 3
   },
   "file_extension": ".py",
   "mimetype": "text/x-python",
   "name": "python",
   "nbconvert_exporter": "python",
   "pygments_lexer": "ipython3",
   "version": "3.7.9"
  },
  "orig_nbformat": 2,
  "kernelspec": {
   "name": "python379jvsc74a57bd061ef42597bfc4f958d32afbb5dacd43c54e6d0f039c12669499b863fdeec7d7e",
   "display_name": "Python 3.7.9 64-bit ('nkcenv': conda)"
  }
 },
 "nbformat": 4,
 "nbformat_minor": 2,
 "cells": [
  {
   "cell_type": "code",
   "execution_count": 1,
   "metadata": {},
   "outputs": [
    {
     "output_type": "stream",
     "name": "stderr",
     "text": [
      "/Users/yapple/.pyenv/versions/miniconda3-4.7.12/envs/nkcenv/lib/python3.7/site-packages/qiskit/chemistry/__init__.py:170: DeprecationWarning: The package qiskit.chemistry is deprecated. It was moved/refactored to qiskit_nature (pip install qiskit-nature). For more information see <https://github.com/Qiskit/qiskit-aqua/blob/master/README.md#migration-guide>\n",
      "  warn_package('chemistry', 'qiskit_nature', 'qiskit-nature')\n",
      "{'molecule': 'H2', 'basis': 'sto3g', 'n_basisfuncs': 4, 'distance': 0.7348999999999997, 'atomstring': 'H 0.0 0.0 0.0; H 0.0 0.0 0.734900', 'eq': True, 'tot_energy': -1.1373060501921608, 'n_electrons': 2}\n",
      "/Users/yapple/.pyenv/versions/miniconda3-4.7.12/envs/nkcenv/lib/python3.7/site-packages/qiskit/chemistry/fermionic_operator.py:386: DeprecationWarning: The package qiskit.aqua.operators is deprecated. It was moved/refactored to qiskit.opflow (pip install qiskit-terra). For more information see <https://github.com/Qiskit/qiskit-aqua/blob/master/README.md#migration-guide>\n",
      "  pauli_list = WeightedPauliOperator(paulis=[])\n",
      "/Users/yapple/.pyenv/versions/miniconda3-4.7.12/envs/nkcenv/lib/python3.7/site-packages/qiskit/chemistry/fermionic_operator.py:394: DeprecationWarning: The variable qiskit.aqua.aqua_globals is deprecated. It was moved/refactored to qiskit.utils.aqua_globals (pip install qiskit-terra). For more information see <https://github.com/Qiskit/qiskit-aqua/blob/master/README.md#migration-guide>\n",
      "  task_args=(threshold,), num_processes=aqua_globals.num_processes)\n"
     ]
    }
   ],
   "source": [
    "import netket as nk\n",
    "from qiskit.chemistry.drivers import PySCFDriver\n",
    "from qiskit.chemistry import FermionicOperator\n",
    "import numpy as np\n",
    "\n",
    "from system_dicts import *\n",
    "\n",
    "#systemData = b631g_H2[4]\n",
    "systemData = sto3g_H2[3]\n",
    "\n",
    "#systemData={'driver_string': 'H 0.0 0.0 0.0; H 0.0 0.0 0.734', 'basis': 'sto3g'}; n_electrons=2\n",
    "#systemData={'driver_string': 'H 0.0 0.0 0.0; H 0.0 0.0 0.734', 'basis': '631g'}; n_electrons=2\n",
    "#systemData={'driver_string': 'Li 0.0 0.0 0.0; H 0.0 0.0 1.54', 'basis': 'sto3g'}; n_electrons=4\n",
    "#systemData={'driver_string': 'C 0.0 0.0 0.0; C 0.0 0.0 1.26', 'basis': 'sto3g'}; n_electrons=12\n",
    "\n",
    "print(systemData)\n",
    "driver = PySCFDriver(   atom=systemData[\"atomstring\"],\n",
    "                        basis=systemData[\"basis\"])\n",
    "                        \n",
    "mol = driver.run()\n",
    "OB = mol.one_body_integrals\n",
    "TB = mol.two_body_integrals\n",
    "\n",
    "nre = mol.nuclear_repulsion_energy\n",
    "\n",
    "FerOp = FermionicOperator(OB, TB)\n",
    "#FerOp.fermion_mode_elimination([0])\n",
    "mapping = FerOp.mapping('jordan_wigner')\n",
    "weights = [w[0] for w in mapping.paulis]\n",
    "operators = [w[1].to_label() for w in mapping.paulis]\n",
    "ha = nk.operator.PauliStrings(operators, weights)\n",
    "\n",
    "g = nk.graph.Hypercube(n_dim=1, length=ha.hilbert.size, pbc=False)\n",
    "hi = nk.hilbert.Qubit(graph=g)\n",
    "assert(hi.size==ha.hilbert.size)\n"
   ]
  },
  {
   "cell_type": "code",
   "execution_count": 2,
   "metadata": {},
   "outputs": [
    {
     "output_type": "stream",
     "name": "stdout",
     "text": [
      "Exact ground state energy = -1.1511621890123025\n"
     ]
    }
   ],
   "source": [
    "res = nk.exact.lanczos_ed(ha, first_n=1, compute_eigenvectors=False)\n",
    "print(\"Exact ground state energy = {}\".format(res.eigenvalues[0] + nre))"
   ]
  },
  {
   "cell_type": "code",
   "execution_count": 3,
   "metadata": {},
   "outputs": [
    {
     "output_type": "stream",
     "name": "stdout",
     "text": [
      "  (1, 1)\t(-1.2223002165506713+0j)\n  (1, 4)\t(-0.16259078402216834+0j)\n  (2, 2)\t(-0.5571981480916433+0j)\n  (2, 8)\t(0.20616810035124639+0j)\n  (3, 3)\t(-1.4284427619214306+0j)\n  (3, 6)\t(0.09384404941711434+0j)\n  (3, 9)\t(0.1431033514393945+0j)\n  (3, 12)\t(-0.049240758498173165+0j)\n  (4, 1)\t(-0.16259078402216834+0j)\n  (4, 4)\t(-0.15654139913780638+0j)\n  (5, 5)\t(-0.9581961095717589+0j)\n  (5, 10)\t(-0.06264789271383672+0j)\n  (6, 3)\t(0.09384404941711434+0j)\n  (6, 6)\t(-0.36511674666417715+0j)\n  (6, 9)\t(-0.013407134215663568+0j)\n  (6, 12)\t(-0.11119173362333379+0j)\n  (7, 7)\t(-0.8157158543772463+0j)\n  (7, 13)\t(-0.048126984711481954+0j)\n  (8, 2)\t(0.20616810035124639+0j)\n  (8, 8)\t(0.1951525503234273+0j)\n  (9, 3)\t(0.1431033514393945+0j)\n  (9, 6)\t(-0.013407134215663568+0j)\n  (9, 9)\t(-0.5120051646484123+0j)\n  (9, 12)\t(-0.08920822110167316+0j)\n  (10, 5)\t(-0.06264789271383672+0j)\n  :\t:\n  (246, 243)\t(-0.4388414947363243+0j)\n  (246, 246)\t(3.89546937757655+0j)\n  (246, 249)\t(-0.013407134215663568+0j)\n  (246, 252)\t(0.3582490241900455+0j)\n  (247, 247)\t(5.694121317064383+0j)\n  (247, 253)\t(0.4213137731018973+0j)\n  (248, 242)\t(-0.26327265746213296+0j)\n  (248, 248)\t(3.246170887231945+0j)\n  (249, 243)\t(-0.3263374063739848+0j)\n  (249, 246)\t(-0.013407134215663568+0j)\n  (249, 249)\t(4.788264219461008+0j)\n  (249, 252)\t(0.44347732305176546+0j)\n  (250, 245)\t(-0.06264789271383672+0j)\n  (250, 250)\t(4.71282316935598+0j)\n  (251, 251)\t(6.6059721043059305+0j)\n  (251, 254)\t(-0.5122240576568194+0j)\n  (252, 243)\t(-0.049240758498173165+0j)\n  (252, 246)\t(0.3582490241900455+0j)\n  (252, 249)\t(0.44347732305176546+0j)\n  (252, 252)\t(5.431785984594176+0j)\n  (253, 247)\t(0.4213137731018973+0j)\n  (253, 253)\t(7.3945248229399585+0j)\n  (254, 251)\t(-0.5122240576568194+0j)\n  (254, 254)\t(7.247061067283482+0j)\n  (255, 255)\t(9.560855508350148+0j)\n"
     ]
    }
   ],
   "source": [
    "print(ha.to_sparse())"
   ]
  },
  {
   "cell_type": "code",
   "execution_count": 2,
   "metadata": {
    "tags": []
   },
   "outputs": [
    {
     "output_type": "stream",
     "name": "stdout",
     "text": [
      "found after 19 tries\n[[1. 1. 0. 0.]\n [0. 0. 1. 1.]\n [0. 1. 1. 0.]\n [0. 1. 0. 1.]]\n[[1. 1. 0. 0.]\n [0. 0. 1. 1.]\n [1. 0. 0. 1.]\n [1. 1. 0. 0.]]\n"
     ]
    }
   ],
   "source": [
    "np.random.seed(seed=123)\n",
    "nk.random.seed(seed=123)\n",
    "\n",
    "ma = nk.machine.RbmSpin(hi, alpha=2)\n",
    "ma.init_random_parameters(seed=1234, sigma=0.05)\n",
    "\n",
    "op = nk.optimizer.Sgd(0.1)\n",
    "\n",
    "chain_length = 4\n",
    "sa = nk.sampler.MetropolisExchange(machine=ma, n_chains=chain_length)\n",
    "\n",
    "n_up = []\n",
    "tries = 20000\n",
    "for i in range(tries):\n",
    "    n_up = []\n",
    "    sa = nk.sampler.MetropolisExchange(machine=ma, n_chains=chain_length)\n",
    "    for ss in sa.samples(1):\n",
    "        for s in ss:\n",
    "             #print(s, list(s).count(1))\n",
    "             n_up.append(int(list(s).count(1)))\n",
    "    if n_up.count(systemData[\"n_electrons\"]) == chain_length: print('found after %d tries' %(i)); break\n",
    "if i+1==tries:\n",
    "    print('not found')\n",
    "else:\n",
    "    for s in sa.samples(2):\n",
    "        print(s)\n",
    "\n",
    "vmc = nk.variational.Vmc(\n",
    "    hamiltonian=ha,\n",
    "    sampler=sa,\n",
    "    optimizer=op,\n",
    "    n_samples=100000,\n",
    "    diag_shift=0.1,\n",
    "    use_iterative=True,\n",
    "    method='Sr')"
   ]
  },
  {
   "cell_type": "code",
   "execution_count": 3,
   "metadata": {},
   "outputs": [
    {
     "output_type": "execute_result",
     "data": {
      "text/plain": [
       "44"
      ]
     },
     "metadata": {},
     "execution_count": 3
    }
   ],
   "source": [
    "ma.n_par"
   ]
  },
  {
   "cell_type": "code",
   "execution_count": 5,
   "metadata": {},
   "outputs": [
    {
     "output_type": "stream",
     "name": "stdout",
     "text": [
      "0 (0.86 + 0.00i) ± 0.56 [var=0.83, R=1.58786] (1.538533526090288+7.260408963062639e-05j)\n",
      "5 (0.28 + 0.00i) ± 0.46 [var=0.69, R=1.48506] (0.9575438373449372+1.9706559330816713e-05j)\n"
     ]
    },
    {
     "output_type": "error",
     "ename": "KeyboardInterrupt",
     "evalue": "",
     "traceback": [
      "\u001b[0;31m---------------------------------------------------------------------------\u001b[0m",
      "\u001b[0;31mKeyboardInterrupt\u001b[0m                         Traceback (most recent call last)",
      "\u001b[0;32m<ipython-input-5-31f3f95273d5>\u001b[0m in \u001b[0;36m<module>\u001b[0;34m\u001b[0m\n\u001b[1;32m      1\u001b[0m \u001b[0mI\u001b[0m\u001b[0;34m=\u001b[0m\u001b[0;34m[\u001b[0m\u001b[0;34m]\u001b[0m\u001b[0;34m\u001b[0m\u001b[0;34m\u001b[0m\u001b[0m\n\u001b[1;32m      2\u001b[0m \u001b[0mE\u001b[0m\u001b[0;34m=\u001b[0m\u001b[0;34m[\u001b[0m\u001b[0;34m]\u001b[0m\u001b[0;34m\u001b[0m\u001b[0;34m\u001b[0m\u001b[0m\n\u001b[0;32m----> 3\u001b[0;31m \u001b[0;32mfor\u001b[0m \u001b[0mit\u001b[0m \u001b[0;32min\u001b[0m \u001b[0mvmc\u001b[0m\u001b[0;34m.\u001b[0m\u001b[0miter\u001b[0m\u001b[0;34m(\u001b[0m\u001b[0;36m1000\u001b[0m\u001b[0;34m,\u001b[0m\u001b[0;36m5\u001b[0m\u001b[0;34m)\u001b[0m\u001b[0;34m:\u001b[0m\u001b[0;34m\u001b[0m\u001b[0;34m\u001b[0m\u001b[0m\n\u001b[0m\u001b[1;32m      4\u001b[0m     \u001b[0mprint\u001b[0m\u001b[0;34m(\u001b[0m\u001b[0mit\u001b[0m\u001b[0;34m,\u001b[0m\u001b[0mvmc\u001b[0m\u001b[0;34m.\u001b[0m\u001b[0menergy\u001b[0m\u001b[0;34m,\u001b[0m \u001b[0mvmc\u001b[0m\u001b[0;34m.\u001b[0m\u001b[0menergy\u001b[0m\u001b[0;34m.\u001b[0m\u001b[0mmean\u001b[0m \u001b[0;34m+\u001b[0m \u001b[0mnre\u001b[0m\u001b[0;34m)\u001b[0m\u001b[0;34m\u001b[0m\u001b[0;34m\u001b[0m\u001b[0m\n\u001b[1;32m      5\u001b[0m     \u001b[0mI\u001b[0m\u001b[0;34m.\u001b[0m\u001b[0mappend\u001b[0m\u001b[0;34m(\u001b[0m\u001b[0mit\u001b[0m\u001b[0;34m)\u001b[0m\u001b[0;34m\u001b[0m\u001b[0;34m\u001b[0m\u001b[0m\n",
      "\u001b[0;32m~/.pyenv/versions/miniconda3-4.7.12/envs/nkcenv/lib/python3.7/site-packages/netket/abstract_variational_driver.py\u001b[0m in \u001b[0;36miter\u001b[0;34m(self, n_steps, step)\u001b[0m\n\u001b[1;32m    126\u001b[0m         \u001b[0;32mfor\u001b[0m \u001b[0m_\u001b[0m \u001b[0;32min\u001b[0m \u001b[0mrange\u001b[0m\u001b[0;34m(\u001b[0m\u001b[0;36m0\u001b[0m\u001b[0;34m,\u001b[0m \u001b[0mn_steps\u001b[0m\u001b[0;34m,\u001b[0m \u001b[0mstep\u001b[0m\u001b[0;34m)\u001b[0m\u001b[0;34m:\u001b[0m\u001b[0;34m\u001b[0m\u001b[0;34m\u001b[0m\u001b[0m\n\u001b[1;32m    127\u001b[0m             \u001b[0;32mfor\u001b[0m \u001b[0mi\u001b[0m \u001b[0;32min\u001b[0m \u001b[0mrange\u001b[0m\u001b[0;34m(\u001b[0m\u001b[0;36m0\u001b[0m\u001b[0;34m,\u001b[0m \u001b[0mstep\u001b[0m\u001b[0;34m)\u001b[0m\u001b[0;34m:\u001b[0m\u001b[0;34m\u001b[0m\u001b[0;34m\u001b[0m\u001b[0m\n\u001b[0;32m--> 128\u001b[0;31m                 \u001b[0mdp\u001b[0m \u001b[0;34m=\u001b[0m \u001b[0mself\u001b[0m\u001b[0;34m.\u001b[0m\u001b[0m_forward_and_backward\u001b[0m\u001b[0;34m(\u001b[0m\u001b[0;34m)\u001b[0m\u001b[0;34m\u001b[0m\u001b[0;34m\u001b[0m\u001b[0m\n\u001b[0m\u001b[1;32m    129\u001b[0m                 \u001b[0;32mif\u001b[0m \u001b[0mi\u001b[0m \u001b[0;34m==\u001b[0m \u001b[0;36m0\u001b[0m\u001b[0;34m:\u001b[0m\u001b[0;34m\u001b[0m\u001b[0;34m\u001b[0m\u001b[0m\n\u001b[1;32m    130\u001b[0m                     \u001b[0;32myield\u001b[0m \u001b[0mself\u001b[0m\u001b[0;34m.\u001b[0m\u001b[0mstep_count\u001b[0m\u001b[0;34m\u001b[0m\u001b[0;34m\u001b[0m\u001b[0m\n",
      "\u001b[0;32m~/.pyenv/versions/miniconda3-4.7.12/envs/nkcenv/lib/python3.7/site-packages/netket/_vmc.py\u001b[0m in \u001b[0;36m_forward_and_backward\u001b[0;34m(self)\u001b[0m\n\u001b[1;32m    134\u001b[0m \u001b[0;34m\u001b[0m\u001b[0m\n\u001b[1;32m    135\u001b[0m         \u001b[0;31m# Compute the local energy estimator and average Energy\u001b[0m\u001b[0;34m\u001b[0m\u001b[0;34m\u001b[0m\u001b[0;34m\u001b[0m\u001b[0m\n\u001b[0;32m--> 136\u001b[0;31m         \u001b[0meloc\u001b[0m\u001b[0;34m,\u001b[0m \u001b[0mself\u001b[0m\u001b[0;34m.\u001b[0m\u001b[0m_loss_stats\u001b[0m \u001b[0;34m=\u001b[0m \u001b[0mself\u001b[0m\u001b[0;34m.\u001b[0m\u001b[0m_get_mc_stats\u001b[0m\u001b[0;34m(\u001b[0m\u001b[0mself\u001b[0m\u001b[0;34m.\u001b[0m\u001b[0m_ham\u001b[0m\u001b[0;34m)\u001b[0m\u001b[0;34m\u001b[0m\u001b[0;34m\u001b[0m\u001b[0m\n\u001b[0m\u001b[1;32m    137\u001b[0m \u001b[0;34m\u001b[0m\u001b[0m\n\u001b[1;32m    138\u001b[0m         \u001b[0;31m# Perform update\u001b[0m\u001b[0;34m\u001b[0m\u001b[0;34m\u001b[0m\u001b[0;34m\u001b[0m\u001b[0m\n",
      "\u001b[0;32m~/.pyenv/versions/miniconda3-4.7.12/envs/nkcenv/lib/python3.7/site-packages/netket/_vmc.py\u001b[0m in \u001b[0;36m_get_mc_stats\u001b[0;34m(self, op)\u001b[0m\n\u001b[1;32m    195\u001b[0m         \u001b[0mloc\u001b[0m \u001b[0;34m=\u001b[0m \u001b[0m_np\u001b[0m\u001b[0;34m.\u001b[0m\u001b[0mempty\u001b[0m\u001b[0;34m(\u001b[0m\u001b[0mself\u001b[0m\u001b[0;34m.\u001b[0m\u001b[0m_samples\u001b[0m\u001b[0;34m.\u001b[0m\u001b[0mshape\u001b[0m\u001b[0;34m[\u001b[0m\u001b[0;36m0\u001b[0m\u001b[0;34m:\u001b[0m\u001b[0;36m2\u001b[0m\u001b[0;34m]\u001b[0m\u001b[0;34m,\u001b[0m \u001b[0mdtype\u001b[0m\u001b[0;34m=\u001b[0m\u001b[0m_np\u001b[0m\u001b[0;34m.\u001b[0m\u001b[0mcomplex128\u001b[0m\u001b[0;34m)\u001b[0m\u001b[0;34m\u001b[0m\u001b[0;34m\u001b[0m\u001b[0m\n\u001b[1;32m    196\u001b[0m         \u001b[0;32mfor\u001b[0m \u001b[0mi\u001b[0m\u001b[0;34m,\u001b[0m \u001b[0msample\u001b[0m \u001b[0;32min\u001b[0m \u001b[0menumerate\u001b[0m\u001b[0;34m(\u001b[0m\u001b[0mself\u001b[0m\u001b[0;34m.\u001b[0m\u001b[0m_samples\u001b[0m\u001b[0;34m)\u001b[0m\u001b[0;34m:\u001b[0m\u001b[0;34m\u001b[0m\u001b[0;34m\u001b[0m\u001b[0m\n\u001b[0;32m--> 197\u001b[0;31m             \u001b[0m_local_values\u001b[0m\u001b[0;34m(\u001b[0m\u001b[0mop\u001b[0m\u001b[0;34m,\u001b[0m \u001b[0mself\u001b[0m\u001b[0;34m.\u001b[0m\u001b[0m_machine\u001b[0m\u001b[0;34m,\u001b[0m \u001b[0msample\u001b[0m\u001b[0;34m,\u001b[0m \u001b[0mout\u001b[0m\u001b[0;34m=\u001b[0m\u001b[0mloc\u001b[0m\u001b[0;34m[\u001b[0m\u001b[0mi\u001b[0m\u001b[0;34m]\u001b[0m\u001b[0;34m)\u001b[0m\u001b[0;34m\u001b[0m\u001b[0;34m\u001b[0m\u001b[0m\n\u001b[0m\u001b[1;32m    198\u001b[0m \u001b[0;34m\u001b[0m\u001b[0m\n\u001b[1;32m    199\u001b[0m         \u001b[0;32mreturn\u001b[0m \u001b[0mloc\u001b[0m\u001b[0;34m,\u001b[0m \u001b[0m_statistics\u001b[0m\u001b[0;34m(\u001b[0m\u001b[0mloc\u001b[0m\u001b[0;34m)\u001b[0m\u001b[0;34m\u001b[0m\u001b[0;34m\u001b[0m\u001b[0m\n",
      "\u001b[0;32m~/.pyenv/versions/miniconda3-4.7.12/envs/nkcenv/lib/python3.7/site-packages/netket/operator/local_values.py\u001b[0m in \u001b[0;36mlocal_values\u001b[0;34m(op, machine, v, log_vals, out)\u001b[0m\n\u001b[1;32m     91\u001b[0m     \u001b[0;32mif\u001b[0m \u001b[0mlog_vals\u001b[0m \u001b[0;32mis\u001b[0m \u001b[0;32mNone\u001b[0m\u001b[0;34m:\u001b[0m\u001b[0;34m\u001b[0m\u001b[0;34m\u001b[0m\u001b[0m\n\u001b[1;32m     92\u001b[0m         \u001b[0;32mif\u001b[0m \u001b[0;32mnot\u001b[0m \u001b[0mis_op_times_op\u001b[0m\u001b[0;34m:\u001b[0m\u001b[0;34m\u001b[0m\u001b[0;34m\u001b[0m\u001b[0m\n\u001b[0;32m---> 93\u001b[0;31m             \u001b[0mlog_vals\u001b[0m \u001b[0;34m=\u001b[0m \u001b[0mmachine\u001b[0m\u001b[0;34m.\u001b[0m\u001b[0mlog_val\u001b[0m\u001b[0;34m(\u001b[0m\u001b[0mv\u001b[0m\u001b[0;34m)\u001b[0m\u001b[0;34m\u001b[0m\u001b[0;34m\u001b[0m\u001b[0m\n\u001b[0m\u001b[1;32m     94\u001b[0m         \u001b[0;32melse\u001b[0m\u001b[0;34m:\u001b[0m\u001b[0;34m\u001b[0m\u001b[0;34m\u001b[0m\u001b[0m\n\u001b[1;32m     95\u001b[0m             \u001b[0mlog_vals\u001b[0m \u001b[0;34m=\u001b[0m \u001b[0mmachine\u001b[0m\u001b[0;34m.\u001b[0m\u001b[0mlog_val\u001b[0m\u001b[0;34m(\u001b[0m\u001b[0mv\u001b[0m\u001b[0;34m,\u001b[0m \u001b[0mv\u001b[0m\u001b[0;34m)\u001b[0m\u001b[0;34m\u001b[0m\u001b[0;34m\u001b[0m\u001b[0m\n",
      "\u001b[0;31mKeyboardInterrupt\u001b[0m: "
     ]
    }
   ],
   "source": [
    "I=[]\n",
    "E=[]\n",
    "for it in vmc.iter(1000,5):\n",
    "    print(it,vmc.energy, vmc.energy.mean + nre)\n",
    "    I.append(it)\n",
    "    E.append(vmc.energy.mean.real)"
   ]
  }
 ]
}