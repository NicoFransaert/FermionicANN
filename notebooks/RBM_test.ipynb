{
 "metadata": {
  "language_info": {
   "codemirror_mode": {
    "name": "ipython",
    "version": 3
   },
   "file_extension": ".py",
   "mimetype": "text/x-python",
   "name": "python",
   "nbconvert_exporter": "python",
   "pygments_lexer": "ipython3",
   "version": "3.9.2-final"
  },
  "orig_nbformat": 2,
  "kernelspec": {
   "name": "python3",
   "display_name": "Python 3.9.2 64-bit ('scqs_env': conda)",
   "metadata": {
    "interpreter": {
     "hash": "2e87f09a1fb9d9a0fd716eefb8fd94f8220d99a65c99c091ce245f92ba9e3ddb"
    }
   }
  }
 },
 "nbformat": 4,
 "nbformat_minor": 2,
 "cells": [
  {
   "cell_type": "code",
   "execution_count": 9,
   "metadata": {},
   "outputs": [],
   "source": [
    "# Import netket library\n",
    "import netket as nk\n",
    "from qiskit.chemistry import FermionicOperator\n",
    "import itertools\n",
    "\n",
    "# Helper libraries\n",
    "import numpy as np\n",
    "import os\n",
    "import time\n",
    "import json\n",
    "\n",
    "# Own libraries\n",
    "# import utility as ut"
   ]
  },
  {
   "cell_type": "code",
   "execution_count": null,
   "metadata": {},
   "outputs": [],
   "source": [
    "%config Completer.use_jedi = False"
   ]
  },
  {
   "cell_type": "code",
   "execution_count": 136,
   "metadata": {},
   "outputs": [],
   "source": [
    "# Unpack data\n",
    "# N = 2\n",
    "# N = systemData['totalBasisSize']\n",
    "# molecule = systemData['molecule']\n",
    "# basis = systemData['basis']\n",
    "\n",
    "# make filename\n",
    "outfile = 'testH2'\n",
    "nElectrons=2\n",
    "\n",
    "#H2\n",
    "OB = np.load('../data/integrals/STO-3G/STO-3G_H2_OB_d0-7339_eq1.npy')\n",
    "TB = np.load('../data/integrals/STO-3G/STO-3G_H2_TB_d0-7339_eq1.npy')   \n",
    "\n",
    "########\n",
    "FerOp = FermionicOperator(OB, TB)\n",
    "\n",
    "\n",
    "mapping = FerOp.mapping('jordan_wigner')\n",
    "weights = [w[0] for w in mapping.paulis]\n",
    "operators = [w[1].to_label() for w in mapping.paulis]\n",
    "\n",
    "ha = nk.operator.PauliStrings(operators, weights)\n",
    "hi = ha.hilbert\n",
    "\n",
    "# seed\n",
    "np.random.seed(seed=123)\n",
    "nk.legacy.random.seed(seed=123)\n",
    "\n",
    "# g = nk.graph.Hypercube(length=N, n_dim=1, pbc=False)\n",
    "# hi = nk.hilbert.Spin(s=0.5, N=g.n_nodes, total_sz=0) # Remove sector!!\n",
    "# ha = nk.operator.\n",
    "# ha = nk.operator.Heisenberg(graph=g, hilbert=hi)\n",
    "\n",
    "ma = nk.models.RBM(alpha=2, use_visible_bias=True, use_hidden_bias=True, dtype=complex, kernel_init=nk.nn.initializers.normal(stddev=0.1))\n",
    "# ma.init_random_parameters(seed=seed, sigma=0.1)\n",
    "\n",
    "# sa = nk.sampler.MetropolisHamiltonian(graph=g, machine=ma)\n",
    "# sa = nk.sampler.MetropolisExchange(hilbert=hi)\n",
    "g = nk.graph.Hypercube(length=2, n_dim=1, pbc=False)\n",
    "sa = nk.sampler.MetropolisExchange(hilbert=hi, graph=g, n_chains=1)"
   ]
  },
  {
   "cell_type": "code",
   "execution_count": 131,
   "metadata": {},
   "outputs": [],
   "source": [
    "vs = nk.variational.MCState(sa, ma, n_samples=1000)\n",
    "vs.init_parameters(nk.nn.initializers.normal(stddev=0.1))"
   ]
  },
  {
   "cell_type": "code",
   "execution_count": 129,
   "metadata": {},
   "outputs": [
    {
     "output_type": "stream",
     "name": "stdout",
     "text": [
      "[[0. 1.]]\n1.0\n"
     ]
    }
   ],
   "source": [
    "sampleState = sa.reset(machine=ma, parameters=vs.parameters)\n",
    "print(sampleState.σ)\n",
    "nDown = len(np.array(sampleState.σ[0])) - np.array(sampleState.σ).sum()\n",
    "print(nDown)"
   ]
  },
  {
   "cell_type": "code",
   "execution_count": 101,
   "metadata": {},
   "outputs": [
    {
     "output_type": "execute_result",
     "data": {
      "text/plain": [
       "1.0"
      ]
     },
     "metadata": {},
     "execution_count": 101
    }
   ],
   "source": [
    "nElectrons/2"
   ]
  },
  {
   "cell_type": "code",
   "execution_count": 193,
   "metadata": {},
   "outputs": [
    {
     "output_type": "stream",
     "name": "stdout",
     "text": [
      "[[0. 1.]] 1.0\n"
     ]
    }
   ],
   "source": [
    "nDown = 0\n",
    "while nDown != int(nElectrons/2): \n",
    "    sa = nk.sampler.MetropolisExchange(hilbert=hi, graph=g, n_chains=1)\n",
    "    vs = nk.variational.MCState(sa, ma, n_samples=1000)\n",
    "    sampleState = vs.sampler_state\n",
    "    nDown = len(np.array(sampleState.σ[0])) - np.array(sampleState.σ).sum()\n",
    "    print(sampleState.σ, nDown)"
   ]
  },
  {
   "cell_type": "code",
   "execution_count": 188,
   "metadata": {},
   "outputs": [],
   "source": [
    "opt = 'sgd'\n",
    "vs.init_parameters(nk.nn.initializers.normal(stddev=0.1))\n",
    "if opt == 'sgd':\n",
    "    op = nk.optimizer.Sgd(learning_rate=lr)\n",
    "elif opt == 'adam':\n",
    "    op = nk.optimizer.Adam(learning_rate=lr)\n",
    "else:\n",
    "    raise NotImplementedError('optimizer not implemented: ', opt)\n",
    "\n",
    "sr = nk.optimizer.SR(diag_shift=0.1) # Default 0.01\n",
    "\n",
    "vmc = nk.VMC(\n",
    "        hamiltonian=ha,\n",
    "        optimizer=op,\n",
    "        sr=sr,\n",
    "        variational_state=vs)\n",
    "\n",
    "print('the outfile is: ', outfile)\n",
    "start = time.time()\n",
    "vmc.run(out=outfile, n_iter=5000)\n",
    "end = time.time()"
   ]
  },
  {
   "cell_type": "code",
   "execution_count": 194,
   "metadata": {},
   "outputs": [
    {
     "output_type": "execute_result",
     "data": {
      "text/plain": [
       "DeviceArray([[0., 1.]], dtype=float64)"
      ]
     },
     "metadata": {},
     "execution_count": 194
    }
   ],
   "source": [
    "state = vs.sampler_state\n",
    "state.σ"
   ]
  },
  {
   "cell_type": "code",
   "execution_count": 157,
   "metadata": {},
   "outputs": [
    {
     "output_type": "execute_result",
     "data": {
      "text/plain": [
       "DeviceArray([[0., 1.]], dtype=float64)"
      ]
     },
     "metadata": {},
     "execution_count": 157
    }
   ],
   "source": [
    "sampleState.σ"
   ]
  },
  {
   "cell_type": "code",
   "execution_count": null,
   "metadata": {},
   "outputs": [],
   "source": []
  }
 ]
}