{
 "metadata": {
  "language_info": {
   "codemirror_mode": {
    "name": "ipython",
    "version": 3
   },
   "file_extension": ".py",
   "mimetype": "text/x-python",
   "name": "python",
   "nbconvert_exporter": "python",
   "pygments_lexer": "ipython3",
   "version": "3.8.8"
  },
  "orig_nbformat": 2,
  "kernelspec": {
   "name": "python388jvsc74a57bd0856afebc33129fd96afa3e838764661bd3c4a7b3ee62f05b1368743c0dd36819",
   "display_name": "Python 3.8.8 64-bit ('nk3': conda)"
  }
 },
 "nbformat": 4,
 "nbformat_minor": 2,
 "cells": [
  {
   "cell_type": "code",
   "execution_count": 1,
   "metadata": {},
   "outputs": [
    {
     "output_type": "stream",
     "name": "stderr",
     "text": [
      "/Users/yapple/.pyenv/versions/miniconda3-4.7.12/envs/nk3/lib/python3.8/site-packages/qiskit/chemistry/__init__.py:170: DeprecationWarning: The package qiskit.chemistry is deprecated. It was moved/refactored to qiskit_nature (pip install qiskit-nature). For more information see <https://github.com/Qiskit/qiskit-aqua/blob/master/README.md#migration-guide>\n  warn_package('chemistry', 'qiskit_nature', 'qiskit-nature')\n"
     ]
    }
   ],
   "source": [
    "# Import netket library\n",
    "import netket as nk\n",
    "from qiskit.chemistry import FermionicOperator\n",
    "import itertools\n",
    "\n",
    "# Helper libraries\n",
    "import numpy as np\n",
    "import matplotlib.pyplot as plt\n",
    "import os\n",
    "import time\n",
    "import json"
   ]
  },
  {
   "cell_type": "code",
   "execution_count": 2,
   "metadata": {},
   "outputs": [],
   "source": [
    "#H2\n",
    "n_electrons = 2\n",
    "OB = np.load('./data/integrals/STO-3G/STO-3G_H2_OB_d0-7339_eq1.npy')\n",
    "TB = np.load('./data/integrals/STO-3G/STO-3G_H2_TB_d0-7339_eq1.npy')  "
   ]
  },
  {
   "cell_type": "code",
   "execution_count": 3,
   "metadata": {},
   "outputs": [],
   "source": [
    "#LiH\n",
    "n_electrons=4\n",
    "OB = np.load('./data/integrals/STO-3G/STO-3G_LiH_OB_d1-548_eq1.npy')\n",
    "TB = np.load('./data/integrals/STO-3G/STO-3G_LiH_TB_d1-548_eq1.npy') "
   ]
  },
  {
   "cell_type": "code",
   "execution_count": 4,
   "metadata": {},
   "outputs": [
    {
     "output_type": "stream",
     "name": "stderr",
     "text": [
      "/Users/yapple/.pyenv/versions/miniconda3-4.7.12/envs/nk3/lib/python3.8/site-packages/qiskit/chemistry/fermionic_operator.py:386: DeprecationWarning: The package qiskit.aqua.operators is deprecated. It was moved/refactored to qiskit.opflow (pip install qiskit-terra). For more information see <https://github.com/Qiskit/qiskit-aqua/blob/master/README.md#migration-guide>\n",
      "  pauli_list = WeightedPauliOperator(paulis=[])\n",
      "/Users/yapple/.pyenv/versions/miniconda3-4.7.12/envs/nk3/lib/python3.8/site-packages/qiskit/chemistry/fermionic_operator.py:394: DeprecationWarning: The variable qiskit.aqua.aqua_globals is deprecated. It was moved/refactored to qiskit.utils.aqua_globals (pip install qiskit-terra). For more information see <https://github.com/Qiskit/qiskit-aqua/blob/master/README.md#migration-guide>\n",
      "  task_args=(threshold,), num_processes=aqua_globals.num_processes)\n",
      "6\n"
     ]
    }
   ],
   "source": [
    "FerOp = FermionicOperator(OB, TB)\n",
    "\n",
    "mapping = FerOp.mapping('jordan_wigner')\n",
    "weights = [w[0] for w in mapping.paulis]\n",
    "operators = [w[1].to_label() for w in mapping.paulis]\n",
    "\n",
    "ha = nk.operator.PauliStrings(operators, weights)\n",
    "hi = ha.hilbert\n",
    "print(hi.size)\n",
    "\n",
    "# seed\n",
    "np.random.seed(seed=123)\n",
    "nk.random.seed(seed=123)\n",
    "\n",
    "ma = nk.machine.RbmSpin(hi, alpha=2)\n",
    "ma.init_random_parameters(seed=1234, sigma=0.01)\n",
    "\n",
    "g = nk.graph.Hypercube(length = hi.size, n_dim=1, pbc=False)\n",
    "sa = nk.sampler.MetropolisExchange(machine=ma, n_chains=1, graph=g)"
   ]
  },
  {
   "cell_type": "code",
   "execution_count": 5,
   "metadata": {},
   "outputs": [
    {
     "output_type": "stream",
     "name": "stdout",
     "text": [
      "Exact ground state energy = [-6.29466025]\n"
     ]
    }
   ],
   "source": [
    "res = nk.exact.lanczos_ed(ha, k=1, compute_eigenvectors=False)\n",
    "print(\"Exact ground state energy = {}\".format(res))"
   ]
  },
  {
   "cell_type": "code",
   "execution_count": 6,
   "metadata": {
    "tags": []
   },
   "outputs": [
    {
     "output_type": "stream",
     "name": "stdout",
     "text": [
      "found after 10 tries\n[[0. 1. 0. 0. 0. 1.]\n [1. 0. 0. 1. 0. 0.]]\n[[0. 0. 0. 1. 0. 1.]\n [1. 1. 0. 0. 0. 0.]]\n"
     ]
    }
   ],
   "source": [
    "n_down = []\n",
    "chain_length=2\n",
    "tries = 20000\n",
    "for i in range(tries):\n",
    "    n_down = []\n",
    "    sa = nk.sampler.MetropolisExchange(machine=ma, n_chains=chain_length, graph=g)\n",
    "    for ss in sa.samples(1):\n",
    "        for s in ss:\n",
    "             #print(s, list(s).count(1))\n",
    "             n_down.append(int(list(s).count(1)))\n",
    "    if n_down.count(n_electrons/2) == chain_length: print('found after %d tries' %(i)); break\n",
    "if i+1==tries:\n",
    "    print('not found')\n",
    "else:\n",
    "    for s in sa.samples(2):\n",
    "        print(s)"
   ]
  },
  {
   "cell_type": "code",
   "execution_count": 7,
   "metadata": {},
   "outputs": [],
   "source": [
    "I = []\n",
    "E = []"
   ]
  },
  {
   "cell_type": "code",
   "execution_count": 8,
   "metadata": {
    "tags": []
   },
   "outputs": [
    {
     "output_type": "stream",
     "name": "stdout",
     "text": [
      "0 -3.477+0.000j ± 0.039 [σ²=4.135, R̂=0.9999]\n",
      "5 -4.714-0.000j ± 0.040 [σ²=3.586, R̂=1.0005]\n",
      "10 -5.331-0.000j ± 0.036 [σ²=2.333, R̂=1.0006]\n",
      "15 -5.592+0.000j ± 0.030 [σ²=1.660, R̂=1.0022]\n",
      "20 -5.705-0.000j ± 0.034 [σ²=1.429, R̂=1.0012]\n",
      "25 -5.893+0.000j ± 0.027 [σ²=0.913, R̂=1.0006]\n",
      "30 -5.918+0.000j ± 0.032 [σ²=0.978, R̂=1.0020]\n",
      "35 -5.991+0.000j ± 0.029 [σ²=0.767, R̂=0.9999]\n",
      "40 -6.049-0.000j ± 0.024 [σ²=0.578, R̂=0.9999]\n",
      "45 -6.104-0.000j ± 0.014 [σ²=0.360, R̂=1.0000]\n",
      "50 -6.099-0.000j ± 0.018 [σ²=0.452, R̂=1.0007]\n",
      "55 -6.133+0.000j ± 0.018 [σ²=0.343, R̂=1.0002]\n",
      "60 -6.149+0.000j ± 0.016 [σ²=0.298, R̂=1.0005]\n",
      "65 -6.159-0.000j ± 0.011 [σ²=0.284, R̂=1.0000]\n",
      "70 -6.1859-0.0001j ± 0.0060 [σ²=0.1593, R̂=1.0000]\n",
      "75 -6.1826-0.0001j ± 0.0066 [σ²=0.1593, R̂=0.9999]\n",
      "80 -6.154-0.000j ± 0.014 [σ²=0.302, R̂=1.0002]\n",
      "85 -6.1995+0.0000j ± 0.0061 [σ²=0.1552, R̂=0.9999]\n",
      "90 -6.182+0.000j ± 0.019 [σ²=0.270, R̂=1.0000]\n",
      "95 -6.188-0.000j ± 0.012 [σ²=0.182, R̂=0.9999]\n",
      "100 -6.129+0.000j ± 0.035 [σ²=0.521, R̂=1.0006]\n",
      "105 -6.203+0.000j ± 0.012 [σ²=0.210, R̂=1.0001]\n",
      "110 -6.161-0.000j ± 0.026 [σ²=0.405, R̂=1.0003]\n",
      "115 -6.2152-0.0000j ± 0.0047 [σ²=0.0942, R̂=0.9999]\n",
      "120 -6.177+0.000j ± 0.024 [σ²=0.275, R̂=1.0000]\n",
      "125 -6.153+0.000j ± 0.026 [σ²=0.447, R̂=1.0013]\n",
      "130 -6.213-0.000j ± 0.010 [σ²=0.140, R̂=1.0005]\n",
      "135 -6.176+0.000j ± 0.030 [σ²=0.347, R̂=0.9999]\n",
      "140 -6.196-0.000j ± 0.017 [σ²=0.246, R̂=1.0008]\n",
      "145 -6.182+0.000j ± 0.024 [σ²=0.263, R̂=1.0015]\n",
      "150 -6.166+0.000j ± 0.037 [σ²=0.404, R̂=0.9999]\n",
      "155 -6.188+0.000j ± 0.028 [σ²=0.264, R̂=1.0006]\n",
      "160 -6.210-0.000j ± 0.012 [σ²=0.164, R̂=1.0000]\n",
      "165 -6.181-0.000j ± 0.044 [σ²=0.413, R̂=1.0047]\n",
      "170 -6.2423-0.0001j ± 0.0056 [σ²=0.0886, R̂=0.9999]\n",
      "175 -6.2101+0.0001j ± 0.0077 [σ²=0.0974, R̂=0.9999]\n",
      "180 -6.212+0.000j ± 0.011 [σ²=0.193, R̂=0.9999]\n",
      "185 -6.2125+0.0000j ± 0.0054 [σ²=0.0685, R̂=1.0010]\n",
      "190 -6.2178-0.0000j ± 0.0063 [σ²=0.0954, R̂=1.0000]\n",
      "195 -6.2178+0.0001j ± 0.0074 [σ²=0.0938, R̂=0.9999]\n",
      "200 -6.206-0.000j ± 0.016 [σ²=0.188, R̂=1.0003]\n",
      "205 -6.2268-0.0000j ± 0.0068 [σ²=0.1161, R̂=1.0000]\n",
      "210 -6.2255-0.0001j ± 0.0062 [σ²=0.0844, R̂=1.0001]\n",
      "215 -6.151+0.000j ± 0.064 [σ²=0.529, R̂=1.0055]\n",
      "220 -6.205+0.000j ± 0.021 [σ²=0.228, R̂=1.0006]\n",
      "225 -6.202-0.000j ± 0.025 [σ²=0.302, R̂=1.0009]\n",
      "230 -6.196+0.000j ± 0.023 [σ²=0.251, R̂=1.0009]\n",
      "235 -6.222-0.000j ± 0.012 [σ²=0.195, R̂=1.0006]\n",
      "240 -6.2329-0.0001j ± 0.0065 [σ²=0.0990, R̂=1.0001]\n",
      "245 -6.2337-0.0001j ± 0.0073 [σ²=0.1117, R̂=1.0004]\n",
      "250 -6.2139+0.0001j ± 0.0068 [σ²=0.0833, R̂=1.0005]\n",
      "255 -6.2320-0.0001j ± 0.0081 [σ²=0.1496, R̂=1.0000]\n",
      "260 -6.201+0.000j ± 0.017 [σ²=0.219, R̂=0.9999]\n",
      "265 -6.2073+0.0001j ± 0.0069 [σ²=0.1103, R̂=1.0006]\n",
      "270 -6.178-0.000j ± 0.043 [σ²=0.504, R̂=1.0005]\n",
      "275 -6.200-0.000j ± 0.030 [σ²=0.285, R̂=1.0012]\n",
      "280 -6.185-0.000j ± 0.027 [σ²=0.439, R̂=0.9999]\n",
      "285 -6.213-0.000j ± 0.014 [σ²=0.174, R̂=0.9999]\n",
      "290 -6.2171+0.0000j ± 0.0080 [σ²=0.1005, R̂=1.0001]\n",
      "295 -6.135+0.000j ± 0.084 [σ²=0.637, R̂=1.0071]\n",
      "300 -6.2315-0.0001j ± 0.0054 [σ²=0.1019, R̂=0.9999]\n",
      "305 -6.2391-0.0001j ± 0.0064 [σ²=0.1036, R̂=1.0000]\n",
      "310 -6.2470-0.0002j ± 0.0041 [σ²=0.0984, R̂=0.9999]\n",
      "315 -6.216+0.000j ± 0.011 [σ²=0.124, R̂=0.9999]\n",
      "320 -6.2418-0.0001j ± 0.0059 [σ²=0.0915, R̂=1.0008]\n",
      "325 -6.206+0.000j ± 0.032 [σ²=0.280, R̂=1.0007]\n",
      "330 -6.179+0.000j ± 0.037 [σ²=0.341, R̂=1.0031]\n",
      "335 -6.120+0.000j ± 0.073 [σ²=0.730, R̂=1.0068]\n",
      "340 -6.219-0.000j ± 0.028 [σ²=0.273, R̂=1.0000]\n",
      "345 -6.2320+0.0000j ± 0.0081 [σ²=0.0807, R̂=1.0012]\n",
      "350 -6.2240+0.0000j ± 0.0069 [σ²=0.0635, R̂=1.0001]\n",
      "355 -6.2597-0.0001j ± 0.0058 [σ²=0.0858, R̂=1.0004]\n",
      "360 -6.231-0.000j ± 0.013 [σ²=0.165, R̂=0.9999]\n",
      "365 -6.2232+0.0000j ± 0.0065 [σ²=0.0539, R̂=1.0002]\n",
      "370 -6.210+0.000j ± 0.026 [σ²=0.222, R̂=1.0018]\n",
      "375 -6.2356+0.0000j ± 0.0081 [σ²=0.0766, R̂=1.0030]\n",
      "380 -6.2395-0.0001j ± 0.0072 [σ²=0.0701, R̂=1.0000]\n",
      "385 -6.2225+0.0001j ± 0.0099 [σ²=0.0749, R̂=1.0067]\n",
      "390 -6.2326+0.0000j ± 0.0080 [σ²=0.0869, R̂=1.0011]\n",
      "395 -6.193+0.000j ± 0.031 [σ²=0.364, R̂=1.0003]\n",
      "400 -6.212-0.000j ± 0.041 [σ²=0.345, R̂=1.0025]\n",
      "405 -6.253-0.000j ± 0.014 [σ²=0.187, R̂=1.0005]\n",
      "410 -6.2261+0.0001j ± 0.0076 [σ²=0.0614, R̂=1.0001]\n",
      "415 -6.227-0.000j ± 0.015 [σ²=0.168, R̂=0.9999]\n",
      "420 -6.181+0.000j ± 0.035 [σ²=0.280, R̂=1.0003]\n",
      "425 -6.2288+0.0001j ± 0.0061 [σ²=0.0643, R̂=1.0007]\n",
      "430 -6.2345+0.0000j ± 0.0057 [σ²=0.0601, R̂=0.9999]\n",
      "435 -6.2326+0.0000j ± 0.0061 [σ²=0.0462, R̂=1.0003]\n",
      "440 -6.185+0.000j ± 0.032 [σ²=0.263, R̂=1.0015]\n",
      "445 -6.02+0.00j ± 0.14 [σ²=1.52, R̂=1.0156]\n",
      "450 -6.2481-0.0001j ± 0.0082 [σ²=0.0782, R̂=0.9999]\n",
      "455 -6.2421-0.0001j ± 0.0059 [σ²=0.0611, R̂=1.0013]\n",
      "460 -6.229-0.000j ± 0.017 [σ²=0.230, R̂=1.0021]\n",
      "465 -6.2461-0.0001j ± 0.0079 [σ²=0.0859, R̂=0.9999]\n",
      "470 -6.2137+0.0002j ± 0.0077 [σ²=0.0578, R̂=0.9999]\n",
      "475 -6.2296+0.0001j ± 0.0060 [σ²=0.0646, R̂=1.0001]\n",
      "480 -6.2432-0.0001j ± 0.0062 [σ²=0.0810, R̂=0.9999]\n",
      "485 -6.2537-0.0002j ± 0.0063 [σ²=0.0810, R̂=1.0001]\n",
      "490 -6.2342-0.0000j ± 0.0079 [σ²=0.0876, R̂=1.0027]\n",
      "495 -6.2325+0.0002j ± 0.0075 [σ²=0.0586, R̂=1.0002]\n"
     ]
    }
   ],
   "source": [
    "# Optimizer\n",
    "opt = nk.optimizer.Sgd(ma, learning_rate=0.1)\n",
    "\n",
    "# Stochastic reconfiguration\n",
    "sr = nk.optimizer.SR(ma, diag_shift=0.1, use_iterative=True)\n",
    "    \n",
    "# The ground-state optimization loop\n",
    "vmc = nk.Vmc(\n",
    "            hamiltonian=ha,\n",
    "            sampler=sa,\n",
    "            optimizer=opt,\n",
    "            n_samples=10000,\n",
    "            sr=None)\n",
    "\n",
    "for it in vmc.iter(500,5):\n",
    "    print(it,vmc.energy)\n",
    "    I.append(it)\n",
    "    E.append(vmc.energy.mean.real)"
   ]
  },
  {
   "cell_type": "code",
   "execution_count": 9,
   "metadata": {},
   "outputs": [
    {
     "output_type": "execute_result",
     "data": {
      "text/plain": [
       "[<matplotlib.lines.Line2D at 0x7fac44683310>]"
      ]
     },
     "metadata": {},
     "execution_count": 9
    },
    {
     "output_type": "display_data",
     "data": {
      "text/plain": "<Figure size 432x288 with 1 Axes>",
      "image/svg+xml": "<?xml version=\"1.0\" encoding=\"utf-8\" standalone=\"no\"?>\n<!DOCTYPE svg PUBLIC \"-//W3C//DTD SVG 1.1//EN\"\n  \"http://www.w3.org/Graphics/SVG/1.1/DTD/svg11.dtd\">\n<!-- Created with matplotlib (https://matplotlib.org/) -->\n<svg height=\"248.518125pt\" version=\"1.1\" viewBox=\"0 0 380.482812 248.518125\" width=\"380.482812pt\" xmlns=\"http://www.w3.org/2000/svg\" xmlns:xlink=\"http://www.w3.org/1999/xlink\">\n <metadata>\n  <rdf:RDF xmlns:cc=\"http://creativecommons.org/ns#\" xmlns:dc=\"http://purl.org/dc/elements/1.1/\" xmlns:rdf=\"http://www.w3.org/1999/02/22-rdf-syntax-ns#\">\n   <cc:Work>\n    <dc:type rdf:resource=\"http://purl.org/dc/dcmitype/StillImage\"/>\n    <dc:date>2021-04-07T22:56:29.997191</dc:date>\n    <dc:format>image/svg+xml</dc:format>\n    <dc:creator>\n     <cc:Agent>\n      <dc:title>Matplotlib v3.3.4, https://matplotlib.org/</dc:title>\n     </cc:Agent>\n    </dc:creator>\n   </cc:Work>\n  </rdf:RDF>\n </metadata>\n <defs>\n  <style type=\"text/css\">*{stroke-linecap:butt;stroke-linejoin:round;}</style>\n </defs>\n <g id=\"figure_1\">\n  <g id=\"patch_1\">\n   <path d=\"M -0 248.518125 \nL 380.482812 248.518125 \nL 380.482812 0 \nL -0 0 \nz\n\" style=\"fill:none;\"/>\n  </g>\n  <g id=\"axes_1\">\n   <g id=\"patch_2\">\n    <path d=\"M 38.482813 224.64 \nL 373.282813 224.64 \nL 373.282813 7.2 \nL 38.482813 7.2 \nz\n\" style=\"fill:#ffffff;\"/>\n   </g>\n   <g id=\"matplotlib.axis_1\">\n    <g id=\"xtick_1\">\n     <g id=\"line2d_1\">\n      <defs>\n       <path d=\"M 0 0 \nL 0 3.5 \n\" id=\"m94e78843e7\" style=\"stroke:#000000;stroke-width:0.8;\"/>\n      </defs>\n      <g>\n       <use style=\"stroke:#000000;stroke-width:0.8;\" x=\"53.700994\" xlink:href=\"#m94e78843e7\" y=\"224.64\"/>\n      </g>\n     </g>\n     <g id=\"text_1\">\n      <!-- 0 -->\n      <g transform=\"translate(50.519744 239.238438)scale(0.1 -0.1)\">\n       <defs>\n        <path d=\"M 31.78125 66.40625 \nQ 24.171875 66.40625 20.328125 58.90625 \nQ 16.5 51.421875 16.5 36.375 \nQ 16.5 21.390625 20.328125 13.890625 \nQ 24.171875 6.390625 31.78125 6.390625 \nQ 39.453125 6.390625 43.28125 13.890625 \nQ 47.125 21.390625 47.125 36.375 \nQ 47.125 51.421875 43.28125 58.90625 \nQ 39.453125 66.40625 31.78125 66.40625 \nz\nM 31.78125 74.21875 \nQ 44.046875 74.21875 50.515625 64.515625 \nQ 56.984375 54.828125 56.984375 36.375 \nQ 56.984375 17.96875 50.515625 8.265625 \nQ 44.046875 -1.421875 31.78125 -1.421875 \nQ 19.53125 -1.421875 13.0625 8.265625 \nQ 6.59375 17.96875 6.59375 36.375 \nQ 6.59375 54.828125 13.0625 64.515625 \nQ 19.53125 74.21875 31.78125 74.21875 \nz\n\" id=\"DejaVuSans-48\"/>\n       </defs>\n       <use xlink:href=\"#DejaVuSans-48\"/>\n      </g>\n     </g>\n    </g>\n    <g id=\"xtick_2\">\n     <g id=\"line2d_2\">\n      <g>\n       <use style=\"stroke:#000000;stroke-width:0.8;\" x=\"115.188598\" xlink:href=\"#m94e78843e7\" y=\"224.64\"/>\n      </g>\n     </g>\n     <g id=\"text_2\">\n      <!-- 100 -->\n      <g transform=\"translate(105.644848 239.238438)scale(0.1 -0.1)\">\n       <defs>\n        <path d=\"M 12.40625 8.296875 \nL 28.515625 8.296875 \nL 28.515625 63.921875 \nL 10.984375 60.40625 \nL 10.984375 69.390625 \nL 28.421875 72.90625 \nL 38.28125 72.90625 \nL 38.28125 8.296875 \nL 54.390625 8.296875 \nL 54.390625 0 \nL 12.40625 0 \nz\n\" id=\"DejaVuSans-49\"/>\n       </defs>\n       <use xlink:href=\"#DejaVuSans-49\"/>\n       <use x=\"63.623047\" xlink:href=\"#DejaVuSans-48\"/>\n       <use x=\"127.246094\" xlink:href=\"#DejaVuSans-48\"/>\n      </g>\n     </g>\n    </g>\n    <g id=\"xtick_3\">\n     <g id=\"line2d_3\">\n      <g>\n       <use style=\"stroke:#000000;stroke-width:0.8;\" x=\"176.676201\" xlink:href=\"#m94e78843e7\" y=\"224.64\"/>\n      </g>\n     </g>\n     <g id=\"text_3\">\n      <!-- 200 -->\n      <g transform=\"translate(167.132451 239.238438)scale(0.1 -0.1)\">\n       <defs>\n        <path d=\"M 19.1875 8.296875 \nL 53.609375 8.296875 \nL 53.609375 0 \nL 7.328125 0 \nL 7.328125 8.296875 \nQ 12.9375 14.109375 22.625 23.890625 \nQ 32.328125 33.6875 34.8125 36.53125 \nQ 39.546875 41.84375 41.421875 45.53125 \nQ 43.3125 49.21875 43.3125 52.78125 \nQ 43.3125 58.59375 39.234375 62.25 \nQ 35.15625 65.921875 28.609375 65.921875 \nQ 23.96875 65.921875 18.8125 64.3125 \nQ 13.671875 62.703125 7.8125 59.421875 \nL 7.8125 69.390625 \nQ 13.765625 71.78125 18.9375 73 \nQ 24.125 74.21875 28.421875 74.21875 \nQ 39.75 74.21875 46.484375 68.546875 \nQ 53.21875 62.890625 53.21875 53.421875 \nQ 53.21875 48.921875 51.53125 44.890625 \nQ 49.859375 40.875 45.40625 35.40625 \nQ 44.1875 33.984375 37.640625 27.21875 \nQ 31.109375 20.453125 19.1875 8.296875 \nz\n\" id=\"DejaVuSans-50\"/>\n       </defs>\n       <use xlink:href=\"#DejaVuSans-50\"/>\n       <use x=\"63.623047\" xlink:href=\"#DejaVuSans-48\"/>\n       <use x=\"127.246094\" xlink:href=\"#DejaVuSans-48\"/>\n      </g>\n     </g>\n    </g>\n    <g id=\"xtick_4\">\n     <g id=\"line2d_4\">\n      <g>\n       <use style=\"stroke:#000000;stroke-width:0.8;\" x=\"238.163804\" xlink:href=\"#m94e78843e7\" y=\"224.64\"/>\n      </g>\n     </g>\n     <g id=\"text_4\">\n      <!-- 300 -->\n      <g transform=\"translate(228.620054 239.238438)scale(0.1 -0.1)\">\n       <defs>\n        <path d=\"M 40.578125 39.3125 \nQ 47.65625 37.796875 51.625 33 \nQ 55.609375 28.21875 55.609375 21.1875 \nQ 55.609375 10.40625 48.1875 4.484375 \nQ 40.765625 -1.421875 27.09375 -1.421875 \nQ 22.515625 -1.421875 17.65625 -0.515625 \nQ 12.796875 0.390625 7.625 2.203125 \nL 7.625 11.71875 \nQ 11.71875 9.328125 16.59375 8.109375 \nQ 21.484375 6.890625 26.8125 6.890625 \nQ 36.078125 6.890625 40.9375 10.546875 \nQ 45.796875 14.203125 45.796875 21.1875 \nQ 45.796875 27.640625 41.28125 31.265625 \nQ 36.765625 34.90625 28.71875 34.90625 \nL 20.21875 34.90625 \nL 20.21875 43.015625 \nL 29.109375 43.015625 \nQ 36.375 43.015625 40.234375 45.921875 \nQ 44.09375 48.828125 44.09375 54.296875 \nQ 44.09375 59.90625 40.109375 62.90625 \nQ 36.140625 65.921875 28.71875 65.921875 \nQ 24.65625 65.921875 20.015625 65.03125 \nQ 15.375 64.15625 9.8125 62.3125 \nL 9.8125 71.09375 \nQ 15.4375 72.65625 20.34375 73.4375 \nQ 25.25 74.21875 29.59375 74.21875 \nQ 40.828125 74.21875 47.359375 69.109375 \nQ 53.90625 64.015625 53.90625 55.328125 \nQ 53.90625 49.265625 50.4375 45.09375 \nQ 46.96875 40.921875 40.578125 39.3125 \nz\n\" id=\"DejaVuSans-51\"/>\n       </defs>\n       <use xlink:href=\"#DejaVuSans-51\"/>\n       <use x=\"63.623047\" xlink:href=\"#DejaVuSans-48\"/>\n       <use x=\"127.246094\" xlink:href=\"#DejaVuSans-48\"/>\n      </g>\n     </g>\n    </g>\n    <g id=\"xtick_5\">\n     <g id=\"line2d_5\">\n      <g>\n       <use style=\"stroke:#000000;stroke-width:0.8;\" x=\"299.651408\" xlink:href=\"#m94e78843e7\" y=\"224.64\"/>\n      </g>\n     </g>\n     <g id=\"text_5\">\n      <!-- 400 -->\n      <g transform=\"translate(290.107658 239.238438)scale(0.1 -0.1)\">\n       <defs>\n        <path d=\"M 37.796875 64.3125 \nL 12.890625 25.390625 \nL 37.796875 25.390625 \nz\nM 35.203125 72.90625 \nL 47.609375 72.90625 \nL 47.609375 25.390625 \nL 58.015625 25.390625 \nL 58.015625 17.1875 \nL 47.609375 17.1875 \nL 47.609375 0 \nL 37.796875 0 \nL 37.796875 17.1875 \nL 4.890625 17.1875 \nL 4.890625 26.703125 \nz\n\" id=\"DejaVuSans-52\"/>\n       </defs>\n       <use xlink:href=\"#DejaVuSans-52\"/>\n       <use x=\"63.623047\" xlink:href=\"#DejaVuSans-48\"/>\n       <use x=\"127.246094\" xlink:href=\"#DejaVuSans-48\"/>\n      </g>\n     </g>\n    </g>\n    <g id=\"xtick_6\">\n     <g id=\"line2d_6\">\n      <g>\n       <use style=\"stroke:#000000;stroke-width:0.8;\" x=\"361.139011\" xlink:href=\"#m94e78843e7\" y=\"224.64\"/>\n      </g>\n     </g>\n     <g id=\"text_6\">\n      <!-- 500 -->\n      <g transform=\"translate(351.595261 239.238438)scale(0.1 -0.1)\">\n       <defs>\n        <path d=\"M 10.796875 72.90625 \nL 49.515625 72.90625 \nL 49.515625 64.59375 \nL 19.828125 64.59375 \nL 19.828125 46.734375 \nQ 21.96875 47.46875 24.109375 47.828125 \nQ 26.265625 48.1875 28.421875 48.1875 \nQ 40.625 48.1875 47.75 41.5 \nQ 54.890625 34.8125 54.890625 23.390625 \nQ 54.890625 11.625 47.5625 5.09375 \nQ 40.234375 -1.421875 26.90625 -1.421875 \nQ 22.3125 -1.421875 17.546875 -0.640625 \nQ 12.796875 0.140625 7.71875 1.703125 \nL 7.71875 11.625 \nQ 12.109375 9.234375 16.796875 8.0625 \nQ 21.484375 6.890625 26.703125 6.890625 \nQ 35.15625 6.890625 40.078125 11.328125 \nQ 45.015625 15.765625 45.015625 23.390625 \nQ 45.015625 31 40.078125 35.4375 \nQ 35.15625 39.890625 26.703125 39.890625 \nQ 22.75 39.890625 18.8125 39.015625 \nQ 14.890625 38.140625 10.796875 36.28125 \nz\n\" id=\"DejaVuSans-53\"/>\n       </defs>\n       <use xlink:href=\"#DejaVuSans-53\"/>\n       <use x=\"63.623047\" xlink:href=\"#DejaVuSans-48\"/>\n       <use x=\"127.246094\" xlink:href=\"#DejaVuSans-48\"/>\n      </g>\n     </g>\n    </g>\n   </g>\n   <g id=\"matplotlib.axis_2\">\n    <g id=\"ytick_1\">\n     <g id=\"line2d_7\">\n      <defs>\n       <path d=\"M 0 0 \nL -3.5 0 \n\" id=\"me66b1818ff\" style=\"stroke:#000000;stroke-width:0.8;\"/>\n      </defs>\n      <g>\n       <use style=\"stroke:#000000;stroke-width:0.8;\" x=\"38.482813\" xlink:href=\"#me66b1818ff\" y=\"196.303847\"/>\n      </g>\n     </g>\n     <g id=\"text_7\">\n      <!-- −6.0 -->\n      <g transform=\"translate(7.2 200.103066)scale(0.1 -0.1)\">\n       <defs>\n        <path d=\"M 10.59375 35.5 \nL 73.1875 35.5 \nL 73.1875 27.203125 \nL 10.59375 27.203125 \nz\n\" id=\"DejaVuSans-8722\"/>\n        <path d=\"M 33.015625 40.375 \nQ 26.375 40.375 22.484375 35.828125 \nQ 18.609375 31.296875 18.609375 23.390625 \nQ 18.609375 15.53125 22.484375 10.953125 \nQ 26.375 6.390625 33.015625 6.390625 \nQ 39.65625 6.390625 43.53125 10.953125 \nQ 47.40625 15.53125 47.40625 23.390625 \nQ 47.40625 31.296875 43.53125 35.828125 \nQ 39.65625 40.375 33.015625 40.375 \nz\nM 52.59375 71.296875 \nL 52.59375 62.3125 \nQ 48.875 64.0625 45.09375 64.984375 \nQ 41.3125 65.921875 37.59375 65.921875 \nQ 27.828125 65.921875 22.671875 59.328125 \nQ 17.53125 52.734375 16.796875 39.40625 \nQ 19.671875 43.65625 24.015625 45.921875 \nQ 28.375 48.1875 33.59375 48.1875 \nQ 44.578125 48.1875 50.953125 41.515625 \nQ 57.328125 34.859375 57.328125 23.390625 \nQ 57.328125 12.15625 50.6875 5.359375 \nQ 44.046875 -1.421875 33.015625 -1.421875 \nQ 20.359375 -1.421875 13.671875 8.265625 \nQ 6.984375 17.96875 6.984375 36.375 \nQ 6.984375 53.65625 15.1875 63.9375 \nQ 23.390625 74.21875 37.203125 74.21875 \nQ 40.921875 74.21875 44.703125 73.484375 \nQ 48.484375 72.75 52.59375 71.296875 \nz\n\" id=\"DejaVuSans-54\"/>\n        <path d=\"M 10.6875 12.40625 \nL 21 12.40625 \nL 21 0 \nL 10.6875 0 \nz\n\" id=\"DejaVuSans-46\"/>\n       </defs>\n       <use xlink:href=\"#DejaVuSans-8722\"/>\n       <use x=\"83.789062\" xlink:href=\"#DejaVuSans-54\"/>\n       <use x=\"147.412109\" xlink:href=\"#DejaVuSans-46\"/>\n       <use x=\"179.199219\" xlink:href=\"#DejaVuSans-48\"/>\n      </g>\n     </g>\n    </g>\n    <g id=\"ytick_2\">\n     <g id=\"line2d_8\">\n      <g>\n       <use style=\"stroke:#000000;stroke-width:0.8;\" x=\"38.482813\" xlink:href=\"#me66b1818ff\" y=\"160.781618\"/>\n      </g>\n     </g>\n     <g id=\"text_8\">\n      <!-- −5.5 -->\n      <g transform=\"translate(7.2 164.580837)scale(0.1 -0.1)\">\n       <use xlink:href=\"#DejaVuSans-8722\"/>\n       <use x=\"83.789062\" xlink:href=\"#DejaVuSans-53\"/>\n       <use x=\"147.412109\" xlink:href=\"#DejaVuSans-46\"/>\n       <use x=\"179.199219\" xlink:href=\"#DejaVuSans-53\"/>\n      </g>\n     </g>\n    </g>\n    <g id=\"ytick_3\">\n     <g id=\"line2d_9\">\n      <g>\n       <use style=\"stroke:#000000;stroke-width:0.8;\" x=\"38.482813\" xlink:href=\"#me66b1818ff\" y=\"125.259389\"/>\n      </g>\n     </g>\n     <g id=\"text_9\">\n      <!-- −5.0 -->\n      <g transform=\"translate(7.2 129.058608)scale(0.1 -0.1)\">\n       <use xlink:href=\"#DejaVuSans-8722\"/>\n       <use x=\"83.789062\" xlink:href=\"#DejaVuSans-53\"/>\n       <use x=\"147.412109\" xlink:href=\"#DejaVuSans-46\"/>\n       <use x=\"179.199219\" xlink:href=\"#DejaVuSans-48\"/>\n      </g>\n     </g>\n    </g>\n    <g id=\"ytick_4\">\n     <g id=\"line2d_10\">\n      <g>\n       <use style=\"stroke:#000000;stroke-width:0.8;\" x=\"38.482813\" xlink:href=\"#me66b1818ff\" y=\"89.73716\"/>\n      </g>\n     </g>\n     <g id=\"text_10\">\n      <!-- −4.5 -->\n      <g transform=\"translate(7.2 93.536378)scale(0.1 -0.1)\">\n       <use xlink:href=\"#DejaVuSans-8722\"/>\n       <use x=\"83.789062\" xlink:href=\"#DejaVuSans-52\"/>\n       <use x=\"147.412109\" xlink:href=\"#DejaVuSans-46\"/>\n       <use x=\"179.199219\" xlink:href=\"#DejaVuSans-53\"/>\n      </g>\n     </g>\n    </g>\n    <g id=\"ytick_5\">\n     <g id=\"line2d_11\">\n      <g>\n       <use style=\"stroke:#000000;stroke-width:0.8;\" x=\"38.482813\" xlink:href=\"#me66b1818ff\" y=\"54.21493\"/>\n      </g>\n     </g>\n     <g id=\"text_11\">\n      <!-- −4.0 -->\n      <g transform=\"translate(7.2 58.014149)scale(0.1 -0.1)\">\n       <use xlink:href=\"#DejaVuSans-8722\"/>\n       <use x=\"83.789062\" xlink:href=\"#DejaVuSans-52\"/>\n       <use x=\"147.412109\" xlink:href=\"#DejaVuSans-46\"/>\n       <use x=\"179.199219\" xlink:href=\"#DejaVuSans-48\"/>\n      </g>\n     </g>\n    </g>\n    <g id=\"ytick_6\">\n     <g id=\"line2d_12\">\n      <g>\n       <use style=\"stroke:#000000;stroke-width:0.8;\" x=\"38.482813\" xlink:href=\"#me66b1818ff\" y=\"18.692701\"/>\n      </g>\n     </g>\n     <g id=\"text_12\">\n      <!-- −3.5 -->\n      <g transform=\"translate(7.2 22.49192)scale(0.1 -0.1)\">\n       <use xlink:href=\"#DejaVuSans-8722\"/>\n       <use x=\"83.789062\" xlink:href=\"#DejaVuSans-51\"/>\n       <use x=\"147.412109\" xlink:href=\"#DejaVuSans-46\"/>\n       <use x=\"179.199219\" xlink:href=\"#DejaVuSans-53\"/>\n      </g>\n     </g>\n    </g>\n   </g>\n   <g id=\"line2d_13\">\n    <path clip-path=\"url(#p54e2d2dd1e)\" d=\"M 53.700994 17.083636 \nL 56.775374 104.906823 \nL 59.849755 148.790566 \nL 62.924135 167.324254 \nL 65.998515 175.335132 \nL 69.072895 188.728106 \nL 72.147275 190.459027 \nL 75.221655 195.644066 \nL 78.296036 199.81326 \nL 81.370416 203.701424 \nL 84.444796 203.3362 \nL 87.519176 205.755941 \nL 90.593556 206.896643 \nL 93.667936 207.635016 \nL 96.742317 209.511043 \nL 99.816697 209.277186 \nL 102.891077 207.279636 \nL 105.965457 210.47698 \nL 109.039837 209.231305 \nL 112.114217 209.673557 \nL 115.188598 205.484424 \nL 118.262978 210.729013 \nL 121.337358 207.732317 \nL 124.411738 211.59268 \nL 127.486118 208.912329 \nL 130.560498 207.178916 \nL 133.634879 211.439547 \nL 136.709259 208.797821 \nL 139.783639 210.262474 \nL 142.858019 209.241776 \nL 145.932399 208.082867 \nL 149.006779 209.640772 \nL 152.08116 211.217009 \nL 155.15554 209.182731 \nL 158.22992 213.516093 \nL 161.3043 211.233414 \nL 164.37868 211.370594 \nL 167.45306 211.402611 \nL 170.527441 211.779076 \nL 173.601821 211.777435 \nL 176.676201 210.959347 \nL 179.750581 212.414051 \nL 182.824961 212.327426 \nL 185.899341 207.048975 \nL 188.973722 210.854233 \nL 192.048102 210.622176 \nL 195.122482 210.223052 \nL 198.196862 212.050634 \nL 201.271242 212.852723 \nL 204.345622 212.908099 \nL 207.420003 211.49942 \nL 210.494383 212.78523 \nL 213.568763 210.615216 \nL 216.643143 211.033986 \nL 219.717523 208.958134 \nL 222.791903 210.478692 \nL 225.866284 209.456012 \nL 228.940664 211.413034 \nL 232.015044 211.72906 \nL 235.089424 205.909573 \nL 238.163804 212.751263 \nL 241.238184 213.28926 \nL 244.312565 213.853756 \nL 247.386945 211.639725 \nL 250.461325 213.481486 \nL 253.535705 210.911665 \nL 256.610085 209.018064 \nL 259.684465 204.831802 \nL 262.758846 211.871648 \nL 265.833226 212.786217 \nL 268.907606 212.221131 \nL 271.981986 214.756364 \nL 275.056366 212.729349 \nL 278.130746 212.161466 \nL 281.205127 211.21688 \nL 284.279507 213.039277 \nL 287.353887 213.321603 \nL 290.428267 212.114603 \nL 293.502647 212.831904 \nL 296.577027 209.995444 \nL 299.651408 211.344203 \nL 302.725788 214.250962 \nL 305.800168 212.367369 \nL 308.874548 212.415597 \nL 311.948928 209.163459 \nL 315.023308 212.555495 \nL 318.097689 212.962207 \nL 321.172069 212.827744 \nL 324.246449 209.47389 \nL 327.320829 197.435775 \nL 330.395209 213.932916 \nL 333.469589 213.5071 \nL 336.54397 212.578113 \nL 339.61835 213.787203 \nL 342.69273 211.483562 \nL 345.76711 212.615947 \nL 348.84149 213.58427 \nL 351.91587 214.330699 \nL 354.990251 212.939059 \nL 358.064631 212.823489 \n\" style=\"fill:none;stroke:#1f77b4;stroke-linecap:square;stroke-width:1.5;\"/>\n   </g>\n   <g id=\"patch_3\">\n    <path d=\"M 38.482813 224.64 \nL 38.482813 7.2 \n\" style=\"fill:none;stroke:#000000;stroke-linecap:square;stroke-linejoin:miter;stroke-width:0.8;\"/>\n   </g>\n   <g id=\"patch_4\">\n    <path d=\"M 373.282813 224.64 \nL 373.282813 7.2 \n\" style=\"fill:none;stroke:#000000;stroke-linecap:square;stroke-linejoin:miter;stroke-width:0.8;\"/>\n   </g>\n   <g id=\"patch_5\">\n    <path d=\"M 38.482813 224.64 \nL 373.282812 224.64 \n\" style=\"fill:none;stroke:#000000;stroke-linecap:square;stroke-linejoin:miter;stroke-width:0.8;\"/>\n   </g>\n   <g id=\"patch_6\">\n    <path d=\"M 38.482813 7.2 \nL 373.282812 7.2 \n\" style=\"fill:none;stroke:#000000;stroke-linecap:square;stroke-linejoin:miter;stroke-width:0.8;\"/>\n   </g>\n  </g>\n </g>\n <defs>\n  <clipPath id=\"p54e2d2dd1e\">\n   <rect height=\"217.44\" width=\"334.8\" x=\"38.482813\" y=\"7.2\"/>\n  </clipPath>\n </defs>\n</svg>\n",
      "image/png": "[encoded data removed]"
     },
     "metadata": {
      "needs_background": "light"
     }
    }
   ],
   "source": [
    "plt.plot(I,E)"
   ]
  },
  {
   "cell_type": "code",
   "execution_count": 92,
   "metadata": {},
   "outputs": [
    {
     "output_type": "stream",
     "name": "stdout",
     "text": [
      "[[1. 0. 1. 0. 1. 1.]\n [1. 0. 1. 0. 1. 1.]\n [1. 1. 1. 0. 1. 0.]\n [1. 0. 1. 0. 1. 1.]\n [1. 0. 1. 0. 1. 1.]\n [1. 1. 1. 0. 0. 1.]] 195\n"
     ]
    }
   ],
   "source": [
    "i=0\n",
    "while (vmc._samples[-i]==vmc._samples[-1]).all():\n",
    "    i+=1\n",
    "print(vmc._samples[-i], i)"
   ]
  }
 ]
}